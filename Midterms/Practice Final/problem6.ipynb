{
 "cells": [
  {
   "cell_type": "markdown",
   "metadata": {
    "deletable": false,
    "editable": false,
    "nbgrader": {
     "grade": false,
     "grade_id": "cell-95547b0d46db0665",
     "locked": true,
     "schema_version": 1,
     "solution": false
    }
   },
   "source": [
    "# Problem 6\n",
    "\n",
    "In this problem, you will write code to \"parse\" a restricted form of SQL queries. These exercises are about string processing and regular expressions. There are five (5) exercises, numbered 0-4, which are worth a total of ten (10) points."
   ]
  },
  {
   "cell_type": "code",
   "execution_count": 1,
   "metadata": {
    "collapsed": true,
    "deletable": false,
    "editable": false,
    "nbgrader": {
     "grade": false,
     "grade_id": "cell-8bdacbbe5933030e",
     "locked": true,
     "schema_version": 1,
     "solution": false
    }
   },
   "outputs": [],
   "source": [
    "from IPython.display import display\n",
    "\n",
    "import re\n",
    "import pandas as pd\n",
    "\n",
    "# Random number generation for generating test cases:\n",
    "from random import randrange, randint, choice, sample"
   ]
  },
  {
   "cell_type": "markdown",
   "metadata": {
    "deletable": false,
    "editable": false,
    "nbgrader": {
     "grade": false,
     "grade_id": "cell-547a5e78dc5c8da9",
     "locked": true,
     "schema_version": 1,
     "solution": false
    }
   },
   "source": [
    "**Background: SQL review.** Suppose you have two SQL tables, `OneTable` and `AnotherTable`, and you wish to perform an inner-join on that links a column named `ColA` in `OneTable` with `ColB` in `AnotherTable`. Recall that one simple way to do that in SQL would be:\n",
    "\n",
    "```SQL\n",
    "    SELECT * FROM OneTable, AnotherTable\n",
    "        WHERE OneTable.ColA = AnotherTable.ColB\n",
    "```"
   ]
  },
  {
   "cell_type": "markdown",
   "metadata": {
    "deletable": false,
    "editable": false,
    "nbgrader": {
     "grade": false,
     "grade_id": "cell-766e9020a27cf85a",
     "locked": true,
     "schema_version": 1,
     "solution": false
    }
   },
   "source": [
    "Or, consider the following more complex example. Suppose you have an additional table named `YetAThird` and you wish to extend the inner-join to include matches between its column, `ColC`, and a second column from `AnotherTable` named `ColB2`:\n",
    "\n",
    "```SQL\n",
    "    SELECT * FROM OneTable, AnotherTable, YetAThird\n",
    "        WHERE OneTable.ColA = AnotherTable.ColB AND AnotherTable.ColB2 = YetAThird.ColC\n",
    "```"
   ]
  },
  {
   "cell_type": "markdown",
   "metadata": {
    "deletable": false,
    "editable": false,
    "nbgrader": {
     "grade": false,
     "grade_id": "cell-03fc9bc5335821ff",
     "locked": true,
     "schema_version": 1,
     "solution": false
    }
   },
   "source": [
    "**Exercise 0** (2 points). Suppose you are given a string containing an SQL query in the restricted form,\n",
    "\n",
    "```SQL\n",
    "    SELECT * FROM [tbls] WHERE [conds]\n",
    "```\n",
    "\n",
    "Implement the function, **`split_simple_join(q)`**, so that it takes a query string **`q`** in the form shown above and **returns a pair of substrings** corresponding to `[tbls]` and `[conds]`.\n",
    "\n",
    "For example, if\n",
    "\n",
    "```python\n",
    "    q == \"\"\"SELECT * FROM OneTable, AnotherTable, YetAThird\n",
    "              WHERE OneTable.ColA = AnotherTable.ColB AND AnotherTable.ColB2=YetAThird.ColC\"\"\"\n",
    "```\n",
    "\n",
    "then\n",
    "\n",
    "```python\n",
    "    split_simple_join(q) == (\"OneTable, AnotherTable, YetAThird\",\n",
    "                             \"OneTable.ColA = AnotherTable.ColB AND AnotherTable.ColB2=YetAThird.ColC\")\n",
    "```\n",
    "\n",
    "**IMPORTANT NOTE!** In this problem, you only need to return the substring between `FROM` and `WHERE` and the one after `WHERE`. You will extract the table names and conditions later on, below.\n",
    "\n",
    "You should make the following assumptions:\n",
    "\n",
    "* The input string `q` contains exactly one such query, with no nesting of queries (e.g., no instances of `\"SELECT * FROM (SELECT ...)\"`). However, the query may (or may not) be a multiline string as shown in the example. (Treat newlines as whitespace.)\n",
    "* Your function should ignore any leading or trailing whitespace around the SQL keywords, e.g., `SELECT`, `FROM`, and `WHERE`.\n",
    "* The substring between `SELECT` and `FROM` will be any amount of whitespace, followed by an asterisk (`*`). \n",
    "* You should **not** treat the SQL keywords in a case-sensitive way; for example, you would regard `SELECT`, `select`, and `sElEct` as the same. However, do **not** change or ignore the case of the non-SQL keywords.\n",
    "* The `[tbls]` substring contains only a simple list of table names and no other substrings that might be interpreted as SQL keywords.\n",
    "* The `[conds]` substring contains only table and column names (e.g., `OneTable.ColA`), the equal sign, the `AND` SQL keyword, and whitespace, but no other SQL keywords or symbols.\n",
    "\n",
    "> Assuming you are using regular expressions for this problem, recall that you can pass [`re.VERBOSE`](https://docs.python.org/3/library/re.html#re.VERBOSE) when writing a multiline regex pattern."
   ]
  },
  {
   "cell_type": "code",
   "execution_count": 4,
   "metadata": {
    "nbgrader": {
     "grade": false,
     "grade_id": "split_simple_join",
     "locked": false,
     "schema_version": 1,
     "solution": true
    }
   },
   "outputs": [
    {
     "name": "stdout",
     "output_type": "stream",
     "text": [
      "('OneTable, AnotherTable, YetAThird', 'OneTable.ColA = AnotherTable.ColB AND AnotherTable.ColB2=YetAThird.ColC')\n"
     ]
    }
   ],
   "source": [
    "def split_simple_join(q):\n",
    "    assert type(q) is str\n",
    "    match = re.match(r\"\"\"\\s*[sS][eE][lL][eE][cC][tT]\\s+\\*\n",
    "                         \\s+[fF][rR][oO][mM]\\s+(.*)\n",
    "                         \\s+[wW][hH][eE][rR][eE]\\s+(.*)\n",
    "                         \\s*\"\"\",\n",
    "                     q,\n",
    "                     re.VERBOSE)\n",
    "    assert match is not None\n",
    "    return match.groups()[0],match.groups()[1]\n",
    "    \n",
    "# Demo\n",
    "q_demo = \"\"\"SELECT * FROM OneTable, AnotherTable, YetAThird\n",
    "              WHERE OneTable.ColA = AnotherTable.ColB AND AnotherTable.ColB2=YetAThird.ColC\"\"\"\n",
    "print(split_simple_join(q_demo))"
   ]
  },
  {
   "cell_type": "code",
   "execution_count": 7,
   "metadata": {
    "deletable": false,
    "editable": false,
    "nbgrader": {
     "grade": true,
     "grade_id": "split_simple_join_test1",
     "locked": true,
     "points": 1,
     "schema_version": 1,
     "solution": false
    }
   },
   "outputs": [
    {
     "name": "stdout",
     "output_type": "stream",
     "text": [
      "\n",
      "(Passed!)\n"
     ]
    }
   ],
   "source": [
    "# Test cell: `split_simple_join_test1`\n",
    "\n",
    "assert split_simple_join(q_demo) == \\\n",
    "           ('OneTable, AnotherTable, YetAThird',\n",
    "            'OneTable.ColA = AnotherTable.ColB AND AnotherTable.ColB2=YetAThird.ColC')\n",
    "print(\"\\n(Passed!)\")"
   ]
  },
  {
   "cell_type": "code",
   "execution_count": 11,
   "metadata": {
    "deletable": false,
    "editable": false,
    "nbgrader": {
     "grade": true,
     "grade_id": "split_simple_join_test2",
     "locked": true,
     "points": 1,
     "schema_version": 1,
     "solution": false
    }
   },
   "outputs": [
    {
     "name": "stdout",
     "output_type": "stream",
     "text": [
      "=== Test Statement 0 ===\n",
      "'''\tsElECT\n",
      "*\tfroM \n",
      "JSBvWa\t ,  txQRF_\t,spJoJH\t\n",
      "WHErE  \n",
      "JSBvWa.g=\t \n",
      "\n",
      "txQRF_.olpRHRe'''\n",
      "\n",
      "True 'FROM' clause substring: '''JSBvWa\t ,  txQRF_\t,spJoJH'''\n",
      "\n",
      "True 'WHERE' clause substring: '''JSBvWa.g=\t \n",
      "\n",
      "txQRF_.olpRHRe'''\n",
      "\n",
      "=== Test Statement 1 ===\n",
      "''' \t SeleCT\n",
      "* \n",
      "FrOM\tir \n",
      " ,\n",
      "\n",
      "ab3RbUGZBA \t\t,\n",
      "\ttce\n",
      "\t\twherE\ttce.pmEn\n",
      "  \t=\n",
      "ab3RbUGZBA.nq'''\n",
      "\n",
      "True 'FROM' clause substring: '''ir \n",
      " ,\n",
      "\n",
      "ab3RbUGZBA \t\t,\n",
      "\ttce'''\n",
      "\n",
      "True 'WHERE' clause substring: '''tce.pmEn\n",
      "  \t=\n",
      "ab3RbUGZBA.nq'''\n",
      "\n",
      "=== Test Statement 2 ===\n",
      "'''\t\n",
      " sEleCT\t\t*  fRoM \t Sp_mfA  \t, \n",
      "\n",
      "q94 \t\t,  \tEtspk_yQ\n",
      "\twheRe  Etspk_yQ._v3_Nw6n2G\n",
      " =\n",
      "\t Sp_mfA.VBLRICr\n",
      " AND  \tq94.X\t=Sp_mfA.VBLRICr\t  AND q94.w1k_W8iu=\n",
      "\n",
      "\tSp_mfA.c'''\n",
      "\n",
      "True 'FROM' clause substring: '''Sp_mfA  \t, \n",
      "\n",
      "q94 \t\t,  \tEtspk_yQ'''\n",
      "\n",
      "True 'WHERE' clause substring: '''Etspk_yQ._v3_Nw6n2G\n",
      " =\n",
      "\t Sp_mfA.VBLRICr\n",
      " AND  \tq94.X\t=Sp_mfA.VBLRICr\t  AND q94.w1k_W8iu=\n",
      "\n",
      "\tSp_mfA.c'''\n",
      "\n",
      "=== Test Statement 3 ===\n",
      "'''  sElECT\t*\n",
      "\t\n",
      "fROM  \tz2Ed6u,\n",
      "kg_zH\t\n",
      ",H\n",
      ",\tmg ,\tXOiXorgWZZ\n",
      "\n",
      "wHeRE \tz2Ed6u.J8UNxkON=\t\tmg._KphZz \n",
      " AND \n",
      "\tz2Ed6u.DGD\n",
      "\t =\n",
      "\tmg.jHX0iCx8o3\t  AND  mg._KphZz=\n",
      " \n",
      "kg_zH.ffxBTU'''\n",
      "\n",
      "True 'FROM' clause substring: '''z2Ed6u,\n",
      "kg_zH\t\n",
      ",H\n",
      ",\tmg ,\tXOiXorgWZZ'''\n",
      "\n",
      "True 'WHERE' clause substring: '''z2Ed6u.J8UNxkON=\t\tmg._KphZz \n",
      " AND \n",
      "\tz2Ed6u.DGD\n",
      "\t =\n",
      "\tmg.jHX0iCx8o3\t  AND  mg._KphZz=\n",
      " \n",
      "kg_zH.ffxBTU'''\n",
      "\n",
      "=== Test Statement 4 ===\n",
      "'''\t SElECT\n",
      " *\n",
      "FROm  \n",
      "tmM\n",
      " \n",
      ",stonmL_h\t wHERe \tstonmL_h.zlTAE\n",
      "= tmM.jaMkwGS_iX'''\n",
      "\n",
      "True 'FROM' clause substring: '''tmM\n",
      " \n",
      ",stonmL_h'''\n",
      "\n",
      "True 'WHERE' clause substring: '''stonmL_h.zlTAE\n",
      "= tmM.jaMkwGS_iX'''\n",
      "\n",
      "\n",
      "(Passed!)\n"
     ]
    }
   ],
   "source": [
    "# Test cell: `split_simple_join_test2`\n",
    "\n",
    "__SQL = {'SELECT', 'FROM', 'WHERE'} # SQL keywords\n",
    "\n",
    "# Different character classes\n",
    "__ALPHA = 'abcdefghijklmnopqrstuvwxyzABCDEFGHIJKLMNOPQRSTUVWXYZ_'\n",
    "__ALPHA_VARS = __ALPHA + '_'\n",
    "__NUM = '0123456789'\n",
    "__ALPHA_NUM_VARS = __ALPHA_VARS + __NUM\n",
    "__DOT = '.'\n",
    "__SPACES = ' \\t\\n'\n",
    "__EQ = '='\n",
    "__ALL = __ALPHA_NUM_VARS + __DOT + __SPACES + __EQ\n",
    "\n",
    "def flip_coin():\n",
    "    from random import choice\n",
    "    return choice([True, False])\n",
    "\n",
    "def rand_str(k_min, k_max, alphabet):\n",
    "    \"\"\"\n",
    "    Returns a random string of `k` letters chosen uniformly from\n",
    "    from `alphabet` with replacement, where `k_min <= k <= k_max`\n",
    "    where `k` is also chosen uniformly at random.\n",
    "    \"\"\"\n",
    "    assert k_max >= k_min >= 0\n",
    "    k = k_min + randint(0, k_max-k_min)\n",
    "    return ''.join([choice(alphabet) for _ in range(k)])\n",
    "\n",
    "def rand_spaces(k_max, k_min=0):\n",
    "    assert k_max >= k_min >= 0\n",
    "    return rand_str(k_min, k_max, __SPACES)\n",
    "\n",
    "def rand_case(s):\n",
    "    \"\"\"Randomly changes the case of each letter in a string.\"\"\"\n",
    "    return ''.join([c.upper() if flip_coin() else c.lower() for c in s])\n",
    "\n",
    "def rand_var(k_min=1, k_max=10):\n",
    "    assert k_max >= k_min >= 1\n",
    "    s = choice(__ALPHA_VARS)\n",
    "    s += rand_str(k_min-1, k_max-1, __ALPHA_NUM_VARS)\n",
    "    if s.upper() in __SQL: # Don't generate keywords -- try again\n",
    "        return rand_var(k_min, k_max)\n",
    "    return s\n",
    "\n",
    "def rand_vars(k_min, k_max):\n",
    "    V = set()\n",
    "    dk = randint(0, k_max-k_min)\n",
    "    for k in range(k_min + dk + 1):\n",
    "        v = rand_var()\n",
    "        V.add(v)\n",
    "    return V\n",
    "\n",
    "def rand_table(max_cols):\n",
    "    table = rand_var()\n",
    "    columns = rand_vars(1, max_cols)\n",
    "    return (table, columns)\n",
    "\n",
    "def rand_tables(k_min, k_max, c_max=4):\n",
    "    assert k_max >= k_min >= 1\n",
    "    num_tables = k_min + randint(0, k_max-k_min)\n",
    "    tables = {}\n",
    "    for _ in range(num_tables):\n",
    "        table, columns = rand_table(c_max)\n",
    "        while table in tables:\n",
    "            table, columns = rand_table(v_max, c_max)\n",
    "        tables = {**tables, **{table: columns}}\n",
    "    return tables\n",
    "\n",
    "def rand_field(table_name, col_names):\n",
    "    return table_name + \".\" + choice(list(col_names))\n",
    "\n",
    "def rand_cond(tables):\n",
    "    assert type(tables) is dict\n",
    "    assert len(tables) >= 2\n",
    "    a, b = sample(tables.keys(), 2)\n",
    "    a_col = rand_field(a, tables[a])\n",
    "    b_col = rand_field(b, tables[b])\n",
    "    return (a_col, b_col)\n",
    "\n",
    "def rand_cond_set(tables, k_min, k_max):\n",
    "    k = k_min + randint(0, k_max-k_min)\n",
    "    conds = set()\n",
    "    while len(conds) < k:\n",
    "        (a, b) = rand_cond(tables)\n",
    "        if ((a, b) not in conds) and ((b, a) not in conds):\n",
    "            conds.add((a, b))\n",
    "    return conds\n",
    "\n",
    "def cond_set_to_substrs(conds, max_wspad=4):\n",
    "    substrs = []\n",
    "    for a, b in conds:\n",
    "        s = \"{}{}{}{}{}\".format(a,\n",
    "                                rand_spaces(max_wspad),\n",
    "                                __EQ,\n",
    "                                rand_spaces(max_wspad),\n",
    "                                b)\n",
    "        substrs.append(s)\n",
    "    return substrs\n",
    "\n",
    "def substrs_to_str(substrings, sep=',', max_wspad=4):\n",
    "    s_final = ''\n",
    "    for k, s in enumerate(substrings):\n",
    "        if k > 0:\n",
    "            s_final += rand_spaces(max_wspad) + sep + rand_spaces(max_wspad)\n",
    "        s_final += s\n",
    "    return s_final\n",
    "\n",
    "def rand_query_ans(max_tables, max_conds, max_wspad=4):\n",
    "    tables = rand_tables(2, max_tables)\n",
    "    cond_set = rand_cond_set(tables, 1, 4)\n",
    "    return tables, cond_set\n",
    "\n",
    "def pad_1(max_wspad):\n",
    "    return rand_spaces(max(1, max_wspad), 1)\n",
    "\n",
    "def form_select(max_wspad=4):\n",
    "    return pad_1(max_wspad) + rand_case(\"SELECT\") + pad_1(max_wspad) + \"*\"\n",
    "\n",
    "def form_from(tables, max_wspad=4):\n",
    "    from_ans = substrs_to_str(list(tables.keys()), sep=',', max_wspad=max_wspad)\n",
    "    return pad_1(max_wspad) + rand_case(\"FROM\") + pad_1(max_wspad) + from_ans, from_ans\n",
    "\n",
    "def form_where(cond_set, max_wspad=4):\n",
    "    cond_substrs = cond_set_to_substrs(cond_set)\n",
    "    cond_ans = substrs_to_str(cond_substrs, sep=' AND ', max_wspad=max_wspad)\n",
    "    return pad_1(max_wspad) + rand_case(\"WHERE\") + pad_1(max_wspad) + cond_ans, cond_ans\n",
    "\n",
    "def form_query_str(tables, cond_set, max_wspad=4):\n",
    "    select_clause = form_select(max_wspad)\n",
    "    from_clause, from_ans = form_from(tables, max_wspad)\n",
    "    where_clause, cond_ans = form_where(cond_set, max_wspad)\n",
    "    query = select_clause + from_clause + where_clause\n",
    "    return query, from_ans, cond_ans\n",
    "\n",
    "def split_simple_join_battery(num_tests, max_wspad=4):\n",
    "    for k in range(num_tests):\n",
    "        tables, cond_set = rand_query_ans(5, 5, max_wspad)\n",
    "        qstmt, from_ans, where_ans = form_query_str(tables, cond_set, max_wspad)\n",
    "        print(\"=== Test Statement {} ===\\n'''{}'''\\n\".format(k, qstmt))\n",
    "        print(\"True 'FROM' clause substring: '''{}'''\\n\".format(from_ans))\n",
    "        print(\"True 'WHERE' clause substring: '''{}'''\\n\".format(where_ans))\n",
    "    \n",
    "split_simple_join_battery(5, 3)\n",
    "\n",
    "print(\"\\n(Passed!)\")"
   ]
  },
  {
   "cell_type": "markdown",
   "metadata": {
    "deletable": false,
    "editable": false,
    "nbgrader": {
     "grade": false,
     "grade_id": "cell-4096fa783ea56068",
     "locked": true,
     "schema_version": 1,
     "solution": false
    }
   },
   "source": [
    "**Variable names.** For this problem, let a valid _variable name_ be a sequence of alphanumeric characters or underscores, where the very first character _cannot_ be a number. For example,\n",
    "\n",
    "    some_variable\n",
    "    __another_VariAble\n",
    "    Yet_a_3rd_var\n",
    "    _A_CSE_6040_inspired_var\n",
    "    \n",
    "are all valid variable names, whereas the following are not.\n",
    "\n",
    "    123var_is_bad\n",
    "    0_is_not_good_either\n",
    "    4goodnessSakeStopItAlready"
   ]
  },
  {
   "cell_type": "markdown",
   "metadata": {
    "deletable": false,
    "editable": false,
    "nbgrader": {
     "grade": false,
     "grade_id": "cell-4cbb6f325bbf577e",
     "locked": true,
     "schema_version": 1,
     "solution": false
    }
   },
   "source": [
    "**Exercise 1** (2 points). Implement a function, **`is_var(s)`**, that checks whether a valid variable name. That is, it should return `True` if and only if `s` is valid according to the above definition. Your function should ignore any leading or trailing spaces in `s`.\n",
    "\n",
    "For example:\n",
    "\n",
    "```python\n",
    "    assert is_var(\"__another_VariAble\")\n",
    "    assert not is_var(\"0_is_not_good_either\")\n",
    "    assert is_var(\"   foo\")\n",
    "    assert is_var(\"_A_CSE_6040_inspired_var   \")\n",
    "    assert not is_var(\"#getMe2\")\n",
    "    assert is_var(\"   Yet_a_3rd_var  \")\n",
    "    assert not is_var(\"123var_is_bad\")\n",
    "    assert not is_var(\"  A.okay\")\n",
    "```"
   ]
  },
  {
   "cell_type": "code",
   "execution_count": 13,
   "metadata": {
    "nbgrader": {
     "grade": false,
     "grade_id": "is_var",
     "locked": false,
     "schema_version": 1,
     "solution": true
    }
   },
   "outputs": [],
   "source": [
    "def is_var(s):\n",
    "    assert type(s) is str\n",
    "    matches = re.match(\"\"\"^\\s*        # Leading spaces\n",
    "                          (\n",
    "                           [a-zA-Z_]  # Start of variable\n",
    "                           \\w*        # Remaining...\n",
    "                          )\n",
    "                          \\s*$        # Trailing spaces\n",
    "                       \"\"\", s, re.VERBOSE)\n",
    "    return matches is not None\n"
   ]
  },
  {
   "cell_type": "code",
   "execution_count": 14,
   "metadata": {
    "deletable": false,
    "editable": false,
    "nbgrader": {
     "grade": true,
     "grade_id": "is_var_test0",
     "locked": true,
     "points": 1,
     "schema_version": 1,
     "solution": false
    }
   },
   "outputs": [
    {
     "name": "stdout",
     "output_type": "stream",
     "text": [
      "\n",
      "(Passed part 1 of 2.)\n"
     ]
    }
   ],
   "source": [
    "# Test cell, part 1: `is_var_test0`\n",
    "\n",
    "assert is_var(\"__another_VariAble\")\n",
    "assert not is_var(\"0_is_not_good_either\")\n",
    "assert is_var(\"   foo\")\n",
    "assert is_var(\"_A_CSE_6040_inspired_var   \")\n",
    "assert not is_var(\"#getMe2\")\n",
    "assert is_var(\"   Yet_a_3rd_var  \")\n",
    "assert not is_var(\"123var_is_bad\")\n",
    "assert not is_var(\"  A.okay\")\n",
    "\n",
    "print(\"\\n(Passed part 1 of 2.)\")"
   ]
  },
  {
   "cell_type": "code",
   "execution_count": 15,
   "metadata": {
    "deletable": false,
    "editable": false,
    "nbgrader": {
     "grade": true,
     "grade_id": "is_var_test1",
     "locked": true,
     "points": 1,
     "schema_version": 1,
     "solution": false
    }
   },
   "outputs": [
    {
     "name": "stdout",
     "output_type": "stream",
     "text": [
      "\n",
      "(Passed part 2 of 2.)\n"
     ]
    }
   ],
   "source": [
    "# Test cell: `is_var_test2`\n",
    "\n",
    "for v in rand_vars(20, 30):\n",
    "    ans = flip_coin()\n",
    "    if not ans:\n",
    "        v = choice(__NUM) + v\n",
    "    v = rand_spaces(3) + v + rand_spaces(3)\n",
    "    your_ans = is_var(v)\n",
    "    assert your_ans == ans, \"is_var('{}') == {} instead of {}.\".format(v, your_ans, ans)\n",
    "    \n",
    "print(\"\\n(Passed part 2 of 2.)\")"
   ]
  },
  {
   "cell_type": "markdown",
   "metadata": {},
   "source": [
    "**Column variables.** A _column variable_ consists of two valid variable names separated by a single period. For example,\n",
    "\n",
    "    A.okay\n",
    "    a32X844._387b\n",
    "    __C__.B3am\n",
    "    \n",
    "are all examples of column variables: in each case, the substrings to the left and right of the period are valid variables."
   ]
  },
  {
   "cell_type": "markdown",
   "metadata": {
    "deletable": false,
    "editable": false,
    "nbgrader": {
     "grade": false,
     "grade_id": "cell-9adc95893b02a9b3",
     "locked": true,
     "schema_version": 1,
     "solution": false
    }
   },
   "source": [
    "**Exercise 2** (1 point). Implement a function, **`is_col(s)`**, so that it returns `True` if and only if **`s`** is a column variable, per the definition above.\n",
    "\n",
    "For example:\n",
    "\n",
    "```python\n",
    "    assert is_col(\"A.okay\")\n",
    "    assert is_col(\"a32X844._387b\")\n",
    "    assert is_col(\"__C__.B3am\")\n",
    "    assert not is_col(\"123.abc\")\n",
    "    assert not is_col(\"abc.123\")\n",
    "```\n",
    "\n",
    "As with Exercise 1, your function should ignore any leading or trailing spaces."
   ]
  },
  {
   "cell_type": "code",
   "execution_count": 16,
   "metadata": {
    "collapsed": true,
    "nbgrader": {
     "grade": false,
     "grade_id": "is_col",
     "locked": false,
     "schema_version": 1,
     "solution": true
    }
   },
   "outputs": [],
   "source": [
    "def is_col(s):\n",
    "    ###\n",
    "    matches = re.match(\"\"\"^\\s*        # Leading spaces\n",
    "                          (\n",
    "                           [a-zA-Z_]  # Start of variable\n",
    "                           \\w*        # Remaining...\n",
    "                          )\n",
    "                          \\.          # Separator\n",
    "                          (\n",
    "                           [a-zA-Z_]  # Start of variable\n",
    "                           \\w*        # Remaining...\n",
    "                          )\n",
    "                          \\s*$        # Trailing spaces\n",
    "                       \"\"\", s, re.VERBOSE)\n",
    "    return matches is not None\n",
    "\n"
   ]
  },
  {
   "cell_type": "code",
   "execution_count": 17,
   "metadata": {
    "deletable": false,
    "editable": false,
    "nbgrader": {
     "grade": true,
     "grade_id": "is_col_test0",
     "locked": true,
     "points": 1,
     "schema_version": 1,
     "solution": false
    }
   },
   "outputs": [
    {
     "name": "stdout",
     "output_type": "stream",
     "text": [
      "\n",
      "(Passed part 1.)\n"
     ]
    }
   ],
   "source": [
    "# Test cell: `is_col_test0`\n",
    "\n",
    "assert is_col(\"A.okay\")\n",
    "assert is_col(\"a32X844._387b\")\n",
    "assert is_col(\"__C__.B3am\")\n",
    "assert not is_col(\"123.abc\")\n",
    "assert not is_col(\"abc.123\")\n",
    "\n",
    "print(\"\\n(Passed part 1.)\")"
   ]
  },
  {
   "cell_type": "code",
   "execution_count": 18,
   "metadata": {
    "deletable": false,
    "editable": false,
    "nbgrader": {
     "grade": true,
     "grade_id": "is_col_test1",
     "locked": true,
     "points": 1,
     "schema_version": 1,
     "solution": false
    }
   },
   "outputs": [
    {
     "name": "stdout",
     "output_type": "stream",
     "text": [
      "==> is_col(' \t\n",
      "fIry.K\t\t') == True\n",
      "==> is_col(' \t kAp4lnF0.38') == False\n",
      "==> is_col(' Qpb6XMFyvw.KdS2\n",
      "\t\n",
      "') == True\n",
      "==> is_col('\tSq1g0aT.3051  ') == False\n",
      "==> is_col(' 6.Hl6ylW8') == False\n",
      "==> is_col(' \t 4.19215 ') == False\n",
      "==> is_col('\n",
      "\tNxrc2AlRCY.dEUZNcc\t\n",
      "\n",
      "') == True\n",
      "==> is_col('\n",
      "0.lV\t\n",
      "') == False\n",
      "==> is_col('\n",
      "AMR_yO.Y\t') == True\n",
      "==> is_col('\t995.n9XPvqq') == False\n",
      "==> is_col('\t 94163.74409\t\n",
      " ') == False\n",
      "==> is_col('76270.1867') == False\n",
      "==> is_col('\t\n",
      " 3.x56G') == False\n",
      "==> is_col('ThBYGbmJ.885 \n",
      "') == False\n",
      "==> is_col('oI.8194') == False\n",
      "==> is_col('\n",
      "\n",
      "\twfVFaBc6U4.Y_M5 ') == True\n",
      "==> is_col('\t\t\tBB.p1k') == True\n",
      "==> is_col('\n",
      " apoFAbWi.A \n",
      "\t') == True\n",
      "==> is_col('\t48560.cnS\t\n",
      "\n",
      "') == False\n",
      "==> is_col(' \n",
      "46964.749') == False\n",
      "\n",
      "(Passed part 2.)\n"
     ]
    }
   ],
   "source": [
    "# Test cell: `is_col_test1`\n",
    "\n",
    "def test_is_col_1():\n",
    "    a = rand_var()\n",
    "    assert not is_col(a), \"is_col('{}') == {} instead of {}.\".format(a, is_col(a), False)\n",
    "    a_valid = flip_coin()\n",
    "    if not a_valid:\n",
    "        a = rand_str(1, 5, __NUM)\n",
    "    return a, a_valid\n",
    "\n",
    "for _ in range(20):\n",
    "    a, a_valid = test_is_col_1()\n",
    "    b, b_valid = test_is_col_1()\n",
    "    ans = a_valid and b_valid\n",
    "    \n",
    "    c = \"{}{}.{}{}\".format(rand_spaces(3), a, b, rand_spaces(3))\n",
    "    your_ans = is_col(c)\n",
    "    print(\"==> is_col('{}') == {}\".format(c, your_ans))\n",
    "    assert your_ans == ans\n",
    "\n",
    "print(\"\\n(Passed part 2.)\")"
   ]
  },
  {
   "cell_type": "markdown",
   "metadata": {
    "deletable": false,
    "editable": false,
    "nbgrader": {
     "grade": false,
     "grade_id": "cell-9c1950ffd7f697b1",
     "locked": true,
     "schema_version": 1,
     "solution": false
    }
   },
   "source": [
    "**Equality strings.** An _equality string_ is a string of the form,\n",
    "\n",
    "    A.x = B.y\n",
    "\n",
    "where `A.x` and `B.y` are _column variable_ names and `=` is an equals sign. There may be any amount of whitespace---including none---before or after each variable and the equals sign."
   ]
  },
  {
   "cell_type": "markdown",
   "metadata": {
    "deletable": false,
    "editable": false,
    "nbgrader": {
     "grade": false,
     "grade_id": "cell-3e77f57c4474bd19",
     "locked": true,
     "schema_version": 1,
     "solution": false
    }
   },
   "source": [
    "**Exercise 3** (2 points). Implement the function, **`extract_eqcols(s)`**, below. Given an input string **`s`**, if it is an equality string, your function should return a pair `(u, v)`, where `u` and `v` are the two column variables in the equality string. For example:\n",
    "\n",
    "```python\n",
    "    assert extract_eqcols(\"F3b._xyz =AB0_.def\") == (\"F3b._xyz\", \"AB0_.def\")\n",
    "```\n",
    "\n",
    "If `s` is not a valid equality string, then your function should return `None`."
   ]
  },
  {
   "cell_type": "code",
   "execution_count": 19,
   "metadata": {
    "nbgrader": {
     "grade": false,
     "grade_id": "extract_eqcols",
     "locked": false,
     "schema_version": 1,
     "solution": true
    }
   },
   "outputs": [
    {
     "name": "stdout",
     "output_type": "stream",
     "text": [
      "('F3b._xyz', 'AB0_.def')\n"
     ]
    }
   ],
   "source": [
    "def extract_eqcols(s):\n",
    "    ###\n",
    "    parts =s.split('=')\n",
    "    if len(parts)==2 and is_col(parts[0]) and is_col(parts[1]):\n",
    "        return (parts[0].strip(), parts[1].strip())\n",
    "    return None\n",
    "    ###\n",
    "    \n",
    "print(extract_eqcols(\"F3b._xyz =AB0_.def\"))"
   ]
  },
  {
   "cell_type": "code",
   "execution_count": 20,
   "metadata": {
    "deletable": false,
    "editable": false,
    "nbgrader": {
     "grade": true,
     "grade_id": "extract_eqcols0",
     "locked": true,
     "points": 1,
     "schema_version": 1,
     "solution": false
    }
   },
   "outputs": [
    {
     "name": "stdout",
     "output_type": "stream",
     "text": [
      "\n",
      "(Passed part 1 of 2.)\n"
     ]
    }
   ],
   "source": [
    "# Test cell: `extract_eqcols0`\n",
    "\n",
    "assert extract_eqcols(\"F3b._xyz =AB0_.def\") == (\"F3b._xyz\", \"AB0_.def\")\n",
    "assert extract_eqcols(\"0F3b._xyz =AB0_.def\") is None\n",
    "\n",
    "print(\"\\n(Passed part 1 of 2.)\")"
   ]
  },
  {
   "cell_type": "code",
   "execution_count": 21,
   "metadata": {
    "deletable": false,
    "editable": false,
    "nbgrader": {
     "grade": true,
     "grade_id": "extract_eqcols1",
     "locked": true,
     "points": 1,
     "schema_version": 1,
     "solution": false
    }
   },
   "outputs": [
    {
     "name": "stdout",
     "output_type": "stream",
     "text": [
      "==> Processing:\n",
      "'''u.n4Ts \t=sYFC9oGj.JkDJuy5'''\n",
      "\n",
      "    *** Found: ('u.n4Ts', 'sYFC9oGj.JkDJuy5') ***\n",
      "==> Processing:\n",
      "'''sYFC9oGj.JkDJuy5\n",
      "\t\t=\tu.arHSV0'''\n",
      "\n",
      "    *** Found: ('sYFC9oGj.JkDJuy5', 'u.arHSV0') ***\n",
      "==> Processing:\n",
      "'''sYFC9oGj.HrD7E6o  = \t\tu.n4Ts'''\n",
      "\n",
      "    *** Found: ('sYFC9oGj.HrD7E6o', 'u.n4Ts') ***\n",
      "==> Processing:\n",
      "'''NyI26vYM.Xsc\n",
      "=\n",
      "\n",
      "TzBBiglP2.B2v7'''\n",
      "\n",
      "    *** Found: ('NyI26vYM.Xsc', 'TzBBiglP2.B2v7') ***\n",
      "==> Processing:\n",
      "'''EFai.UJE3qOY5=\n",
      "kpxu8.N6WcNyu'''\n",
      "\n",
      "    *** Found: ('EFai.UJE3qOY5', 'kpxu8.N6WcNyu') ***\n",
      "==> Processing:\n",
      "'''EFai.gh  \t= \tkpxu8.IhJ'''\n",
      "\n",
      "    *** Found: ('EFai.gh', 'kpxu8.IhJ') ***\n",
      "==> Processing:\n",
      "'''EFai.gh=kpxu8.N'''\n",
      "\n",
      "    *** Found: ('EFai.gh', 'kpxu8.N') ***\n",
      "==> Processing:\n",
      "'''EFai.IQL4eBZa\t\n",
      "\n",
      "=\n",
      "\n",
      "kpxu8.IhJ'''\n",
      "\n",
      "    *** Found: ('EFai.IQL4eBZa', 'kpxu8.IhJ') ***\n",
      "==> Processing:\n",
      "'''i.XFYNyijhU\t\t =\t\tl4.pOW'''\n",
      "\n",
      "    *** Found: ('i.XFYNyijhU', 'l4.pOW') ***\n",
      "==> Processing:\n",
      "'''l4.pOW\n",
      " = \n",
      "\n",
      "i.fDeZ'''\n",
      "\n",
      "    *** Found: ('l4.pOW', 'i.fDeZ') ***\n",
      "==> Processing:\n",
      "'''BdS.TnscIdCHv  \n",
      "=\n",
      "\n",
      "qPkwol6.yajVbv'''\n",
      "\n",
      "    *** Found: ('BdS.TnscIdCHv', 'qPkwol6.yajVbv') ***\n",
      "==> Processing:\n",
      "'''BdS.pBdcwY_N=qPkwol6.yajVbv'''\n",
      "\n",
      "    *** Found: ('BdS.pBdcwY_N', 'qPkwol6.yajVbv') ***\n",
      "==> Processing:\n",
      "'''BdS.USZufSXqX\t \n",
      "=\tqPkwol6.yajVbv'''\n",
      "\n",
      "    *** Found: ('BdS.USZufSXqX', 'qPkwol6.yajVbv') ***\n",
      "\n",
      "(Passed part 2 of 2.)\n"
     ]
    }
   ],
   "source": [
    "# Test cell: `extract_eqcols1`\n",
    "\n",
    "for _ in range(5):\n",
    "    _, cond_set = rand_query_ans(2, 10, 5)\n",
    "    for a, b in cond_set:\n",
    "        s = a + rand_spaces(3) + __EQ + rand_spaces(3) + b\n",
    "        print(\"==> Processing:\\n'''{}'''\\n\".format(s))\n",
    "        ans = extract_eqcols(s)\n",
    "        print(\"    *** Found: {} ***\".format(ans))\n",
    "        assert ans is not None, \"Did not detect an equality string where there was one!\"\n",
    "        assert ans[0] == a and ans[1] == b, \"Returned {} instead of ({}, {})\".format(ans, a, b)\n",
    "\n",
    "print(\"\\n(Passed part 2 of 2.)\")"
   ]
  },
  {
   "cell_type": "markdown",
   "metadata": {
    "deletable": false,
    "editable": false,
    "nbgrader": {
     "grade": false,
     "grade_id": "cell-106b025066561080",
     "locked": true,
     "schema_version": 1,
     "solution": false
    }
   },
   "source": [
    "**Exercise 4** (2 points). Given an SQL query in the restricted form described above, write a function that extracts all of the join conditions from the `WHERE` clause. Name this fuction, **`extract_join_conds(q)`**, where `q` is the query string. It should return a list of pairs, where each pair `(a, b)` is the name of the left- and right-hand sides in one of these conditions.\n",
    "\n",
    "For example, suppose:\n",
    "\n",
    "```python\n",
    "    q == \"\"\"SELECT * FROM OneTable, AnotherTable, YetAThird\n",
    "              WHERE OneTable.ColA = AnotherTable.ColB AND AnotherTable.ColB2=YetAThird.ColC\"\"\"\n",
    "```\n",
    "\n",
    "Notice that the `WHERE` clause contains two conditions: `OneTable.ColA = AnotherTable.ColB` and `AnotherTable.ColB2=YetAThird.ColC`. Therefore, your function should return a list of two pairs,\n",
    "as follows:\n",
    "\n",
    "```python\n",
    "    extract_join_conds(q) == [(\"OneTable.ColA\", \"AnotherTable.ColB\"),\n",
    "                              (\"AnotherTable.ColB2\", \"YetAThird.ColC\")]\n",
    "```"
   ]
  },
  {
   "cell_type": "code",
   "execution_count": 24,
   "metadata": {
    "nbgrader": {
     "grade": false,
     "grade_id": "extract_join_conds",
     "locked": false,
     "schema_version": 1,
     "solution": true
    }
   },
   "outputs": [
    {
     "name": "stdout",
     "output_type": "stream",
     "text": [
      "==> Query:\n",
      "\t'SELECT * FROM OneTable, AnotherTable, YetAThird\n",
      "              WHERE OneTable.ColA = AnotherTable.ColB AND AnotherTable.ColB2=YetAThird.ColC'\n",
      "\n",
      "==> Results:\n",
      "[('OneTable.ColA', 'AnotherTable.ColB'), ('AnotherTable.ColB2', 'YetAThird.ColC')]\n"
     ]
    }
   ],
   "source": [
    "def extract_join_conds(q):\n",
    "    ###\n",
    "    _, where_clause = split_simple_join(q)\n",
    "    conds_str = re.split(\"\\s+[aA][nN][dD]\\s+\", where_clause)\n",
    "    return [extract_eqcols(c) for c in conds_str]\n",
    "    ###\n",
    "    \n",
    "print(\"==> Query:\\n\\t'{}'\\n\".format(q_demo))\n",
    "print(\"==> Results:\\n{}\".format(extract_join_conds(q_demo)))"
   ]
  },
  {
   "cell_type": "code",
   "execution_count": 25,
   "metadata": {
    "deletable": false,
    "editable": false,
    "nbgrader": {
     "grade": true,
     "grade_id": "extract_join_conds_test",
     "locked": true,
     "points": 2,
     "schema_version": 1,
     "solution": false
    }
   },
   "outputs": [
    {
     "name": "stdout",
     "output_type": "stream",
     "text": [
      "===  sELEct * frOM NbWvpmZS,m29FN5lQ,PRQmae,TDeUbJ,LRx wherE TDeUbJ.jZh75e=m29FN5lQ.xV AND PRQmae.O   =   TDeUbJ.jZh75e AND TDeUbJ.q8zvnej  =  LRx.ItMgA9oRog ===\n",
      "\n",
      "  True solution: {('TDeUbJ.jZh75e', 'm29FN5lQ.xV'), ('PRQmae.O', 'TDeUbJ.jZh75e'), ('TDeUbJ.q8zvnej', 'LRx.ItMgA9oRog')}\n",
      "\n",
      "  Your solution: [('TDeUbJ.jZh75e', 'm29FN5lQ.xV'), ('PRQmae.O', 'TDeUbJ.jZh75e'), ('TDeUbJ.q8zvnej', 'LRx.ItMgA9oRog')]\n",
      "\n",
      "===  SElEct * frOM xCW6M61,HAYS8B,PyUNlIgn,tcTT wHere xCW6M61.P2r=   tcTT.xA4tAzTRi AND HAYS8B.N8t   =tcTT.Uj AND PyUNlIgn.zq0J    =   xCW6M61.H2T5S AND xCW6M61.H2T5S    =   PyUNlIgn.n ===\n",
      "\n",
      "  True solution: {('xCW6M61.P2r', 'tcTT.xA4tAzTRi'), ('HAYS8B.N8t', 'tcTT.Uj'), ('PyUNlIgn.zq0J', 'xCW6M61.H2T5S'), ('xCW6M61.H2T5S', 'PyUNlIgn.n')}\n",
      "\n",
      "  Your solution: [('xCW6M61.P2r', 'tcTT.xA4tAzTRi'), ('HAYS8B.N8t', 'tcTT.Uj'), ('PyUNlIgn.zq0J', 'xCW6M61.H2T5S'), ('xCW6M61.H2T5S', 'PyUNlIgn.n')]\n",
      "\n",
      "===  sELecT * froM _0wZLE,IfX5P WHere _0wZLE.XazVvjRX3    = IfX5P.F4cvTO AND IfX5P.tCAjoh= _0wZLE._SWdDqx AND _0wZLE._SWdDqx    =IfX5P.vTf2gg1 ===\n",
      "\n",
      "  True solution: {('_0wZLE.XazVvjRX3', 'IfX5P.F4cvTO'), ('IfX5P.tCAjoh', '_0wZLE._SWdDqx'), ('_0wZLE._SWdDqx', 'IfX5P.vTf2gg1')}\n",
      "\n",
      "  Your solution: [('_0wZLE.XazVvjRX3', 'IfX5P.F4cvTO'), ('IfX5P.tCAjoh', '_0wZLE._SWdDqx'), ('_0wZLE._SWdDqx', 'IfX5P.vTf2gg1')]\n",
      "\n",
      "===  SELeCT * FrOM a6PC9Dcs,QwbVe,Hw6H Where Hw6H._   = QwbVe.j4eLzJXo AND Hw6H.kSY_cqq    =QwbVe.vO AND QwbVe.vO =  a6PC9Dcs.kmkJSI ===\n",
      "\n",
      "  True solution: {('Hw6H._', 'QwbVe.j4eLzJXo'), ('Hw6H.kSY_cqq', 'QwbVe.vO'), ('QwbVe.vO', 'a6PC9Dcs.kmkJSI')}\n",
      "\n",
      "  Your solution: [('Hw6H._', 'QwbVe.j4eLzJXo'), ('Hw6H.kSY_cqq', 'QwbVe.vO'), ('QwbVe.vO', 'a6PC9Dcs.kmkJSI')]\n",
      "\n",
      "===  seLEcT * FRom _I,V,k8HM3Rgn,ae0ue3,S where _I.T=    S.Rx4 AND S.Rx4 = k8HM3Rgn.IJXC5ztb2 AND k8HM3Rgn.JSe_D=    _I.e ===\n",
      "\n",
      "  True solution: {('_I.T', 'S.Rx4'), ('S.Rx4', 'k8HM3Rgn.IJXC5ztb2'), ('k8HM3Rgn.JSe_D', '_I.e')}\n",
      "\n",
      "  Your solution: [('_I.T', 'S.Rx4'), ('S.Rx4', 'k8HM3Rgn.IJXC5ztb2'), ('k8HM3Rgn.JSe_D', '_I.e')]\n",
      "\n",
      "===  SELeCT * frOm s,uYPtY,D_HnBptVS,I4z WHERe uYPtY.hB  =D_HnBptVS.aLMj ===\n",
      "\n",
      "  True solution: {('uYPtY.hB', 'D_HnBptVS.aLMj')}\n",
      "\n",
      "  Your solution: [('uYPtY.hB', 'D_HnBptVS.aLMj')]\n",
      "\n",
      "===  SELeCt * from aT,uOOFDiK,bTh,t7Pj,MmBl WhERe t7Pj.kwNM2G59L6  =   MmBl.rIdj AND aT.S6   =t7Pj.HPmpdt AND t7Pj.HPmpdt  =MmBl.rIdj ===\n",
      "\n",
      "  True solution: {('t7Pj.kwNM2G59L6', 'MmBl.rIdj'), ('aT.S6', 't7Pj.HPmpdt'), ('t7Pj.HPmpdt', 'MmBl.rIdj')}\n",
      "\n",
      "  Your solution: [('t7Pj.kwNM2G59L6', 'MmBl.rIdj'), ('aT.S6', 't7Pj.HPmpdt'), ('t7Pj.HPmpdt', 'MmBl.rIdj')]\n",
      "\n",
      "===  seleCT * FROM g8fMnnti,cf,E62pBI8P,ut1XBH,Oa whERE Oa.s1    = E62pBI8P.qm AND E62pBI8P.zBCpQh  =  Oa.hOsYX AND cf.kgQ   =  g8fMnnti.lP7tBF3fH ===\n",
      "\n",
      "  True solution: {('Oa.s1', 'E62pBI8P.qm'), ('E62pBI8P.zBCpQh', 'Oa.hOsYX'), ('cf.kgQ', 'g8fMnnti.lP7tBF3fH')}\n",
      "\n",
      "  Your solution: [('Oa.s1', 'E62pBI8P.qm'), ('E62pBI8P.zBCpQh', 'Oa.hOsYX'), ('cf.kgQ', 'g8fMnnti.lP7tBF3fH')]\n",
      "\n",
      "===  sElEct * FroM b3_ncRyV6K,kusD_d,D5nl,lJJ13ho,RP whErE RP.ER   =b3_ncRyV6K.HIzlljV AND D5nl.PU  =  kusD_d.oym AND lJJ13ho.c4DUp=b3_ncRyV6K.zIBPVtoZE ===\n",
      "\n",
      "  True solution: {('RP.ER', 'b3_ncRyV6K.HIzlljV'), ('D5nl.PU', 'kusD_d.oym'), ('lJJ13ho.c4DUp', 'b3_ncRyV6K.zIBPVtoZE')}\n",
      "\n",
      "  Your solution: [('RP.ER', 'b3_ncRyV6K.HIzlljV'), ('D5nl.PU', 'kusD_d.oym'), ('lJJ13ho.c4DUp', 'b3_ncRyV6K.zIBPVtoZE')]\n",
      "\n",
      "===  SElect * fROm ybfUFd2,yGbzJ,FSpz,gM1cC WHere yGbzJ.FlTqIIhlW  = ybfUFd2.dWv8zxg2 AND ybfUFd2._KthC=FSpz.ZyfZ AND yGbzJ.FlTqIIhlW=    ybfUFd2._KthC ===\n",
      "\n",
      "  True solution: {('yGbzJ.FlTqIIhlW', 'ybfUFd2.dWv8zxg2'), ('ybfUFd2._KthC', 'FSpz.ZyfZ'), ('yGbzJ.FlTqIIhlW', 'ybfUFd2._KthC')}\n",
      "\n",
      "  Your solution: [('yGbzJ.FlTqIIhlW', 'ybfUFd2.dWv8zxg2'), ('ybfUFd2._KthC', 'FSpz.ZyfZ'), ('yGbzJ.FlTqIIhlW', 'ybfUFd2._KthC')]\n",
      "\n",
      "\n",
      "(Passed!)\n"
     ]
    }
   ],
   "source": [
    "# Test cell: `extract_join_conds_test`\n",
    "\n",
    "def test_extract_join_conds_1():\n",
    "    tables, cond_set = rand_query_ans(5, 5, 0)\n",
    "    qstmt, _, _ = form_query_str(tables, cond_set, 0)\n",
    "    qstmt = re.sub(\"[\\n\\t]\", \" \", qstmt)\n",
    "    print(\"=== {} ===\\n\".format(qstmt))\n",
    "    print(\"  True solution: {}\\n\".format(cond_set))\n",
    "    your_conds = extract_join_conds(qstmt)\n",
    "    print(\"  Your solution: {}\\n\".format(your_conds))\n",
    "    assert set(your_conds) == cond_set, \"*** Mismatch? ***\"\n",
    "    \n",
    "for _ in range(10):\n",
    "    test_extract_join_conds_1()\n",
    "    \n",
    "print(\"\\n(Passed!)\")"
   ]
  },
  {
   "cell_type": "markdown",
   "metadata": {
    "deletable": false,
    "editable": false,
    "nbgrader": {
     "grade": false,
     "grade_id": "cell-8907087cc62c0193",
     "locked": true,
     "schema_version": 1,
     "solution": false
    }
   },
   "source": [
    "**Fin!** This marks the end of this problem. Don't forget to submit it to get credit."
   ]
  },
  {
   "cell_type": "code",
   "execution_count": null,
   "metadata": {
    "collapsed": true
   },
   "outputs": [],
   "source": []
  },
  {
   "cell_type": "code",
   "execution_count": null,
   "metadata": {
    "collapsed": true
   },
   "outputs": [],
   "source": []
  }
 ],
 "metadata": {
  "celltoolbar": "Create Assignment",
  "kernelspec": {
   "display_name": "Python 3.6 [deprecated]",
   "language": "python",
   "name": "python36"
  },
  "language_info": {
   "codemirror_mode": {
    "name": "ipython",
    "version": 3
   },
   "file_extension": ".py",
   "mimetype": "text/x-python",
   "name": "python",
   "nbconvert_exporter": "python",
   "pygments_lexer": "ipython3",
   "version": "3.6.4"
  }
 },
 "nbformat": 4,
 "nbformat_minor": 1
}
