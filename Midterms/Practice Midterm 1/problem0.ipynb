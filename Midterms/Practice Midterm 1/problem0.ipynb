{
 "cells": [
  {
   "cell_type": "markdown",
   "metadata": {
    "nbgrader": {
     "grade": false,
     "grade_id": "cell-81e074d52be53682",
     "locked": true,
     "schema_version": 1,
     "solution": false
    }
   },
   "source": [
    "# Problem 0: Two algorithms to calculate sample variance\n",
    "\n",
    "This problem is related to floating-point arithmetic and the _sample variance_, a commonly used measure in statistics. However, the problem should go quickly -- so, if you find yourself spending a lot of time on it, you may be overthinking it or consider returning to it later.\n",
    "\n",
    "There are two exercises, numbered 0 and 1, which are worth a total of ten (10) points."
   ]
  },
  {
   "cell_type": "markdown",
   "metadata": {},
   "source": [
    "## Setup\n",
    "\n",
    "Python has a built-in function, [`statistics.variance`](https://docs.python.org/3.5/library/statistics.html#statistics.variance), that computes the sample variance. However, for this problem we want you to implement it from scratch in two different ways and compare their accuracy. (The test codes will use Python's function as a baseline for comparison against your implementations.)"
   ]
  },
  {
   "cell_type": "code",
   "execution_count": 1,
   "metadata": {
    "collapsed": true,
    "nbgrader": {
     "grade": false,
     "grade_id": "cell-7b2c2858bd1428fd",
     "locked": true,
     "schema_version": 1,
     "solution": false
    }
   },
   "outputs": [],
   "source": [
    "# Run this cell.\n",
    "from statistics import variance\n",
    "\n",
    "SAVE_VARIANCE = variance # Ignore me"
   ]
  },
  {
   "cell_type": "markdown",
   "metadata": {
    "nbgrader": {
     "grade": false,
     "grade_id": "cell-f055037bbb691b6e",
     "locked": true,
     "schema_version": 1,
     "solution": false
    }
   },
   "source": [
    "## A baseline algorithm to compute the sample variance\n",
    "\n",
    "Suppose we observe $n$ samples from a much larger population. Denote these observations by $x_0, x_1, \\ldots, x_{n-1}$. Then the _sample mean_ (sample average), $\\bar{x}$, is defined to be\n",
    "\n",
    "$$\n",
    "  \\bar{x} \\equiv \\frac{1}{n} \\sum_{i=0}^{n-1} x_i.\n",
    "$$\n",
    "\n",
    "Given both the samples and the sample mean, a standard formula for the (unbiased) _sample variance_, $\\bar{s}^2$, is\n",
    "\n",
    "$$\n",
    "  \\bar{s}^2 \\equiv \\frac{1}{n-1} \\sum_{i=0}^{n-1} (x_i - \\bar{x})^2.\n",
    "$$"
   ]
  },
  {
   "cell_type": "markdown",
   "metadata": {
    "nbgrader": {
     "grade": false,
     "grade_id": "cell-6197f806bb7c87e6",
     "locked": true,
     "schema_version": 1,
     "solution": false
    }
   },
   "source": [
    "**Exercise 0** (5 points). Write a function, `var_method_0(x)`, that implements this formula for the sample variance given a list `x[:]` of observed sample values.\n",
    "\n",
    "> Remember **not** to use Python's built-in `variance()`."
   ]
  },
  {
   "cell_type": "code",
   "execution_count": 2,
   "metadata": {
    "collapsed": true,
    "nbgrader": {
     "grade": false,
     "grade_id": "exercise_0",
     "locked": false,
     "schema_version": 1,
     "solution": true
    }
   },
   "outputs": [],
   "source": [
    "def var_method_0(x):\n",
    "    n = len(x) # Number of samples\n",
    "    \n",
    "    x_bar = sum(x) / n\n",
    "    return sum([(x_i - x_bar)**2 for x_i in x]) / (n-1)\n"
   ]
  },
  {
   "cell_type": "code",
   "execution_count": 3,
   "metadata": {
    "nbgrader": {
     "grade": true,
     "grade_id": "exercise_0_test",
     "locked": true,
     "points": 5,
     "schema_version": 1,
     "solution": false
    }
   },
   "outputs": [
    {
     "name": "stdout",
     "output_type": "stream",
     "text": [
      "\n",
      "Data: n=100000 samples from a Gaussian with mean 10000000.0 and standard deviation 100.0\n",
      "\tPython's variance function computed 9986.029344700648.\n",
      "\tYour var_method_0(X) computed 9986.029344700706.\n",
      "\tThe relative difference is |you - python| / |python| ~= 5.828909459830183e-15.\n",
      "\n",
      "Data: n=100000 samples from a Gaussian with mean 10000000.0 and standard deviation 100.0\n",
      "\tPython's variance function computed 10023.296590836051.\n",
      "\tYour var_method_0(X) computed 10023.296590836015.\n",
      "\tThe relative difference is |you - python| / |python| ~= 3.6295232552709154e-15.\n",
      "\n",
      "Data: n=100000 samples from a Gaussian with mean 10000000.0 and standard deviation 100.0\n",
      "\tPython's variance function computed 9985.25148796776.\n",
      "\tYour var_method_0(X) computed 9985.25148796783.\n",
      "\tThe relative difference is |you - python| / |python| ~= 6.9223691980151075e-15.\n",
      "\n",
      "Data: n=100000 samples from a Gaussian with mean 10000000.0 and standard deviation 100.0\n",
      "\tPython's variance function computed 9982.32678664393.\n",
      "\tYour var_method_0(X) computed 9982.326786643978.\n",
      "\tThe relative difference is |you - python| / |python| ~= 4.919966551430629e-15.\n",
      "\n",
      "Data: n=100000 samples from a Gaussian with mean 10000000.0 and standard deviation 100.0\n",
      "\tPython's variance function computed 10014.810111328534.\n",
      "\tYour var_method_0(X) computed 10014.810111328588.\n",
      "\tThe relative difference is |you - python| / |python| ~= 5.448898331546762e-15.\n",
      "\n",
      "(Passed!)\n"
     ]
    }
   ],
   "source": [
    "# Test cell: `exercise_0_test`\n",
    "\n",
    "from random import gauss\n",
    "\n",
    "n = 100000\n",
    "mu = 1e7  # True mean\n",
    "sigma = 100.0  # True variance\n",
    "\n",
    "for _ in range(5): # 5 trials\n",
    "    X = [gauss(mu, sigma) for _ in range(n)]\n",
    "    var_py = variance(X)\n",
    "    try:\n",
    "        del variance\n",
    "        var_you_0 = var_method_0(X)\n",
    "    except NameError as n:\n",
    "        if n.args[0] == \"name 'variance' is not defined\":\n",
    "            assert False, \"Did you try to use `variance()` instead of implementing it from scratch?\"\n",
    "        else:\n",
    "            raise n\n",
    "    finally:\n",
    "        variance = SAVE_VARIANCE\n",
    "        \n",
    "    rel_diff = abs(var_you_0 - var_py) / var_py\n",
    "    print(\"\\nData: n={} samples from a Gaussian with mean {} and standard deviation {}\".format(n, mu, sigma))\n",
    "    print(\"\\tPython's variance function computed {}.\".format(var_py))\n",
    "    print(\"\\tYour var_method_0(X) computed {}.\".format(var_you_0))\n",
    "    print(\"\\tThe relative difference is |you - python| / |python| ~= {}.\".format(rel_diff))\n",
    "    assert rel_diff <= n*(2.0**(-52)), \"Relative difference is larger than expected...\"\n",
    "    \n",
    "print(\"\\n(Passed!)\")"
   ]
  },
  {
   "cell_type": "markdown",
   "metadata": {
    "nbgrader": {
     "grade": false,
     "grade_id": "cell-53f9ae38bae03f58",
     "locked": true,
     "schema_version": 1,
     "solution": false
    }
   },
   "source": [
    "## A one-pass algorithm\n",
    "\n",
    "If there are a huge number of samples, the preceding formula can be slow. The reason is that it makes *two* passes (or loops) over the data: once to sum the samples and another to sum the squares of the samples.\n",
    "\n",
    "So if there are a huge number of samples and these were stored on disk, for instance, you would have to read each sample from disk twice. (For reference, the cost of accessing data on disk can be orders of magnitude slower than reading it from memory.)"
   ]
  },
  {
   "cell_type": "markdown",
   "metadata": {
    "nbgrader": {
     "grade": false,
     "grade_id": "cell-85bab8691b25150e",
     "locked": true,
     "schema_version": 1,
     "solution": false
    }
   },
   "source": [
    "However, there is an alternative that would touch each observation only once. It is based on this formula:\n",
    "\n",
    "$$\\begin{eqnarray*}\n",
    "  \\bar{s}^2\n",
    "  & = & \\dfrac{\\left( \\sum_{i=0}^{n-1} x_i^2 \\right) - \\dfrac{1}{n}\\left( \\sum_{i=0}^{n-1} x_i \\right)^2}{n-1}.\n",
    "\\end{eqnarray*}$$\n",
    "\n",
    "In exact arithmetic, it is the same as the previous formula. And it can be implemented using only **one pass** of the data, using an algorithm of the following form:\n",
    "\n",
    "```\n",
    "  temp_sum = 0\n",
    "  temp_sum_squares = 0\n",
    "  for each observation x_i: # Read x_i once, but use twice!\n",
    "     temp_sum += x_i\n",
    "     temp_sum_squares += (x_i * x_i)\n",
    "  (calculate final variance)\n",
    "```\n",
    "\n",
    "But there is a catch, related to the numerical stability of this scheme."
   ]
  },
  {
   "cell_type": "markdown",
   "metadata": {
    "nbgrader": {
     "grade": false,
     "grade_id": "cell-67c22edda475b532",
     "locked": true,
     "schema_version": 1,
     "solution": false
    }
   },
   "source": [
    "**Exercise 1** (5 points). Implement a function, `var_method_1(x)`, for the one-pass scheme shown above.\n",
    "\n",
    "The test cell below will run several experiments comparing its accuracy to the accuracy of the first method. You should observe that the one-pass method can be highly inaccurate!"
   ]
  },
  {
   "cell_type": "code",
   "execution_count": 4,
   "metadata": {
    "collapsed": true,
    "nbgrader": {
     "grade": false,
     "grade_id": "exercise_1",
     "locked": false,
     "schema_version": 1,
     "solution": true
    }
   },
   "outputs": [],
   "source": [
    "def var_method_1(x):\n",
    "    n = len(x)\n",
    "    s, s2 = 0.0, 0.0\n",
    "    for x_i in x:\n",
    "        s += x_i\n",
    "        s2 += x_i*x_i\n",
    "    return (s2 - (s*s/n)) / (n-1)\n",
    "\n"
   ]
  },
  {
   "cell_type": "code",
   "execution_count": 5,
   "metadata": {
    "nbgrader": {
     "grade": true,
     "grade_id": "exercise_1_test",
     "locked": true,
     "points": 5,
     "schema_version": 1,
     "solution": false
    },
    "scrolled": false
   },
   "outputs": [
    {
     "name": "stdout",
     "output_type": "stream",
     "text": [
      "\n",
      "Data: n=100000 samples from a Gaussian with mean 10000000.0 and standard deviation 1.0\n",
      "\tPython's variance function computed 1.0005424438633304.\n",
      "\tvar_method_0(X) computed 1.000542443863342, with a relative difference of 1.1540059621577437e-14.\n",
      "\tvar_method_1(X) computed 2.048020480204802, with a relative difference of 1.0469101463571218.\n",
      "\n",
      "Data: n=100000 samples from a Gaussian with mean 10000000.0 and standard deviation 1.0\n",
      "\tPython's variance function computed 0.9930613369302776.\n",
      "\tvar_method_0(X) computed 0.9930613369302774, with a relative difference of 2.235960626675983e-16.\n",
      "\tvar_method_1(X) computed -0.3276832768327683, with a relative difference of 1.3299728472419372.\n",
      "\n",
      "Data: n=100000 samples from a Gaussian with mean 10000000.0 and standard deviation 1.0\n",
      "\tPython's variance function computed 0.9961140055605673.\n",
      "\tvar_method_0(X) computed 0.9961140055605872, with a relative difference of 1.9950519749601044e-14.\n",
      "\tvar_method_1(X) computed -0.10240102401024011, with a relative difference of 1.1028005062057264.\n",
      "\n",
      "Data: n=100000 samples from a Gaussian with mean 10000000.0 and standard deviation 1.0\n",
      "\tPython's variance function computed 0.9944290990397232.\n",
      "\tvar_method_0(X) computed 0.9944290990397141, with a relative difference of 9.154829450101022e-15.\n",
      "\tvar_method_1(X) computed -0.7372873728737287, with a relative difference of 1.7414177376604274.\n",
      "\n",
      "Data: n=100000 samples from a Gaussian with mean 10000000.0 and standard deviation 1.0\n",
      "\tPython's variance function computed 1.0025202385707765.\n",
      "\tvar_method_0(X) computed 1.0025202385707959, with a relative difference of 1.926931735165555e-14.\n",
      "\tvar_method_1(X) computed 2.867228672286723, with a relative difference of 1.8600207377103246.\n",
      "\n",
      "(Passed!)\n"
     ]
    }
   ],
   "source": [
    "# Test cell: `exercise_1_test`\n",
    "\n",
    "from random import gauss\n",
    "from statistics import variance\n",
    "\n",
    "n = 100000\n",
    "mu = 1e7\n",
    "sigma = 1.0\n",
    "\n",
    "for _ in range(5): # 5 trials\n",
    "    X = [gauss(mu, sigma) for _ in range(n)]\n",
    "    var_py = variance(X)\n",
    "    try:\n",
    "        del variance\n",
    "        var_you_0 = var_method_0(X)\n",
    "        var_you_1 = var_method_1(X)\n",
    "    except NameError as n:\n",
    "        if n.args[0] == \"name 'variance' is not defined\":\n",
    "            assert False, \"Did you try to use `variance()` instead of implementing it from scratch?\"\n",
    "        else:\n",
    "            raise n\n",
    "    finally:\n",
    "        variance = SAVE_VARIANCE\n",
    "        \n",
    "    rel_diff_0 = abs(var_you_0 - var_py) / var_py\n",
    "    rel_diff_1 = abs(var_you_1 - var_py) / var_py\n",
    "    print(\"\\nData: n={} samples from a Gaussian with mean {} and standard deviation {}\".format(n, mu, sigma))\n",
    "    print(\"\\tPython's variance function computed {}.\".format(var_py))\n",
    "    print(\"\\tvar_method_0(X) computed {}, with a relative difference of {}.\".format(var_you_0, rel_diff_0))\n",
    "    assert rel_diff_0 <= n*(2.0**(-52)), \"The relative difference is larger than expected.\"\n",
    "    print(\"\\tvar_method_1(X) computed {}, with a relative difference of {}.\".format(var_you_1, rel_diff_1))\n",
    "    assert rel_diff_1 > n*(2.0**(-52)), \"The relative difference is smaller than expected!\"\n",
    "    \n",
    "print(\"\\n(Passed!)\")"
   ]
  },
  {
   "cell_type": "markdown",
   "metadata": {
    "nbgrader": {
     "grade": false,
     "grade_id": "cell-92bae51c2bc739ef",
     "locked": true,
     "schema_version": 1,
     "solution": false
    }
   },
   "source": [
    "**Fin!** If you've reached this point and all tests above pass, you are ready to submit your solution to this problem. Don't forget to save you work prior to submitting."
   ]
  },
  {
   "cell_type": "code",
   "execution_count": 6,
   "metadata": {
    "nbgrader": {
     "grade": true,
     "grade_id": "ran_to_completion",
     "locked": true,
     "points": 0,
     "schema_version": 1,
     "solution": false
    }
   },
   "outputs": [
    {
     "name": "stdout",
     "output_type": "stream",
     "text": [
      "\n",
      "(This notebook ran to completion.)\n"
     ]
    }
   ],
   "source": [
    "print(\"\\n(This notebook ran to completion.)\")"
   ]
  },
  {
   "cell_type": "code",
   "execution_count": null,
   "metadata": {
    "collapsed": true
   },
   "outputs": [],
   "source": []
  }
 ],
 "metadata": {
  "celltoolbar": "Create Assignment",
  "kernelspec": {
   "display_name": "Python 3.6 [deprecated]",
   "language": "python",
   "name": "python36"
  },
  "language_info": {
   "codemirror_mode": {
    "name": "ipython",
    "version": 3
   },
   "file_extension": ".py",
   "mimetype": "text/x-python",
   "name": "python",
   "nbconvert_exporter": "python",
   "pygments_lexer": "ipython3",
   "version": "3.6.4"
  }
 },
 "nbformat": 4,
 "nbformat_minor": 1
}
