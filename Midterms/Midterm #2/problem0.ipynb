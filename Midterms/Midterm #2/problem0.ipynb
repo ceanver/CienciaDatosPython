{
 "cells": [
  {
   "cell_type": "markdown",
   "metadata": {
    "deletable": false,
    "editable": false,
    "nbgrader": {
     "grade": false,
     "locked": true,
     "solution": false
    }
   },
   "source": [
    "# Problem 1\n",
    "\n",
    "## Using pandas to answer a question from the US government College Scorecard\n",
    "\n",
    "It is common for colleges in the United States to charge different tuition and fees for those students who are state residents versus \"out-of-state\" students.\n",
    "\n",
    "https://www.collegexpress.com/interests/public-colleges-and-universities/blog/what-you-need-know-about-out-state-tuition/\n",
    "\n",
    "The US government has assembled a database of college information called the \"College Scorecard.\"\n",
    "\n",
    "Using the College Scorecard data, you will answer the question:\n",
    "\n",
    "> How do US colleges and universities which offer bachelor's degrees in engineering compare in their treatment of in-state and out-of-state tuition and fees?"
   ]
  },
  {
   "cell_type": "markdown",
   "metadata": {
    "deletable": false,
    "editable": false,
    "nbgrader": {
     "grade": false,
     "locked": true,
     "solution": false
    }
   },
   "source": [
    "## Final product\n",
    "\n",
    "Your final product will be a pandas dataframe of college names sorted in descending order by the percent difference between in-state and out-of-state tuition\n",
    "\n",
    "## Raw data sources\n",
    "\n",
    "Your \"raw\" data sources are both from https://collegescorecard.ed.gov, with some modifications to optimize the data for this midterm:\n",
    "\n",
    "1. a copy of the \"Most-Recent-Cohorts-All-Data-Elements.csv\" downloaded 2019-03-05T21:30Z\n",
    "2. a slightly massaged version of the \"CollegeScorecardDataDictionary.xlsx\" that has been converted to a tab-delimited text file and reshaped for this midterm question\n",
    "\n",
    "### Most-Recent-Cohorts-All-Data-Elements.csv\n",
    "\n",
    "This ~140MB file has the data you need to produce your final product. \n",
    "\n",
    "Unfortunately, it has\n",
    "\n",
    "1. a lot MORE than you need, \n",
    "2. column labels that are not human-readable, and\n",
    "3. a lot of missing data in the form of either \"NULL\" entries or \"PrivacySuppressed\" entries\n",
    "\n",
    "### CollegeScorecardDataDictionary_wide.txt\n",
    "\n",
    "To help you decipher the contents of the data file, the \"Data Dictionary\" is provided. This is __NOT__ a python dictionary. Rather, it is a tab-delimited table that describes the column labels in the data file, as well as a \"decoder ring\" for the numeric codes used in some of the data columns.\n",
    "\n",
    "Unfortunately, it has\n",
    "\n",
    "1. a lot MORE information than you need,\n",
    "2. \"decoder ring\" information is stored in a very inconvenient and inefficient \"wide\" format"
   ]
  },
  {
   "cell_type": "code",
   "execution_count": 1,
   "metadata": {
    "collapsed": true,
    "deletable": false,
    "editable": false,
    "nbgrader": {
     "grade": false,
     "locked": true,
     "solution": false
    }
   },
   "outputs": [],
   "source": [
    "import pandas as pd\n",
    "import ast\n",
    "import os\n",
    "import csv\n",
    "\n",
    "# Ignore this line. It will be used later.\n",
    "SAVE_ASSIGN = getattr(pd.DataFrame, 'assign')"
   ]
  },
  {
   "cell_type": "markdown",
   "metadata": {
    "deletable": false,
    "editable": false,
    "nbgrader": {
     "grade": false,
     "locked": true,
     "solution": false
    }
   },
   "source": [
    "#### Exercise 1 (1 point)\n",
    "\n",
    "Given the filename, write a function to import the \"data dictionary\" tab-delimited file into a pandas dataframe."
   ]
  },
  {
   "cell_type": "code",
   "execution_count": 2,
   "metadata": {
    "collapsed": true
   },
   "outputs": [],
   "source": [
    "def tab_import(fname):\n",
    "    df=pd.read_csv(fname, sep='\\t')\n",
    "    return df"
   ]
  },
  {
   "cell_type": "code",
   "execution_count": 3,
   "metadata": {
    "deletable": false,
    "editable": false,
    "nbgrader": {
     "grade": true,
     "grade_id": "tab_import_test",
     "locked": true,
     "points": "1",
     "solution": false
    }
   },
   "outputs": [
    {
     "data": {
      "text/html": [
       "<div>\n",
       "<style scoped>\n",
       "    .dataframe tbody tr th:only-of-type {\n",
       "        vertical-align: middle;\n",
       "    }\n",
       "\n",
       "    .dataframe tbody tr th {\n",
       "        vertical-align: top;\n",
       "    }\n",
       "\n",
       "    .dataframe thead th {\n",
       "        text-align: right;\n",
       "    }\n",
       "</style>\n",
       "<table border=\"1\" class=\"dataframe\">\n",
       "  <thead>\n",
       "    <tr style=\"text-align: right;\">\n",
       "      <th></th>\n",
       "      <th>NAME OF DATA ELEMENT</th>\n",
       "      <th>dev-category</th>\n",
       "      <th>developer-friendly name</th>\n",
       "      <th>API data type</th>\n",
       "      <th>VARIABLE NAME</th>\n",
       "      <th>-2</th>\n",
       "      <th>-1</th>\n",
       "      <th>0</th>\n",
       "      <th>1</th>\n",
       "      <th>2</th>\n",
       "      <th>...</th>\n",
       "      <th>98</th>\n",
       "      <th>99</th>\n",
       "      <th>100</th>\n",
       "      <th>101</th>\n",
       "      <th>102</th>\n",
       "      <th>103</th>\n",
       "      <th>104</th>\n",
       "      <th>105</th>\n",
       "      <th>106</th>\n",
       "      <th>107</th>\n",
       "    </tr>\n",
       "  </thead>\n",
       "  <tbody>\n",
       "    <tr>\n",
       "      <th>0</th>\n",
       "      <td>Flag for Asian American Native American Pacifi...</td>\n",
       "      <td>school</td>\n",
       "      <td>minority_serving.aanipi</td>\n",
       "      <td>integer</td>\n",
       "      <td>AANAPII</td>\n",
       "      <td>NaN</td>\n",
       "      <td>NaN</td>\n",
       "      <td>No</td>\n",
       "      <td>Yes</td>\n",
       "      <td>NaN</td>\n",
       "      <td>...</td>\n",
       "      <td>NaN</td>\n",
       "      <td>NaN</td>\n",
       "      <td>NaN</td>\n",
       "      <td>NaN</td>\n",
       "      <td>NaN</td>\n",
       "      <td>NaN</td>\n",
       "      <td>NaN</td>\n",
       "      <td>NaN</td>\n",
       "      <td>NaN</td>\n",
       "      <td>NaN</td>\n",
       "    </tr>\n",
       "    <tr>\n",
       "      <th>1</th>\n",
       "      <td>Accreditor for institution</td>\n",
       "      <td>school</td>\n",
       "      <td>accreditor</td>\n",
       "      <td>string</td>\n",
       "      <td>ACCREDAGENCY</td>\n",
       "      <td>NaN</td>\n",
       "      <td>NaN</td>\n",
       "      <td>NaN</td>\n",
       "      <td>NaN</td>\n",
       "      <td>NaN</td>\n",
       "      <td>...</td>\n",
       "      <td>NaN</td>\n",
       "      <td>NaN</td>\n",
       "      <td>NaN</td>\n",
       "      <td>NaN</td>\n",
       "      <td>NaN</td>\n",
       "      <td>NaN</td>\n",
       "      <td>NaN</td>\n",
       "      <td>NaN</td>\n",
       "      <td>NaN</td>\n",
       "      <td>NaN</td>\n",
       "    </tr>\n",
       "    <tr>\n",
       "      <th>2</th>\n",
       "      <td>Code corresponding to accreditor (as captured ...</td>\n",
       "      <td>school</td>\n",
       "      <td>accreditor_code</td>\n",
       "      <td>string</td>\n",
       "      <td>ACCREDCODE</td>\n",
       "      <td>NaN</td>\n",
       "      <td>NaN</td>\n",
       "      <td>NaN</td>\n",
       "      <td>NaN</td>\n",
       "      <td>NaN</td>\n",
       "      <td>...</td>\n",
       "      <td>NaN</td>\n",
       "      <td>NaN</td>\n",
       "      <td>NaN</td>\n",
       "      <td>NaN</td>\n",
       "      <td>NaN</td>\n",
       "      <td>NaN</td>\n",
       "      <td>NaN</td>\n",
       "      <td>NaN</td>\n",
       "      <td>NaN</td>\n",
       "      <td>NaN</td>\n",
       "    </tr>\n",
       "    <tr>\n",
       "      <th>3</th>\n",
       "      <td>25th percentile of the ACT cumulative score</td>\n",
       "      <td>admissions</td>\n",
       "      <td>act_scores.25th_percentile.cumulative</td>\n",
       "      <td>float</td>\n",
       "      <td>ACTCM25</td>\n",
       "      <td>NaN</td>\n",
       "      <td>NaN</td>\n",
       "      <td>NaN</td>\n",
       "      <td>NaN</td>\n",
       "      <td>NaN</td>\n",
       "      <td>...</td>\n",
       "      <td>NaN</td>\n",
       "      <td>NaN</td>\n",
       "      <td>NaN</td>\n",
       "      <td>NaN</td>\n",
       "      <td>NaN</td>\n",
       "      <td>NaN</td>\n",
       "      <td>NaN</td>\n",
       "      <td>NaN</td>\n",
       "      <td>NaN</td>\n",
       "      <td>NaN</td>\n",
       "    </tr>\n",
       "    <tr>\n",
       "      <th>4</th>\n",
       "      <td>75th percentile of the ACT cumulative score</td>\n",
       "      <td>admissions</td>\n",
       "      <td>act_scores.75th_percentile.cumulative</td>\n",
       "      <td>float</td>\n",
       "      <td>ACTCM75</td>\n",
       "      <td>NaN</td>\n",
       "      <td>NaN</td>\n",
       "      <td>NaN</td>\n",
       "      <td>NaN</td>\n",
       "      <td>NaN</td>\n",
       "      <td>...</td>\n",
       "      <td>NaN</td>\n",
       "      <td>NaN</td>\n",
       "      <td>NaN</td>\n",
       "      <td>NaN</td>\n",
       "      <td>NaN</td>\n",
       "      <td>NaN</td>\n",
       "      <td>NaN</td>\n",
       "      <td>NaN</td>\n",
       "      <td>NaN</td>\n",
       "      <td>NaN</td>\n",
       "    </tr>\n",
       "  </tbody>\n",
       "</table>\n",
       "<p>5 rows × 115 columns</p>\n",
       "</div>"
      ],
      "text/plain": [
       "                                NAME OF DATA ELEMENT dev-category  \\\n",
       "0  Flag for Asian American Native American Pacifi...       school   \n",
       "1                         Accreditor for institution       school   \n",
       "2  Code corresponding to accreditor (as captured ...       school   \n",
       "3        25th percentile of the ACT cumulative score   admissions   \n",
       "4        75th percentile of the ACT cumulative score   admissions   \n",
       "\n",
       "                 developer-friendly name API data type VARIABLE NAME   -2  \\\n",
       "0                minority_serving.aanipi       integer       AANAPII  NaN   \n",
       "1                             accreditor        string  ACCREDAGENCY  NaN   \n",
       "2                        accreditor_code        string    ACCREDCODE  NaN   \n",
       "3  act_scores.25th_percentile.cumulative         float       ACTCM25  NaN   \n",
       "4  act_scores.75th_percentile.cumulative         float       ACTCM75  NaN   \n",
       "\n",
       "    -1    0    1    2 ...  98  99 100 101 102 103 104 105 106 107  \n",
       "0  NaN   No  Yes  NaN ... NaN NaN NaN NaN NaN NaN NaN NaN NaN NaN  \n",
       "1  NaN  NaN  NaN  NaN ... NaN NaN NaN NaN NaN NaN NaN NaN NaN NaN  \n",
       "2  NaN  NaN  NaN  NaN ... NaN NaN NaN NaN NaN NaN NaN NaN NaN NaN  \n",
       "3  NaN  NaN  NaN  NaN ... NaN NaN NaN NaN NaN NaN NaN NaN NaN NaN  \n",
       "4  NaN  NaN  NaN  NaN ... NaN NaN NaN NaN NaN NaN NaN NaN NaN NaN  \n",
       "\n",
       "[5 rows x 115 columns]"
      ]
     },
     "metadata": {},
     "output_type": "display_data"
    },
    {
     "name": "stdout",
     "output_type": "stream",
     "text": [
      "\n",
      "Passed!\n"
     ]
    }
   ],
   "source": [
    "# Test Cell: `tab_import_test`\n",
    "\n",
    "from pandas.util import hash_pandas_object\n",
    "\n",
    "dd_df = tab_import('../resource/lib/publicdata/mt2p1/CollegeScorecardDataDictionary_wide.txt')\n",
    "\n",
    "assert hash_pandas_object(dd_df).sum() == 691811159278074823, \"You have not imported the data correctly...\"\n",
    "display(dd_df.head())\n",
    "print(\"\\nPassed!\")"
   ]
  },
  {
   "cell_type": "markdown",
   "metadata": {
    "deletable": false,
    "editable": false,
    "nbgrader": {
     "grade": false,
     "locked": true,
     "solution": false
    }
   },
   "source": [
    "The above cell displays the first 5 rows of the data dictionary. Each row of this dataframe contains details of each column label of 'Most-Recent-Cohorts-All-Data-Elements.csv'. The 'VARIABLE NAME' column contains the names currently used as column labels in the 'Most-Recent-Cohorts-All-Data-Elements.csv' file, while the 'developer-friendly name' column contains the labels for those 'variables' that are more understandable.\n",
    "\n",
    "The numeric column labels are Codes and each column contains a row holding a description of what the code means. \n",
    "\n",
    "We will be using the 'Most-Recent-Cohorts-All-Data-Elements.csv' file later on in the problem. \n",
    "\n",
    "Now, as you may have noticed, this is a 1.7+MB dataframe that consists primarily of NaNs in a \"wide\" format.\n",
    "\n",
    "The next few exercises will transform the dataframe into a cleaner and more useful format."
   ]
  },
  {
   "cell_type": "markdown",
   "metadata": {
    "deletable": false,
    "editable": false,
    "nbgrader": {
     "grade": false,
     "locked": true,
     "solution": false
    }
   },
   "source": [
    "#### Exercise 2 (1 point)\n",
    "\n",
    "Write a function that \n",
    "\n",
    "1. Adds a column to the df called 'Coded' that contains Boolean values: False if the columns labeled '-2' through '107' are all NaN, and True otherwise\n",
    "2. Splits the df into two new dataframes, one containing the rows that are 'Coded' and those that are not\n",
    "3. Removes the 'Coded' column from each new dataframe, since it is no longer required"
   ]
  },
  {
   "cell_type": "code",
   "execution_count": 4,
   "metadata": {
    "collapsed": true
   },
   "outputs": [],
   "source": [
    "def split_by_coded(full_df):\n",
    "    \n",
    "    full_df[\"Coded\"]=~dd_df.loc[:, '-2':'107' ].isna().all(1)\n",
    "    coded_df=full_df[full_df[\"Coded\"]==True]\n",
    "    not_coded_df=full_df[full_df[\"Coded\"]==False]\n",
    "\n",
    "    coded_df.drop(\"Coded\",axis=1,inplace=True)\n",
    "    not_coded_df.drop(\"Coded\",axis=1,inplace=True)\n",
    "    \n",
    "    return coded_df, not_coded_df"
   ]
  },
  {
   "cell_type": "code",
   "execution_count": 5,
   "metadata": {
    "deletable": false,
    "editable": false,
    "nbgrader": {
     "grade": true,
     "grade_id": "split_by_coded_test",
     "locked": true,
     "points": "1",
     "solution": false
    }
   },
   "outputs": [
    {
     "name": "stdout",
     "output_type": "stream",
     "text": [
      "Passed!\n"
     ]
    },
    {
     "name": "stderr",
     "output_type": "stream",
     "text": [
      "/usr/local/lib/python3.6/site-packages/pandas/core/frame.py:3697: SettingWithCopyWarning: \n",
      "A value is trying to be set on a copy of a slice from a DataFrame\n",
      "\n",
      "See the caveats in the documentation: http://pandas.pydata.org/pandas-docs/stable/indexing.html#indexing-view-versus-copy\n",
      "  errors=errors)\n"
     ]
    }
   ],
   "source": [
    "# Test Cell: `split_by_coded_test`\n",
    "\n",
    "from pandas.util import hash_pandas_object\n",
    "\n",
    "c_df, n_c_df = split_by_coded(dd_df)\n",
    "\n",
    "assert 'Coded' in dd_df.columns, \"You have not added the column, 'Coded', to the data dictionary\"\n",
    "assert 'Coded' not in c_df and 'Coded' not in n_c_df, \"You have not deleted the column, 'Coded', from the two new dataframes\"\n",
    "\n",
    "assert hash_pandas_object(c_df).sum() == -4867622688808165705 and hash_pandas_object(n_c_df).sum() == 5559433848086240528, \"You have not split the data properly\"\n",
    "print(\"Passed!\")"
   ]
  },
  {
   "cell_type": "markdown",
   "metadata": {
    "deletable": false,
    "editable": false,
    "nbgrader": {
     "grade": false,
     "locked": true,
     "solution": false
    }
   },
   "source": [
    "#### Exercise 3 (2 points)\n",
    "\n",
    "Write a function that\n",
    "\n",
    "1. Melts the coded dataframe columns '-2' to '107' into a column 'Code' containing the labels and a column 'Description' containing the code description\n",
    "1. Removes all the rows in which 'Description' is NaN from the melted coded dataframe, since these rows add no information\n",
    "1. Deletes the not_coded dataframe columns '-2' to '107' and adds two columns, labeled 'Code' and 'Description', to the not_coded dataframe, populating them with NaN's (use `np.nan`), since this dataframe had no codes to describe. It is recommended to use the `pandas.DataFrame.assign()` method. The `.assign()` method is useful for cleanly creating a new dataframe with new columns, optimized for \"chaining\" methods. https://stackoverflow.com/questions/48177914/why-use-pandas-assign-rather-than-simply-initialize-new-column\n",
    "1. Concatenates the two new dataframes into a single dataframe\n",
    "1. The columns should be ordered as __NAME OF DATA ELEMENT, dev-category, developer-friendly name, API data type, VARIABLE NAME,\tCode, Description__.\n",
    "\n",
    "Hint: Make sure to reset the index of the final melted dataframe!"
   ]
  },
  {
   "cell_type": "code",
   "execution_count": 12,
   "metadata": {
    "collapsed": true
   },
   "outputs": [],
   "source": [
    "import numpy as np\n",
    "\n",
    "def melt(df, col_vals, key, value):\n",
    "    assert type(df) is pd.DataFrame\n",
    "    keep_vars=df.columns.difference(col_vals) # Get the names of the columns that we want to keep.  column names in the dataframe not in col_vals.\n",
    "    melted_sections=[]                        # Empty dataframe known as melted_sections.\n",
    "    for c in col_vals:                        # go through all the column values.\n",
    "        melted_c=df[keep_vars].copy()         # first time in loop: 1999\n",
    "        melted_c[key]=c                       # value column, wich is cases, set to original data frame indexed as original C\n",
    "        melted_c[value]=df[c]                 \n",
    "        melted_sections.append(melted_c)\n",
    "    melted = pd.concat(melted_sections)\n",
    "    return melted    \n",
    "\n",
    "\n",
    "def melt_together(coded_df, not_coded_df):\n",
    "    cdf=coded_df.copy()\n",
    "    ncdf=not_coded_df.copy()\n",
    "    \n",
    "    cv=cdf.loc[0:0, '-2':'107' ].columns\n",
    "    mcdf=melt(cdf,cv,\"Code\",\"Description\")\n",
    "    mask=mcdf.Description.notna()\n",
    "    mcdf=mcdf[mask]\n",
    "    \n",
    "    ncdf.drop(cv,axis=1,inplace=True)\n",
    "    ncdf[\"Code\"]=np.nan\n",
    "    ncdf[\"Description\"]=np.nan\n",
    "    \n",
    "    cols=['NAME OF DATA ELEMENT','dev-category','developer-friendly name','API data type','VARIABLE NAME','Code', 'Description']\n",
    "\n",
    "    frames=[mcdf,ncdf]\n",
    "    melted_df=pd.concat(frames,sort=False)[cols]\n",
    "    \n",
    "\n",
    "    return melted_df\n"
   ]
  },
  {
   "cell_type": "code",
   "execution_count": 13,
   "metadata": {
    "editable": false,
    "nbgrader": {
     "grade": true,
     "grade_id": "melt_together_test",
     "locked": true,
     "points": "2",
     "solution": false
    }
   },
   "outputs": [
    {
     "data": {
      "text/html": [
       "<div>\n",
       "<style scoped>\n",
       "    .dataframe tbody tr th:only-of-type {\n",
       "        vertical-align: middle;\n",
       "    }\n",
       "\n",
       "    .dataframe tbody tr th {\n",
       "        vertical-align: top;\n",
       "    }\n",
       "\n",
       "    .dataframe thead th {\n",
       "        text-align: right;\n",
       "    }\n",
       "</style>\n",
       "<table border=\"1\" class=\"dataframe\">\n",
       "  <thead>\n",
       "    <tr style=\"text-align: right;\">\n",
       "      <th></th>\n",
       "      <th>NAME OF DATA ELEMENT</th>\n",
       "      <th>dev-category</th>\n",
       "      <th>developer-friendly name</th>\n",
       "      <th>API data type</th>\n",
       "      <th>VARIABLE NAME</th>\n",
       "      <th>Code</th>\n",
       "      <th>Description</th>\n",
       "    </tr>\n",
       "  </thead>\n",
       "  <tbody>\n",
       "    <tr>\n",
       "      <th>80</th>\n",
       "      <td>Carnegie Classification -- basic</td>\n",
       "      <td>school</td>\n",
       "      <td>carnegie_basic</td>\n",
       "      <td>integer</td>\n",
       "      <td>CCBASIC</td>\n",
       "      <td>-2</td>\n",
       "      <td>Not applicable</td>\n",
       "    </tr>\n",
       "    <tr>\n",
       "      <th>81</th>\n",
       "      <td>Carnegie Classification -- size and setting</td>\n",
       "      <td>school</td>\n",
       "      <td>carnegie_size_setting</td>\n",
       "      <td>integer</td>\n",
       "      <td>CCSIZSET</td>\n",
       "      <td>-2</td>\n",
       "      <td>Not applicable</td>\n",
       "    </tr>\n",
       "    <tr>\n",
       "      <th>82</th>\n",
       "      <td>Carnegie Classification -- undergraduate profile</td>\n",
       "      <td>school</td>\n",
       "      <td>carnegie_undergrad</td>\n",
       "      <td>integer</td>\n",
       "      <td>CCUGPROF</td>\n",
       "      <td>-2</td>\n",
       "      <td>Not applicable</td>\n",
       "    </tr>\n",
       "    <tr>\n",
       "      <th>1774</th>\n",
       "      <td>Religous affiliation of the institution</td>\n",
       "      <td>school</td>\n",
       "      <td>religious_affiliation</td>\n",
       "      <td>integer</td>\n",
       "      <td>RELAFFIL</td>\n",
       "      <td>-2</td>\n",
       "      <td>Not applicable</td>\n",
       "    </tr>\n",
       "    <tr>\n",
       "      <th>1774</th>\n",
       "      <td>Religous affiliation of the institution</td>\n",
       "      <td>school</td>\n",
       "      <td>religious_affiliation</td>\n",
       "      <td>integer</td>\n",
       "      <td>RELAFFIL</td>\n",
       "      <td>-1</td>\n",
       "      <td>Not reported</td>\n",
       "    </tr>\n",
       "  </tbody>\n",
       "</table>\n",
       "</div>"
      ],
      "text/plain": [
       "                                  NAME OF DATA ELEMENT dev-category  \\\n",
       "80                    Carnegie Classification -- basic       school   \n",
       "81         Carnegie Classification -- size and setting       school   \n",
       "82    Carnegie Classification -- undergraduate profile       school   \n",
       "1774           Religous affiliation of the institution       school   \n",
       "1774           Religous affiliation of the institution       school   \n",
       "\n",
       "     developer-friendly name API data type VARIABLE NAME Code     Description  \n",
       "80            carnegie_basic       integer       CCBASIC   -2  Not applicable  \n",
       "81     carnegie_size_setting       integer      CCSIZSET   -2  Not applicable  \n",
       "82        carnegie_undergrad       integer      CCUGPROF   -2  Not applicable  \n",
       "1774   religious_affiliation       integer      RELAFFIL   -2  Not applicable  \n",
       "1774   religious_affiliation       integer      RELAFFIL   -1    Not reported  "
      ]
     },
     "metadata": {},
     "output_type": "display_data"
    },
    {
     "ename": "AssertionError",
     "evalue": "You have not carried out the melt operation correctly",
     "output_type": "error",
     "traceback": [
      "\u001b[0;31m---------------------------------------------------------------------------\u001b[0m",
      "\u001b[0;31mAssertionError\u001b[0m                            Traceback (most recent call last)",
      "\u001b[0;32m<ipython-input-13-f1d4ca2eab3a>\u001b[0m in \u001b[0;36m<module>\u001b[0;34m()\u001b[0m\n\u001b[1;32m      8\u001b[0m \u001b[0;32massert\u001b[0m \u001b[0;34m'Description'\u001b[0m \u001b[0;32min\u001b[0m \u001b[0mm_df\u001b[0m\u001b[0;34m.\u001b[0m\u001b[0mcolumns\u001b[0m\u001b[0;34m,\u001b[0m \u001b[0;34m\"The column, 'Description' is not present in the melted dataframe\"\u001b[0m\u001b[0;34m\u001b[0m\u001b[0m\n\u001b[1;32m      9\u001b[0m \u001b[0;31m#print( hash_pandas_object(m_df).sum())\u001b[0m\u001b[0;34m\u001b[0m\u001b[0;34m\u001b[0m\u001b[0m\n\u001b[0;32m---> 10\u001b[0;31m \u001b[0;32massert\u001b[0m \u001b[0mhash_pandas_object\u001b[0m\u001b[0;34m(\u001b[0m\u001b[0mm_df\u001b[0m\u001b[0;34m)\u001b[0m\u001b[0;34m.\u001b[0m\u001b[0msum\u001b[0m\u001b[0;34m(\u001b[0m\u001b[0;34m)\u001b[0m \u001b[0;34m==\u001b[0m \u001b[0;36m5644814193110202630\u001b[0m\u001b[0;34m,\u001b[0m \u001b[0;34m\"You have not carried out the melt operation correctly\"\u001b[0m\u001b[0;34m\u001b[0m\u001b[0m\n\u001b[0m\u001b[1;32m     11\u001b[0m \u001b[0mprint\u001b[0m\u001b[0;34m(\u001b[0m\u001b[0;34m\"Passed!\"\u001b[0m\u001b[0;34m)\u001b[0m\u001b[0;34m\u001b[0m\u001b[0m\n",
      "\u001b[0;31mAssertionError\u001b[0m: You have not carried out the melt operation correctly"
     ]
    }
   ],
   "source": [
    "# Test Cell: `melt_together_test`\n",
    "\n",
    "m_df = melt_together(c_df, n_c_df)\n",
    "\n",
    "display(m_df.head())\n",
    "\n",
    "assert 'Code' in m_df.columns, \"The column, 'Code' is not present in the melted dataframe\"\n",
    "assert 'Description' in m_df.columns, \"The column, 'Description' is not present in the melted dataframe\"\n",
    "#print( hash_pandas_object(m_df).sum())\n",
    "assert hash_pandas_object(m_df).sum() == 5644814193110202630, \"You have not carried out the melt operation correctly\"\n",
    "print(\"Passed!\")"
   ]
  },
  {
   "cell_type": "code",
   "execution_count": 14,
   "metadata": {
    "deletable": false,
    "editable": false,
    "nbgrader": {
     "grade": true,
     "grade_id": "melt_together_test",
     "locked": true,
     "points": "2",
     "solution": false
    }
   },
   "outputs": [
    {
     "data": {
      "text/html": [
       "<div>\n",
       "<style scoped>\n",
       "    .dataframe tbody tr th:only-of-type {\n",
       "        vertical-align: middle;\n",
       "    }\n",
       "\n",
       "    .dataframe tbody tr th {\n",
       "        vertical-align: top;\n",
       "    }\n",
       "\n",
       "    .dataframe thead th {\n",
       "        text-align: right;\n",
       "    }\n",
       "</style>\n",
       "<table border=\"1\" class=\"dataframe\">\n",
       "  <thead>\n",
       "    <tr style=\"text-align: right;\">\n",
       "      <th></th>\n",
       "      <th>NAME OF DATA ELEMENT</th>\n",
       "      <th>dev-category</th>\n",
       "      <th>developer-friendly name</th>\n",
       "      <th>API data type</th>\n",
       "      <th>VARIABLE NAME</th>\n",
       "      <th>Code</th>\n",
       "      <th>Description</th>\n",
       "    </tr>\n",
       "  </thead>\n",
       "  <tbody>\n",
       "    <tr>\n",
       "      <th>80</th>\n",
       "      <td>Carnegie Classification -- basic</td>\n",
       "      <td>school</td>\n",
       "      <td>carnegie_basic</td>\n",
       "      <td>integer</td>\n",
       "      <td>CCBASIC</td>\n",
       "      <td>-2</td>\n",
       "      <td>Not applicable</td>\n",
       "    </tr>\n",
       "    <tr>\n",
       "      <th>81</th>\n",
       "      <td>Carnegie Classification -- size and setting</td>\n",
       "      <td>school</td>\n",
       "      <td>carnegie_size_setting</td>\n",
       "      <td>integer</td>\n",
       "      <td>CCSIZSET</td>\n",
       "      <td>-2</td>\n",
       "      <td>Not applicable</td>\n",
       "    </tr>\n",
       "    <tr>\n",
       "      <th>82</th>\n",
       "      <td>Carnegie Classification -- undergraduate profile</td>\n",
       "      <td>school</td>\n",
       "      <td>carnegie_undergrad</td>\n",
       "      <td>integer</td>\n",
       "      <td>CCUGPROF</td>\n",
       "      <td>-2</td>\n",
       "      <td>Not applicable</td>\n",
       "    </tr>\n",
       "    <tr>\n",
       "      <th>1774</th>\n",
       "      <td>Religous affiliation of the institution</td>\n",
       "      <td>school</td>\n",
       "      <td>religious_affiliation</td>\n",
       "      <td>integer</td>\n",
       "      <td>RELAFFIL</td>\n",
       "      <td>-2</td>\n",
       "      <td>Not applicable</td>\n",
       "    </tr>\n",
       "    <tr>\n",
       "      <th>1774</th>\n",
       "      <td>Religous affiliation of the institution</td>\n",
       "      <td>school</td>\n",
       "      <td>religious_affiliation</td>\n",
       "      <td>integer</td>\n",
       "      <td>RELAFFIL</td>\n",
       "      <td>-1</td>\n",
       "      <td>Not reported</td>\n",
       "    </tr>\n",
       "  </tbody>\n",
       "</table>\n",
       "</div>"
      ],
      "text/plain": [
       "                                  NAME OF DATA ELEMENT dev-category  \\\n",
       "80                    Carnegie Classification -- basic       school   \n",
       "81         Carnegie Classification -- size and setting       school   \n",
       "82    Carnegie Classification -- undergraduate profile       school   \n",
       "1774           Religous affiliation of the institution       school   \n",
       "1774           Religous affiliation of the institution       school   \n",
       "\n",
       "     developer-friendly name API data type VARIABLE NAME Code     Description  \n",
       "80            carnegie_basic       integer       CCBASIC   -2  Not applicable  \n",
       "81     carnegie_size_setting       integer      CCSIZSET   -2  Not applicable  \n",
       "82        carnegie_undergrad       integer      CCUGPROF   -2  Not applicable  \n",
       "1774   religious_affiliation       integer      RELAFFIL   -2  Not applicable  \n",
       "1774   religious_affiliation       integer      RELAFFIL   -1    Not reported  "
      ]
     },
     "metadata": {},
     "output_type": "display_data"
    },
    {
     "ename": "AssertionError",
     "evalue": "You have not carried out the melt operation correctly",
     "output_type": "error",
     "traceback": [
      "\u001b[0;31m---------------------------------------------------------------------------\u001b[0m",
      "\u001b[0;31mAssertionError\u001b[0m                            Traceback (most recent call last)",
      "\u001b[0;32m<ipython-input-14-f1d4ca2eab3a>\u001b[0m in \u001b[0;36m<module>\u001b[0;34m()\u001b[0m\n\u001b[1;32m      8\u001b[0m \u001b[0;32massert\u001b[0m \u001b[0;34m'Description'\u001b[0m \u001b[0;32min\u001b[0m \u001b[0mm_df\u001b[0m\u001b[0;34m.\u001b[0m\u001b[0mcolumns\u001b[0m\u001b[0;34m,\u001b[0m \u001b[0;34m\"The column, 'Description' is not present in the melted dataframe\"\u001b[0m\u001b[0;34m\u001b[0m\u001b[0m\n\u001b[1;32m      9\u001b[0m \u001b[0;31m#print( hash_pandas_object(m_df).sum())\u001b[0m\u001b[0;34m\u001b[0m\u001b[0;34m\u001b[0m\u001b[0m\n\u001b[0;32m---> 10\u001b[0;31m \u001b[0;32massert\u001b[0m \u001b[0mhash_pandas_object\u001b[0m\u001b[0;34m(\u001b[0m\u001b[0mm_df\u001b[0m\u001b[0;34m)\u001b[0m\u001b[0;34m.\u001b[0m\u001b[0msum\u001b[0m\u001b[0;34m(\u001b[0m\u001b[0;34m)\u001b[0m \u001b[0;34m==\u001b[0m \u001b[0;36m5644814193110202630\u001b[0m\u001b[0;34m,\u001b[0m \u001b[0;34m\"You have not carried out the melt operation correctly\"\u001b[0m\u001b[0;34m\u001b[0m\u001b[0m\n\u001b[0m\u001b[1;32m     11\u001b[0m \u001b[0mprint\u001b[0m\u001b[0;34m(\u001b[0m\u001b[0;34m\"Passed!\"\u001b[0m\u001b[0;34m)\u001b[0m\u001b[0;34m\u001b[0m\u001b[0m\n",
      "\u001b[0;31mAssertionError\u001b[0m: You have not carried out the melt operation correctly"
     ]
    }
   ],
   "source": [
    "# Test Cell: `melt_together_test`\n",
    "\n",
    "m_df = melt_together(c_df, n_c_df)\n",
    "\n",
    "display(m_df.head())\n",
    "\n",
    "assert 'Code' in m_df.columns, \"The column, 'Code' is not present in the melted dataframe\"\n",
    "assert 'Description' in m_df.columns, \"The column, 'Description' is not present in the melted dataframe\"\n",
    "#print( hash_pandas_object(m_df).sum())\n",
    "assert hash_pandas_object(m_df).sum() == 5644814193110202630, \"You have not carried out the melt operation correctly\"\n",
    "print(\"Passed!\")"
   ]
  },
  {
   "cell_type": "markdown",
   "metadata": {
    "deletable": false,
    "editable": false,
    "nbgrader": {
     "grade": false,
     "locked": true,
     "solution": false
    }
   },
   "source": [
    "#### Exercise 4 (2 points)\n",
    "\n",
    "Now that you have the \"data dictionary\" in a nicer form, use it to write a function that returns a 5-element tuple containing:\n",
    "\n",
    "1. The string value for the '__VARIABLE NAME__' that corresponds to the '__developer-friendly name__', 'name'. This is the name of the column that contains college names.\n",
    "2. The string value for the '__VARIABLE NAME__' that corresponds to the '__developer-friendly name__', 'tuition.in_state'. This is the name of the column that contains the in-state tuition amount for each college.\n",
    "3. The string value for the '__VARIABLE NAME__' that corresponds to the '__developer-friendly name__', 'tuition.out_of_state'. This is the name of the column that contains the out-of-state tuition amount for each college.\n",
    "4. The string value for the '__VARIABLE NAME__' that corresponds to the '__developer-friendly name__', 'program.bachelors.engineering'. This is the name of the column that contains all the colleges that offer a bachelor's degree in engineering.\n",
    "5. The float value of the __Code__ for a college that offers a bachelor's degree in engineering. Hence, the 'Description' corresponding to this data point must be 'Program offered'.\n",
    "\n",
    "For example, suppose the given developer-friendly name is 'carnegie_basic', the corresponding VARIABLE NAME is 'CCBASIC'.\n",
    "\n",
    "__Note:__ This may require some initial exploration of the dataframe. You may find this useful http://pandas.pydata.org/pandas-docs/stable/reference/api/pandas.Series.str.contains.html?highlight=contains#pandas.Series.str.contains"
   ]
  },
  {
   "cell_type": "code",
   "execution_count": 17,
   "metadata": {
    "collapsed": true
   },
   "outputs": [],
   "source": [
    "def get_dd_info(dd):\n",
    "    \n",
    "    name=dd[dd['developer-friendly name']=='name'][\"VARIABLE NAME\"].astype('str').iloc[0]\n",
    "    in_state=dd[dd['developer-friendly name']=='tuition.in_state'][\"VARIABLE NAME\"].iloc[0]\n",
    "    out_of_state=dd[dd['developer-friendly name']=='tuition.out_of_state'][\"VARIABLE NAME\"].iloc[0]\n",
    "\n",
    "    a=dd[dd['developer-friendly name']=='program.bachelors.engineering']\n",
    "    b=a[a['Description'].str.contains(\"Program offered\",regex=False)].iloc[0]\n",
    "    bach_eng=b[\"VARIABLE NAME\"]\n",
    "    offered=float(b[\"Code\"])\n",
    "    #(name,in_state,out_of_state,bach_eng,offered)\n",
    "    \n",
    "    return (name, in_state, out_of_state, bach_eng, offered)"
   ]
  },
  {
   "cell_type": "code",
   "execution_count": 18,
   "metadata": {
    "deletable": false,
    "editable": false,
    "nbgrader": {
     "grade": true,
     "grade_id": "get_dd_info_test",
     "locked": true,
     "points": "2",
     "solution": false
    }
   },
   "outputs": [
    {
     "name": "stdout",
     "output_type": "stream",
     "text": [
      "('INSTNM', 'TUITIONFEE_IN', 'TUITIONFEE_OUT', 'CIP14BACHL', 1.0)\n",
      "Passed!\n"
     ]
    }
   ],
   "source": [
    "# Test Cell: `get_dd_info_test`\n",
    "import hashlib\n",
    "\n",
    "info_tuple = get_dd_info(m_df)\n",
    "print(info_tuple)\n",
    "assert len(info_tuple) == 5, \"Your tuple is not of length 5\"\n",
    "\n",
    "m = hashlib.md5()\n",
    "for t in info_tuple:\n",
    "    m.update(str(t).encode('utf-8'))\n",
    "hash_fn = m.hexdigest()\n",
    "assert hash_fn == \"29e0f9a03ae1d011723538a17c624665\"\n",
    "print(\"Passed!\")"
   ]
  },
  {
   "cell_type": "markdown",
   "metadata": {
    "deletable": false,
    "editable": false,
    "nbgrader": {
     "grade": false,
     "locked": true,
     "solution": false
    }
   },
   "source": [
    "#### Exercise 5 (2 points)\n",
    "\n",
    "Now that you know which variable names to use in the full data file, use that to your advantage.\n",
    "\n",
    "Write a function that, given the file name and the tuple of variable names and codes:\n",
    "\n",
    "1. imports only the columns of interest in the `Most-Recent-Cohorts-All-Data-Elements.csv`, not all 140MB of data.\n",
    "2. keeps only the school that offer a bachelor's in engineering \n",
    "3. adds a new column, use `new_col_name` inside your funtion, which is the percent difference in in-state and out-of-state tuition, using the equation below\n",
    "\n",
    "$PercentDifference = \\frac{(OutOfStateTuition - InStateTuition)}{InStateTuition}$\n",
    "\n",
    "__Note:__ The first 4 elements of the tuple, 'names_codes' consists of the names of the columns that we wish to import. The last element of the tuple (5th element) is the Code of schools that offer a bachelor's in engineering/engineering technologies. \n",
    "\n",
    "The __`.assign()`__ method must be used for adding the new column\n",
    "\n",
    "Hint: Remember to reset the index! "
   ]
  },
  {
   "cell_type": "code",
   "execution_count": 19,
   "metadata": {
    "collapsed": true
   },
   "outputs": [],
   "source": [
    "def percent_diff(fname, names_codes, new_col_name):\n",
    "    cols=list(names_codes)[0:4]\n",
    "    Code=list(names_codes)[4]\n",
    "    data=pd.read_csv(fname)[cols]\n",
    "    data=data[data[cols[3]]==Code]\n",
    "    perc_diff_df=data.assign(mydiff=lambda x: (x['TUITIONFEE_OUT']-x['TUITIONFEE_IN'])/x['TUITIONFEE_IN'])\n",
    "    perc_diff_df.rename(columns={\"mydiff\":new_col_name},inplace=True)\n",
    "    perc_diff_df.reset_index(drop=True,inplace=True)\n",
    "    return perc_diff_df"
   ]
  },
  {
   "cell_type": "code",
   "execution_count": 20,
   "metadata": {
    "deletable": false,
    "editable": false,
    "nbgrader": {
     "grade": true,
     "grade_id": "percent_diff_test",
     "locked": true,
     "points": "2",
     "solution": false
    }
   },
   "outputs": [
    {
     "name": "stderr",
     "output_type": "stream",
     "text": [
      "/usr/local/lib/python3.6/site-packages/IPython/core/interactiveshell.py:2901: DtypeWarning: Columns (6,9,987,988,989,990,991,992,993,994,995,996,997,998,999,1000,1001,1002,1003,1004,1005,1006,1008,1009,1010,1011,1014,1015,1016,1017,1018,1019,1021,1022,1023,1027,1028,1029,1030,1031,1032,1034,1035,1036,1040,1041,1042,1043,1044,1045,1046,1047,1048,1049,1050,1053,1054,1055,1056,1057,1058,1059,1060,1061,1062,1063,1065,1066,1067,1068,1069,1070,1071,1073,1074,1075,1076,1078,1079,1080,1081,1082,1083,1084,1086,1087,1088,1089,1091,1092,1093,1094,1095,1096,1097,1099,1100,1101,1102,1104,1105,1106,1107,1108,1109,1110,1112,1113,1114,1115,1118,1119,1121,1122,1123,1125,1127,1128,1131,1132,1134,1135,1136,1138,1140,1141,1144,1145,1146,1147,1148,1149,1150,1151,1152,1153,1154,1157,1158,1159,1160,1161,1162,1163,1164,1165,1166,1167,1170,1171,1172,1173,1174,1175,1177,1178,1179,1180,1183,1184,1185,1186,1187,1188,1190,1192,1196,1199,1200,1201,1209,1212,1213,1214,1222,1223,1224,1225,1226,1227,1235,1236,1237,1238,1239,1240,1248,1249,1250,1251,1252,1253,1257,1261,1262,1263,1264,1265,1266,1270,1274,1275,1276,1277,1278,1279,1281,1283,1287,1288,1289,1290,1291,1292,1294,1296,1303,1309,1316,1322,1326,1327,1328,1329,1330,1331,1333,1335,1339,1340,1341,1342,1343,1344,1346,1348,1379,1380,1381,1382,1383,1384,1385,1386,1387,1388,1389,1390,1391,1392,1393,1394,1395,1396,1397,1398,1399,1400,1401,1402,1403,1404,1405,1406,1407,1408,1431,1432,1433,1475,1476,1477,1478,1479,1480,1481,1482,1483,1484,1485,1486,1487,1488,1489,1490,1491,1492,1493,1494,1495,1496,1497,1498,1499,1500,1501,1502,1503,1504,1517,1518,1519,1529,1530,1531,1532,1534,1535,1537,1538,1539,1540,1542,1575,1576,1577,1578,1579,1580,1581,1582,1583,1584,1585,1586,1587,1588,1589,1590,1591,1592,1593,1594,1595,1596,1597,1598,1599,1600,1601,1602,1606,1608,1610,1611,1614,1615,1616,1619,1620,1621,1622,1623,1624,1625,1626,1627,1628,1629,1636,1637,1638,1639,1640,1641,1642,1643,1644,1645,1646,1647,1648,1649,1650,1651,1652,1653,1654,1655,1656,1657,1658,1659,1660,1661,1662,1663,1664,1665,1666,1667,1668,1669,1670,1671,1672,1673,1674,1675,1676,1677,1678,1679,1680,1681,1682,1683,1684,1685,1686,1687,1688,1689,1690,1691,1692,1693,1694,1695,1696,1697,1698,1699,1700,1701,1702,1703,1704,1705,1706,1707,1708,1725,1726,1727,1728,1729,1743,1815,1816,1817,1818,1823,1824,1830,1831,1844,1845,1846,1879,1880,1881,1882,1883,1884,1885,1886,1887,1888,1889,1890,1891,1892,1893,1894,1895,1896,1897,1898) have mixed types. Specify dtype option on import or set low_memory=False.\n",
      "  if self.run_code(code, result):\n"
     ]
    },
    {
     "ename": "AssertionError",
     "evalue": "You have imported the tuition data incorrectly",
     "output_type": "error",
     "traceback": [
      "\u001b[0;31m---------------------------------------------------------------------------\u001b[0m",
      "\u001b[0;31mAssertionError\u001b[0m                            Traceback (most recent call last)",
      "\u001b[0;32m<ipython-input-20-9262bce5fe2d>\u001b[0m in \u001b[0;36m<module>\u001b[0;34m()\u001b[0m\n\u001b[1;32m      7\u001b[0m \u001b[0;31m#print(hash_pandas_object(p_d_df).sum())\u001b[0m\u001b[0;34m\u001b[0m\u001b[0;34m\u001b[0m\u001b[0m\n\u001b[1;32m      8\u001b[0m \u001b[0;32massert\u001b[0m \u001b[0;34m'tuition.difference'\u001b[0m \u001b[0;32min\u001b[0m \u001b[0mp_d_df\u001b[0m\u001b[0;34m.\u001b[0m\u001b[0mcolumns\u001b[0m\u001b[0;34m,\u001b[0m \u001b[0;34m\"You have not added the column, 'tuition.difference' to the dataframe\"\u001b[0m\u001b[0;34m\u001b[0m\u001b[0m\n\u001b[0;32m----> 9\u001b[0;31m \u001b[0;32massert\u001b[0m \u001b[0mhash_pandas_object\u001b[0m\u001b[0;34m(\u001b[0m\u001b[0mp_d_df\u001b[0m\u001b[0;34m)\u001b[0m\u001b[0;34m.\u001b[0m\u001b[0msum\u001b[0m\u001b[0;34m(\u001b[0m\u001b[0;34m)\u001b[0m \u001b[0;34m==\u001b[0m \u001b[0;36m3804987697303416746\u001b[0m\u001b[0;34m,\u001b[0m \u001b[0;34m\"You have imported the tuition data incorrectly\"\u001b[0m\u001b[0;34m\u001b[0m\u001b[0m\n\u001b[0m\u001b[1;32m     10\u001b[0m \u001b[0;34m\u001b[0m\u001b[0m\n\u001b[1;32m     11\u001b[0m \u001b[0mprint\u001b[0m\u001b[0;34m(\u001b[0m\u001b[0;34m\"Percent difference values seem correct. But did you use `assign()?` Let's see...\"\u001b[0m\u001b[0;34m)\u001b[0m\u001b[0;34m\u001b[0m\u001b[0m\n",
      "\u001b[0;31mAssertionError\u001b[0m: You have imported the tuition data incorrectly"
     ]
    }
   ],
   "source": [
    "# Test Cell: `percent_diff_test`\n",
    "\n",
    "p_d_df = percent_diff('../resource/lib/publicdata/mt2p1/Most-Recent-Cohorts-All-Data-Elements.csv', \n",
    "                      info_tuple, \n",
    "                      'tuition.difference')\n",
    "\n",
    "#print(hash_pandas_object(p_d_df).sum())\n",
    "assert 'tuition.difference' in p_d_df.columns, \"You have not added the column, 'tuition.difference' to the dataframe\"\n",
    "assert hash_pandas_object(p_d_df).sum() == 3804987697303416746, \"You have imported the tuition data incorrectly\"\n",
    "\n",
    "print(\"Percent difference values seem correct. But did you use `assign()?` Let's see...\")\n",
    "\n",
    "# Tests that you actually used `apply()` in your function:\n",
    "\n",
    "def assign_fail():\n",
    "    raise ValueError(\"Did you really use assign?\")\n",
    "    \n",
    "setattr(pd.DataFrame, 'assign', assign_fail)\n",
    "try:\n",
    "    percent_diff('../resource/lib/publicdata/mt2p1/Most-Recent-Cohorts-All-Data-Elements.csv', info_tuple, 'tuition.difference')\n",
    "except (ValueError, TypeError):\n",
    "    print(\"You used `assign()`!\")\n",
    "else:\n",
    "    assert False, \"Are you sure you used `assign()`?\"\n",
    "finally:\n",
    "    setattr(pd.DataFrame, 'assign', SAVE_ASSIGN)\n",
    "    \n",
    "display(p_d_df.head())\n",
    "print(\"\\n Passed!\")\n"
   ]
  },
  {
   "cell_type": "markdown",
   "metadata": {
    "deletable": false,
    "editable": false,
    "nbgrader": {
     "grade": false,
     "locked": true,
     "solution": false
    }
   },
   "source": [
    "#### Exercise 6 ( 2 points)\n",
    "\n",
    "For the final product, let's make this dataframe more user-friendly.\n",
    "\n",
    "Write a function that\n",
    "\n",
    "1. sorts descending by the tuition difference, `tuition.difference`\n",
    "2. resets the index to provide a clear \"ranking\" without the old index being included in the dataframe\n",
    "3. renames the columns using the data dictionary 'developer-friendly name' instead of the 'VARIABLE NAME'"
   ]
  },
  {
   "cell_type": "code",
   "execution_count": null,
   "metadata": {
    "collapsed": true
   },
   "outputs": [],
   "source": [
    "def friendlify(unsorted_df, sort_column_name, data_dictionary):\n",
    "    \n",
    "    friendly_df=unsorted_df.copy()\n",
    "    friendly_df.sort_values(by=sort_column_name,ascending=False,inplace=True)\n",
    "    friendly_df.reset_index(drop=True,inplace=True)\n",
    "\n",
    "    clu=dict(zip(data_dictionary['VARIABLE NAME'],data_dictionary['developer-friendly name']))\n",
    "    cols=list(friendly_df)\n",
    "    \n",
    "    for old_col in cols[0:-1]:\n",
    "        new_col=clu[old_col]\n",
    "        friendly_df.rename(columns={old_col:new_col},inplace=True)\n",
    "    \n",
    "    cols=list(friendly_df)\n",
    "\n",
    "    return friendly_df"
   ]
  },
  {
   "cell_type": "code",
   "execution_count": 45,
   "metadata": {
    "deletable": false,
    "editable": false,
    "nbgrader": {
     "grade": true,
     "grade_id": "friendlify_test",
     "locked": true,
     "points": "2",
     "solution": false
    }
   },
   "outputs": [
    {
     "ename": "AssertionError",
     "evalue": "You have not manipulated the data correctly",
     "output_type": "error",
     "traceback": [
      "\u001b[0;31m---------------------------------------------------------------------------\u001b[0m",
      "\u001b[0;31mAssertionError\u001b[0m                            Traceback (most recent call last)",
      "\u001b[0;32m<ipython-input-45-80255de2354d>\u001b[0m in \u001b[0;36m<module>\u001b[0;34m()\u001b[0m\n\u001b[1;32m      7\u001b[0m \u001b[0;32mfor\u001b[0m \u001b[0mcol_name\u001b[0m \u001b[0;32min\u001b[0m \u001b[0minfo_tuple\u001b[0m\u001b[0;34m[\u001b[0m\u001b[0;34m:\u001b[0m\u001b[0;34m-\u001b[0m\u001b[0;36m1\u001b[0m\u001b[0;34m]\u001b[0m\u001b[0;34m:\u001b[0m\u001b[0;34m\u001b[0m\u001b[0m\n\u001b[1;32m      8\u001b[0m     \u001b[0;32massert\u001b[0m \u001b[0mcol_name\u001b[0m \u001b[0;32mnot\u001b[0m \u001b[0;32min\u001b[0m \u001b[0mf_df\u001b[0m\u001b[0;34m.\u001b[0m\u001b[0mcolumns\u001b[0m\u001b[0;34m,\u001b[0m \u001b[0;34m\"You have not renamed the columns\"\u001b[0m\u001b[0;34m\u001b[0m\u001b[0m\n\u001b[0;32m----> 9\u001b[0;31m \u001b[0;32massert\u001b[0m \u001b[0mhash_pandas_object\u001b[0m\u001b[0;34m(\u001b[0m\u001b[0mf_df\u001b[0m\u001b[0;34m)\u001b[0m\u001b[0;34m.\u001b[0m\u001b[0msum\u001b[0m\u001b[0;34m(\u001b[0m\u001b[0;34m)\u001b[0m \u001b[0;34m==\u001b[0m \u001b[0;36m3602324263510516280\u001b[0m\u001b[0;34m,\u001b[0m \u001b[0;34m\"You have not manipulated the data correctly\"\u001b[0m\u001b[0;34m\u001b[0m\u001b[0m\n\u001b[0m\u001b[1;32m     10\u001b[0m \u001b[0mprint\u001b[0m\u001b[0;34m(\u001b[0m\u001b[0;34m\"Passed!\"\u001b[0m\u001b[0;34m)\u001b[0m\u001b[0;34m\u001b[0m\u001b[0m\n",
      "\u001b[0;31mAssertionError\u001b[0m: You have not manipulated the data correctly"
     ]
    }
   ],
   "source": [
    "# Test Cell: `friendlify_test`\n",
    "\n",
    "f_df = friendlify(p_d_df, \n",
    "                  'tuition.difference',\n",
    "                  m_df)\n",
    "\n",
    "for col_name in info_tuple[:-1]:\n",
    "    assert col_name not in f_df.columns, \"You have not renamed the columns\"\n",
    "assert hash_pandas_object(f_df).sum() == 3602324263510516280, \"You have not manipulated the data correctly\"\n",
    "print(\"Passed!\")"
   ]
  },
  {
   "cell_type": "markdown",
   "metadata": {
    "deletable": false,
    "editable": false,
    "nbgrader": {
     "grade": false,
     "locked": true,
     "solution": false
    }
   },
   "source": [
    "**Fin!** You've reached the end of this problem. Don't forget to restart the kernel and run the entire notebook from top-to-bottom to make sure you did everything correctly. If that is working, try submitting this problem. (Recall that you *must* submit and pass the autograder to get credit for your work!)"
   ]
  },
  {
   "cell_type": "code",
   "execution_count": null,
   "metadata": {
    "collapsed": true
   },
   "outputs": [],
   "source": []
  }
 ],
 "metadata": {
  "kernelspec": {
   "display_name": "Python 3 [3.6]",
   "language": "python",
   "name": "python3"
  },
  "language_info": {
   "codemirror_mode": {
    "name": "ipython",
    "version": 3
   },
   "file_extension": ".py",
   "mimetype": "text/x-python",
   "name": "python",
   "nbconvert_exporter": "python",
   "pygments_lexer": "ipython3",
   "version": "3.6.4"
  }
 },
 "nbformat": 4,
 "nbformat_minor": 2
}
