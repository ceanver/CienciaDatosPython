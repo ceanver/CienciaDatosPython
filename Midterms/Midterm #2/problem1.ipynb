{
 "cells": [
  {
   "cell_type": "code",
   "execution_count": 1,
   "metadata": {
    "collapsed": true,
    "deletable": false,
    "editable": false,
    "nbgrader": {
     "grade": false,
     "locked": true,
     "solution": false
    }
   },
   "outputs": [],
   "source": [
    "import numpy as np\n",
    "import matplotlib.pyplot as plt\n",
    "import seaborn as sns\n",
    "from sklearn.datasets import make_circles, make_moons\n",
    "from helpers import *"
   ]
  },
  {
   "cell_type": "code",
   "execution_count": 2,
   "metadata": {
    "collapsed": true,
    "nbgrader": {
     "grade": false,
     "locked": false,
     "solution": false
    }
   },
   "outputs": [],
   "source": [
    "d = 2\n",
    "n = 500\n",
    "\n",
    "data, centers = make_data(d, n, 3)"
   ]
  },
  {
   "cell_type": "markdown",
   "metadata": {
    "deletable": false,
    "editable": false,
    "nbgrader": {
     "grade": false,
     "locked": true,
     "solution": false
    }
   },
   "source": [
    "# Visualization application on Clustering\n",
    "This problem has 4 exercises, numbered 0 through 3, and is worth a total of ten points. Exercise 3 depends on exercise 2, but exercises 0 and 1\n",
    "are independent. ***The test cells are hidden but one test case is provided for debugging purposes.***\n",
    "\n",
    "In this problem, we are going to work with data points on 2D plane (for visualization purposes), we will:\n",
    "\n",
    "1. Use K-Means algorithm to cluster them into $K$ clusters.\n",
    "2. Use kernel density estimation (KDE) to fit data in a non-parametric fashion."
   ]
  },
  {
   "cell_type": "code",
   "execution_count": 3,
   "metadata": {
    "deletable": false,
    "editable": false,
    "nbgrader": {
     "grade": false,
     "locked": true,
     "solution": false
    }
   },
   "outputs": [
    {
     "data": {
      "text/plain": [
       "<matplotlib.collections.PathCollection at 0x7f436882a320>"
      ]
     },
     "execution_count": 3,
     "metadata": {},
     "output_type": "execute_result"
    },
    {
     "data": {
      "image/png": "[encoded data removed]",
      "text/plain": [
       "<matplotlib.figure.Figure at 0x7f4368850128>"
      ]
     },
     "metadata": {},
     "output_type": "display_data"
    }
   ],
   "source": [
    "plt.scatter(data[:, 0], data[:, 1])"
   ]
  },
  {
   "cell_type": "markdown",
   "metadata": {
    "deletable": false,
    "editable": false,
    "nbgrader": {
     "grade": false,
     "locked": true,
     "solution": false
    }
   },
   "source": [
    "What do we mean by clustering? We aim to partition all points into $K$ classes $C_1, C_2, \\cdots, C_K$ and find $K$ centers $\\mu_1, \\mu_2, \\cdots, \\mu_k$, such that\n",
    "\n",
    "$$\\sum_{k}\\sum_{i} r_{ik} \\|x_i - \\mu_k\\|^2$$\n",
    "\n",
    "where $r_{ik}$ is the indicator of where $x_i$ is in class $C_k$.\n",
    "\n",
    "## K-Means Clustering\n",
    "\n",
    "Given $K$, K-Means algorithm works as follows,\n",
    "\n",
    "1. Randomly initialize $K$ centers $\\mu_1, \\mu_2, \\cdots, \\mu_k$\n",
    "2. Iteratively assign each $x_i$ to its nearest center $\\mu_k$, and then reestimate $\\mu_k$ based on assignment until converge."
   ]
  },
  {
   "cell_type": "markdown",
   "metadata": {
    "deletable": false,
    "editable": false,
    "nbgrader": {
     "grade": false,
     "locked": true,
     "solution": false
    }
   },
   "source": [
    "**Exercise 0:** First, we will implement the `assign` function, which assigns data points to its nearest center. For example, suppose `data = [[101, 0], [99,1], [-100,2]], mu = [[100,0], [-100, 0]]`, then you would expect to return `membership = [0, 0, 1]`. If there are multiple centers that are equidistant to a point, pick the center with the lowest index, i.e., the first center in mu that is nearest to the point. (3 points) "
   ]
  },
  {
   "cell_type": "code",
   "execution_count": 4,
   "metadata": {
    "collapsed": true
   },
   "outputs": [],
   "source": [
    "def distance(dd,mm):\n",
    "    import math\n",
    "    d=np.array(dd)-np.array(mm)\n",
    "    return(math.sqrt(d.dot(d)))\n",
    "\n",
    "def assign(data, mu):\n",
    "    # data: (N, 2) numpy.array\n",
    "    # mu: (K, 2) numpy.array\n",
    "    # return: (N,) numpy.array indicating class membership of each data point\n",
    "    membership = np.zeros(len(data))\n",
    "    for i,vi in enumerate(data):\n",
    "        for j,vj in enumerate(mu):\n",
    "            d=distance(vi,vj)\n",
    "            if j==0:\n",
    "                dmin=d\n",
    "                idx=0\n",
    "            elif d<dmin:\n",
    "                dmin=d\n",
    "                idx=j\n",
    "        membership[i]=idx \n",
    "        \n",
    "    return membership"
   ]
  },
  {
   "cell_type": "code",
   "execution_count": 5,
   "metadata": {
    "deletable": false,
    "editable": false,
    "nbgrader": {
     "grade": false,
     "locked": true,
     "solution": false
    }
   },
   "outputs": [
    {
     "data": {
      "text/plain": [
       "'Passed!'"
      ]
     },
     "execution_count": 5,
     "metadata": {},
     "output_type": "execute_result"
    }
   ],
   "source": [
    "### Test Cell for Debugging\n",
    "data1, centers1 = make_data(d, n, 3)\n",
    "student_membership = assign(data1, centers1)\n",
    "test_assign(data1, centers1, student_membership)"
   ]
  },
  {
   "cell_type": "code",
   "execution_count": 6,
   "metadata": {
    "collapsed": true,
    "deletable": false,
    "editable": false,
    "nbgrader": {
     "grade": true,
     "grade_id": "assign_test",
     "locked": true,
     "points": "3",
     "solution": false
    }
   },
   "outputs": [],
   "source": [
    "###\n",
    "### AUTOGRADER TEST - DO NOT REMOVE\n",
    "###\n"
   ]
  },
  {
   "cell_type": "markdown",
   "metadata": {
    "deletable": false,
    "editable": false,
    "nbgrader": {
     "grade": false,
     "locked": true,
     "solution": false
    }
   },
   "source": [
    "Next we implement `re_estimate` function. For each class $C_k$, we reestimate its center as \n",
    "$$\\mu_k \\gets \\frac{1}{\\sum_{i=1}^N r_{ik}} \\sum_{i}r_{ik}x_i$$"
   ]
  },
  {
   "cell_type": "markdown",
   "metadata": {
    "deletable": false,
    "editable": false,
    "nbgrader": {
     "grade": false,
     "locked": true,
     "solution": false
    }
   },
   "source": [
    "**Exercise 1:** The function should return an array where each element gives the 2-D coordinates for the center of the respective class (3 points)"
   ]
  },
  {
   "cell_type": "code",
   "execution_count": 7,
   "metadata": {
    "collapsed": true
   },
   "outputs": [],
   "source": [
    "def re_estimate(data, membership):\n",
    "     # data: (N, 2) numpy.array\n",
    "     # membership: (N,) numpy.array indicating class membership of each data point   \n",
    "     # mu: (K, 2) numpy.array\n",
    "    \n",
    "    n=np.zeros(int(membership.max()+1))\n",
    "    sv=np.zeros(shape=(len(n),2))\n",
    "    for i,c in zip(data,membership):\n",
    "        \n",
    "        idx=c.astype(int)\n",
    "        sv[idx:idx+1,0:1]+=i[0]\n",
    "        sv[idx:idx+1,1:2]+=i[1]\n",
    "    \n",
    "        n[idx]+=1\n",
    "    \n",
    "    for i in range(len(sv)):\n",
    "        sv[i,0]/=n[i]\n",
    "        sv[i,1]/=n[i]\n",
    "    mu=sv\n",
    "\n",
    "    return mu\n"
   ]
  },
  {
   "cell_type": "code",
   "execution_count": 8,
   "metadata": {
    "deletable": false,
    "editable": false,
    "nbgrader": {
     "grade": false,
     "locked": true,
     "solution": false
    }
   },
   "outputs": [
    {
     "data": {
      "text/plain": [
       "'Passed!'"
      ]
     },
     "execution_count": 8,
     "metadata": {},
     "output_type": "execute_result"
    }
   ],
   "source": [
    "### Test Cell for Debugging\n",
    "\n",
    "data1, centers1 = make_data(d, n, 3)\n",
    "membership1 = inst_assign(data1, centers1)\n",
    "student_mu = re_estimate(data1, membership1)\n",
    "test_re_estimate(data1, membership1, student_mu)\n"
   ]
  },
  {
   "cell_type": "code",
   "execution_count": 9,
   "metadata": {
    "collapsed": true,
    "deletable": false,
    "editable": false,
    "nbgrader": {
     "grade": true,
     "grade_id": "re_estimate_test",
     "locked": true,
     "points": "3",
     "solution": false
    }
   },
   "outputs": [],
   "source": [
    "###\n",
    "### AUTOGRADER TEST - DO NOT REMOVE\n",
    "###\n"
   ]
  },
  {
   "cell_type": "markdown",
   "metadata": {
    "deletable": false,
    "editable": false,
    "nbgrader": {
     "grade": false,
     "locked": true,
     "solution": false
    }
   },
   "source": [
    "Let's put the pieces together and see how well it works."
   ]
  },
  {
   "cell_type": "code",
   "execution_count": 10,
   "metadata": {
    "deletable": false,
    "editable": false,
    "nbgrader": {
     "grade": false,
     "locked": true,
     "solution": false
    }
   },
   "outputs": [
    {
     "data": {
      "text/plain": [
       "<matplotlib.legend.Legend at 0x7f434f524438>"
      ]
     },
     "execution_count": 10,
     "metadata": {},
     "output_type": "execute_result"
    },
    {
     "data": {
      "image/png": "[encoded data removed]",
      "text/plain": [
       "<matplotlib.figure.Figure at 0x7f4368865208>"
      ]
     },
     "metadata": {},
     "output_type": "display_data"
    }
   ],
   "source": [
    "K = 3\n",
    "mu = centers + 0.5 * np.random.randn(K, d)\n",
    "max_iter = 20\n",
    "\n",
    "for it in range(max_iter):\n",
    "    membership = assign(data, mu)\n",
    "    mu = re_estimate(data, membership)\n",
    "    \n",
    "for k in range(K):\n",
    "    mask = membership == k\n",
    "    x, y = data[mask, 0], data[mask, 1]\n",
    "    plt.scatter(x, y, label='class {}'.format(k))\n",
    "\n",
    "plt.legend()"
   ]
  },
  {
   "cell_type": "markdown",
   "metadata": {
    "deletable": false,
    "editable": false,
    "nbgrader": {
     "grade": false,
     "locked": true,
     "solution": false
    }
   },
   "source": [
    "## Kernel Density Estimation\n",
    "\n",
    "We turn our attention to another question, what is the probability distribution of data? A powerful method is kernel density estimation (KDE). The probability density function is given by\n",
    "$$ f(x) = \\sum_{i=1}^N \\frac{1}{N}K(\\frac{x-x_i}{h})$$\n",
    "where $K(z)=\\frac{1}{\\sqrt{2\\pi}} \\exp(-\\frac{\\|z\\|^2}{2})$ is a kernel function and $\\|z\\|^2$ is the squared [euclidean norm](https://en.wikipedia.org/wiki/Norm_(mathematics)). \n",
    "**Hint:** You can use [numpy.linalg.norm](https://docs.scipy.org/doc/numpy/reference/generated/numpy.linalg.norm.html)"
   ]
  },
  {
   "cell_type": "markdown",
   "metadata": {
    "deletable": false,
    "editable": false,
    "nbgrader": {
     "grade": false,
     "locked": true,
     "solution": false
    }
   },
   "source": [
    "**Exercise 2** Implement K(z) based on the above kernel function. Return a numpy array with shape (500,)（2 points)"
   ]
  },
  {
   "cell_type": "code",
   "execution_count": 11,
   "metadata": {
    "collapsed": true,
    "nbgrader": {
     "grade": false,
     "locked": false,
     "solution": false
    }
   },
   "outputs": [],
   "source": [
    "def kernel(z):\n",
    "    import math\n",
    "    from numpy import linalg as la\n",
    "\n",
    "    # z: (N, 2) numpy.array\n",
    "    # returns (N, 1) numpy.array\n",
    "    zz=np.zeros(shape=(len(z)))\n",
    "    for i,v in enumerate(z):\n",
    "        zz[i]=math.exp(-v.dot(v)/2)/math.sqrt(2*np.pi)\n",
    "        \n",
    "    return  zz\n",
    "    ###"
   ]
  },
  {
   "cell_type": "code",
   "execution_count": 12,
   "metadata": {
    "deletable": false,
    "editable": false,
    "nbgrader": {
     "grade": false,
     "locked": true,
     "solution": false
    }
   },
   "outputs": [
    {
     "data": {
      "text/plain": [
       "'Passed!'"
      ]
     },
     "execution_count": 12,
     "metadata": {},
     "output_type": "execute_result"
    }
   ],
   "source": [
    "### Test Cell for Debugging\n",
    "data1, centers1 = make_data(d, n, 3)\n",
    "student_kernel = kernel(data1)\n",
    "test_kernel(data1, student_kernel)"
   ]
  },
  {
   "cell_type": "code",
   "execution_count": 13,
   "metadata": {
    "collapsed": true,
    "deletable": false,
    "editable": false,
    "nbgrader": {
     "grade": true,
     "grade_id": "kernel_test",
     "locked": true,
     "points": "2",
     "solution": false
    }
   },
   "outputs": [],
   "source": [
    "###\n",
    "### AUTOGRADER TEST - DO NOT REMOVE\n",
    "###\n"
   ]
  },
  {
   "cell_type": "markdown",
   "metadata": {
    "deletable": false,
    "editable": false,
    "nbgrader": {
     "grade": false,
     "locked": true,
     "solution": false
    }
   },
   "source": [
    "** Exercise 3 ** Based on the KDE function: $$ f(x) = \\sum_{i=1}^N \\frac{1}{N}K(\\frac{x-x_i}{h})$$ \n",
    "Compute the probablity density at `[0,0]`, i.e., $f((0,0))$. This should return a **scalar** value. (2 points）"
   ]
  },
  {
   "cell_type": "code",
   "execution_count": 14,
   "metadata": {
    "collapsed": true
   },
   "outputs": [],
   "source": [
    "def compute(data, h):\n",
    "    n=len(data)\n",
    "    return sum(kernel(data1/h))/n\n",
    "    \n"
   ]
  },
  {
   "cell_type": "code",
   "execution_count": 15,
   "metadata": {
    "deletable": false,
    "editable": false,
    "nbgrader": {
     "grade": false,
     "locked": true,
     "solution": false
    }
   },
   "outputs": [
    {
     "data": {
      "text/plain": [
       "'Passed!'"
      ]
     },
     "execution_count": 15,
     "metadata": {},
     "output_type": "execute_result"
    }
   ],
   "source": [
    "### Test Cell for Debugging\n",
    "\n",
    "data1, centers1 = make_data(d, n, 3)\n",
    "student_compute = compute(data1, h=1)\n",
    "test_compute(data1, student_compute, 1)"
   ]
  },
  {
   "cell_type": "code",
   "execution_count": 16,
   "metadata": {
    "collapsed": true,
    "deletable": false,
    "editable": false,
    "nbgrader": {
     "grade": true,
     "grade_id": "compute_test",
     "locked": true,
     "points": "2",
     "solution": false
    }
   },
   "outputs": [],
   "source": [
    "###\n",
    "### AUTOGRADER TEST - DO NOT REMOVE\n",
    "###\n"
   ]
  },
  {
   "cell_type": "markdown",
   "metadata": {
    "deletable": false,
    "editable": false,
    "nbgrader": {
     "grade": false,
     "locked": true,
     "solution": false
    }
   },
   "source": [
    "Finally, use the nice visualization library `seaborn` in Python to visualize the kernel density estimation."
   ]
  },
  {
   "cell_type": "code",
   "execution_count": 17,
   "metadata": {
    "deletable": false,
    "editable": false,
    "nbgrader": {
     "grade": false,
     "locked": true,
     "solution": false
    }
   },
   "outputs": [
    {
     "name": "stderr",
     "output_type": "stream",
     "text": [
      "/usr/local/lib/python3.6/site-packages/scipy/stats/stats.py:1713: FutureWarning: Using a non-tuple sequence for multidimensional indexing is deprecated; use `arr[tuple(seq)]` instead of `arr[seq]`. In the future this will be interpreted as an array index, `arr[np.array(seq)]`, which will result either in an error or a different result.\n",
      "  return np.add.reduce(sorted[indexer] * weights, axis=axis) / sumval\n"
     ]
    },
    {
     "data": {
      "image/png": "[encoded data removed]",
      "text/plain": [
       "<matplotlib.figure.Figure at 0x7f434f575908>"
      ]
     },
     "metadata": {},
     "output_type": "display_data"
    }
   ],
   "source": [
    "sns.set_style(\"darkgrid\")\n",
    "colors = ['Reds', 'Blues', 'Greens']\n",
    "\n",
    "for k in range(K):\n",
    "    mask = membership == k\n",
    "    x, y = data[mask, 0], data[mask, 1]\n",
    "    sns.kdeplot(x, y,\n",
    "                cmap=colors[k], shade=True, shade_lowest=False)"
   ]
  },
  {
   "cell_type": "markdown",
   "metadata": {
    "collapsed": true
   },
   "source": [
    "**Fin!** You've reached the end of this problem. Don't forget to restart the\n",
    "kernel and run the entire notebook from top-to-bottom to make sure you did\n",
    "everything correctly. If that is working, try submitting this problem. (Recall\n",
    "that you *must* submit and pass the autograder to get credit for your work!)"
   ]
  },
  {
   "cell_type": "code",
   "execution_count": null,
   "metadata": {
    "collapsed": true
   },
   "outputs": [],
   "source": []
  }
 ],
 "metadata": {
  "kernelspec": {
   "display_name": "Python 3 [3.6]",
   "language": "python",
   "name": "python3"
  },
  "language_info": {
   "codemirror_mode": {
    "name": "ipython",
    "version": 3
   },
   "file_extension": ".py",
   "mimetype": "text/x-python",
   "name": "python",
   "nbconvert_exporter": "python",
   "pygments_lexer": "ipython3",
   "version": "3.6.4"
  }
 },
 "nbformat": 4,
 "nbformat_minor": 2
}
