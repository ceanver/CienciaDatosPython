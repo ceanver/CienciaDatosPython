{
 "cells": [
  {
   "cell_type": "markdown",
   "metadata": {
    "deletable": false,
    "editable": false,
    "nbgrader": {
     "grade": false,
     "locked": true,
     "solution": false
    }
   },
   "source": [
    "## Problem 9: NYPD Motor Vehicle Collisions\n",
    "\n",
    "In this notebook you will analyze motor collisions in New York City. This data is taken from [NYC Open Data](https://data.cityofnewyork.us/Public-Safety/NYPD-Motor-Vehicle-Collisions/h9gi-nx95). This is a breakdown of every collision in NYC by location and injury. Each record represents a collision in NYC by city, borough, precinct and cross street.\n",
    "\n",
    "This notebook has a total of 4 exercises worth a total of 10 points.\n",
    "\n"
   ]
  },
  {
   "cell_type": "markdown",
   "metadata": {
    "deletable": false,
    "editable": false,
    "nbgrader": {
     "grade": false,
     "locked": true,
     "solution": false
    }
   },
   "source": [
    "### Setup\n",
    "Run the following code cells to setup your environment\n",
    "\n",
    "Please ensure that **Python 3.5** is selected to run this notebook"
   ]
  },
  {
   "cell_type": "code",
   "execution_count": 1,
   "metadata": {
    "collapsed": true,
    "deletable": false,
    "editable": false,
    "nbgrader": {
     "grade": false,
     "locked": true,
     "solution": false
    },
    "scrolled": true
   },
   "outputs": [],
   "source": [
    "import pandas as pd\n",
    "import numpy as np\n",
    "import sqlite3 as db"
   ]
  },
  {
   "cell_type": "code",
   "execution_count": 2,
   "metadata": {
    "deletable": false,
    "editable": false,
    "nbgrader": {
     "grade": false,
     "locked": true,
     "solution": false
    },
    "scrolled": true
   },
   "outputs": [
    {
     "name": "stdout",
     "output_type": "stream",
     "text": [
      "('table', 'nypd', 'CREATE TABLE \"nypd\" (\\n\"Unique_key\" TEXT,\\n  \"DATE\" TEXT,\\n  \"TIME\" TEXT,\\n  \"BOROUGH\" TEXT,\\n  \"Zip_code\" TEXT,\\n  \"LATITUDE\" REAL,\\n  \"LONGITUDE\" REAL,\\n  \"CONTRIBUTING FACTOR VEHICLE 1\" TEXT,\\n  \"Num_of_persons_injured\" INTEGER,\\n  \"VEHICLE TYPE CODE 1\" TEXT\\n)')\n",
      "('table', 'Detail_injured', 'CREATE TABLE \"Detail_injured\" (\\n\"Unique_key\" TEXT,\\n  \"Num_of_persons_injured\" INTEGER,\\n  \"Num_of_persons_killed\" INTEGER,\\n  \"Num_of_pedestrians_injured\" INTEGER,\\n  \"Num_of_pedestrians_killed\" INTEGER\\n)')\n"
     ]
    }
   ],
   "source": [
    "conn = db.connect('../resource/lib/publicdata/mt2nb9/nypd.db')\n",
    "c = conn.cursor()\n",
    "c.execute('SELECT type, name, sql FROM sqlite_master')\n",
    "results = c.fetchall()\n",
    "for table in results:\n",
    "    print(table)"
   ]
  },
  {
   "cell_type": "markdown",
   "metadata": {
    "deletable": false,
    "editable": false,
    "nbgrader": {
     "grade": false,
     "locked": true,
     "solution": false
    }
   },
   "source": [
    "### Table Details\n",
    "Please note that there are two tables in the database\n",
    "\n",
    "<b>1. Table: nypd</b> \n",
    "\n",
    "   <b>Columns:</b> Unique_key, DATE, TIME, BOROUGH, Zip_code, LATITUDE, LONGITUDE, CONTRIBUTING FACTOR VEHICLE 1, Num_of_Persons_injured, VEHICLE TYPE CODE 1\n",
    "   \n",
    "   \n",
    "<b>2. Table: Detail_injured </b>\n",
    "\n",
    "   <b>Columns:</b> Unique_key, Num_of_persons_injured, Num_of_persons_killed, Num_of_pedestrans_injured, Num_of_pedestrians_killed\n",
    "   \n",
    "   Table **`Detail_injured`** is only used in Exercise-3."
   ]
  },
  {
   "cell_type": "markdown",
   "metadata": {
    "deletable": false,
    "editable": false,
    "nbgrader": {
     "grade": false,
     "locked": true,
     "solution": false
    }
   },
   "source": [
    "### Exercises"
   ]
  },
  {
   "cell_type": "markdown",
   "metadata": {
    "deletable": false,
    "editable": false,
    "nbgrader": {
     "grade": false,
     "locked": true,
     "solution": false
    }
   },
   "source": [
    "**Exercise 0** (2 points) Using the table **`nypd`**, here are some tasks to complete in this exercise.\n",
    " \n",
    "1. Using the column, `DATE`, which is in the form mm/dd/yyyy, add a new column to the dataset called `Month`. \n",
    "2. Then return the total number of PERSONS INJURED (total_num_of_injured) in each month, by the descending order of Num_of_injured.\n",
    " \n",
    " Save your result in a table named **`new_dataset`**.\n",
    " \n",
    " The format of your table should be:\n",
    "\n",
    "\n",
    "-----| month | total_num_of_injured |\n",
    "-----|-------|----------------------|\n",
    " 0   |   10  |  11234               | \n",
    "\n"
   ]
  },
  {
   "cell_type": "code",
   "execution_count": 3,
   "metadata": {},
   "outputs": [
    {
     "data": {
      "text/html": [
       "<div>\n",
       "<style scoped>\n",
       "    .dataframe tbody tr th:only-of-type {\n",
       "        vertical-align: middle;\n",
       "    }\n",
       "\n",
       "    .dataframe tbody tr th {\n",
       "        vertical-align: top;\n",
       "    }\n",
       "\n",
       "    .dataframe thead th {\n",
       "        text-align: right;\n",
       "    }\n",
       "</style>\n",
       "<table border=\"1\" class=\"dataframe\">\n",
       "  <thead>\n",
       "    <tr style=\"text-align: right;\">\n",
       "      <th></th>\n",
       "      <th>month</th>\n",
       "      <th>total_num_of_injured</th>\n",
       "    </tr>\n",
       "  </thead>\n",
       "  <tbody>\n",
       "    <tr>\n",
       "      <th>0</th>\n",
       "      <td>07</td>\n",
       "      <td>24136</td>\n",
       "    </tr>\n",
       "    <tr>\n",
       "      <th>1</th>\n",
       "      <td>10</td>\n",
       "      <td>23181</td>\n",
       "    </tr>\n",
       "    <tr>\n",
       "      <th>2</th>\n",
       "      <td>08</td>\n",
       "      <td>23132</td>\n",
       "    </tr>\n",
       "    <tr>\n",
       "      <th>3</th>\n",
       "      <td>09</td>\n",
       "      <td>22977</td>\n",
       "    </tr>\n",
       "    <tr>\n",
       "      <th>4</th>\n",
       "      <td>12</td>\n",
       "      <td>22032</td>\n",
       "    </tr>\n",
       "  </tbody>\n",
       "</table>\n",
       "</div>"
      ],
      "text/plain": [
       "  month  total_num_of_injured\n",
       "0    07                 24136\n",
       "1    10                 23181\n",
       "2    08                 23132\n",
       "3    09                 22977\n",
       "4    12                 22032"
      ]
     },
     "execution_count": 3,
     "metadata": {},
     "output_type": "execute_result"
    }
   ],
   "source": [
    "query='''\n",
    "select month, sum(Num_of_Persons_injured) as total_num_of_injured\n",
    "from (\n",
    "    select substr(DATE,1,2) as month,  Num_of_Persons_injured\n",
    "    from nypd)\n",
    "group by month\n",
    "order by total_num_of_injured desc\n",
    "'''\n",
    "new_dataset=pd.read_sql_query(query,conn)\n",
    "new_dataset.head()"
   ]
  },
  {
   "cell_type": "code",
   "execution_count": 4,
   "metadata": {
    "deletable": false,
    "editable": false,
    "nbgrader": {
     "grade": true,
     "grade_id": "exercise0",
     "locked": true,
     "points": "2",
     "solution": false
    }
   },
   "outputs": [
    {
     "name": "stdout",
     "output_type": "stream",
     "text": [
      "\n",
      "(Passed!)\n"
     ]
    }
   ],
   "source": [
    "## Test Cell: Check Month & Total number of injured ##\n",
    "assert (new_dataset[new_dataset['month']=='06']['total_num_of_injured'] == 21055.0).all()\n",
    "assert (new_dataset['total_num_of_injured'].sum() == 245979.0)\n",
    "\n",
    "print(\"\\n(Passed!)\")"
   ]
  },
  {
   "cell_type": "markdown",
   "metadata": {
    "deletable": false,
    "editable": false,
    "nbgrader": {
     "grade": false,
     "locked": true,
     "solution": false
    }
   },
   "source": [
    "**Exercise 1 (2 point):** Using the table **`nypd`**, here are some tasks to complete in this exercise.\n",
    "There are many contributing factors for the collisions. please list top 10 contributing factors (unspecified is not a factor). Save your result in a table named **`top10_factors`**, by the descending order of cnt.\n",
    "\n",
    "The format of your table should be:\n",
    "\n",
    "\n",
    "-----| CONTRIBUTING FACTOR VEHICLE 1   |  cnt  |\n",
    "-----|---------------------------------|-------|\n",
    " 0   |             Lost Consciousness  |  11234| \n",
    "\n"
   ]
  },
  {
   "cell_type": "code",
   "execution_count": 5,
   "metadata": {},
   "outputs": [
    {
     "name": "stdout",
     "output_type": "stream",
     "text": [
      "    CONTRIBUTING FACTOR VEHICLE 1     cnt\n",
      "0  Driver Inattention/Distraction  166711\n",
      "1   Failure to Yield Right-of-Way   58626\n",
      "2                Backing Unsafely   41497\n",
      "3                 Other Vehicular   33228\n",
      "4           Following Too Closely   26373\n",
      "5                 Fatigued/Drowsy   25211\n",
      "6              Turning Improperly   23777\n",
      "7             Passing Too Closely   19249\n",
      "8  Passing or Lane Usage Improper   18120\n",
      "9              Lost Consciousness   15152\n"
     ]
    }
   ],
   "source": [
    "###\n",
    "### YOUR CODE HERE\n",
    "###\n",
    "\n",
    "query='''\n",
    "    select \"CONTRIBUTING FACTOR VEHICLE 1\", count(*) as cnt \n",
    "    from nypd\n",
    "    where  \"CONTRIBUTING FACTOR VEHICLE 1\" <> \"Unspecified\" \n",
    "    group by \"CONTRIBUTING FACTOR VEHICLE 1\"\n",
    "    order by cnt desc\n",
    "    limit 10\n",
    "\n",
    "'''\n",
    "top10_factors=pd.read_sql_query(query,conn)\n",
    "print(top10_factors)\n"
   ]
  },
  {
   "cell_type": "code",
   "execution_count": 6,
   "metadata": {
    "deletable": false,
    "editable": false,
    "nbgrader": {
     "grade": true,
     "grade_id": "exercise1",
     "locked": true,
     "points": "2",
     "solution": false
    }
   },
   "outputs": [
    {
     "name": "stdout",
     "output_type": "stream",
     "text": [
      "\n",
      "(Passed!)\n"
     ]
    }
   ],
   "source": [
    "## Test Cell: Check the contributing factors ##\n",
    "assert top10_factors['cnt'].sum() == 427944\n",
    "assert top10_factors['CONTRIBUTING FACTOR VEHICLE 1'].iloc[0] == 'Driver Inattention/Distraction'\n",
    "assert top10_factors['CONTRIBUTING FACTOR VEHICLE 1'].iloc[9] == 'Lost Consciousness'\n",
    "assert (top10_factors['CONTRIBUTING FACTOR VEHICLE 1']=='Fatigued/Drowsy').any()\n",
    "\n",
    "print(\"\\n(Passed!)\")"
   ]
  },
  {
   "cell_type": "markdown",
   "metadata": {
    "deletable": false,
    "editable": false,
    "nbgrader": {
     "grade": false,
     "locked": true,
     "solution": false
    }
   },
   "source": [
    "**Exercise 2 (3 points):** Using the table **`nypd`**, here are some tasks to complete in this exercise.\n",
    "\n",
    "There are five boroughs in NYC, please list ONE location in QUEENS and ONE location in Bronx that has the `highest` number of collisions.((latitude, longitude) = (0,0) should not be chosen).\n",
    "\n",
    "Save your result in a table named **`top_collisions`**.\n",
    "The format of your table should be:\n",
    "\n",
    "\n",
    "-----| borough  |   latitude | longitude |\n",
    "-----|----------|------------|-----------|\n",
    " 0   |  QUEENS  |  40.6807   |-73.8446429|  \n",
    "\n"
   ]
  },
  {
   "cell_type": "code",
   "execution_count": 7,
   "metadata": {
    "nbgrader": {
     "grade": false,
     "locked": false,
     "solution": false
    }
   },
   "outputs": [
    {
     "name": "stdout",
     "output_type": "stream",
     "text": [
      "  borough   latitude  longitude\n",
      "0  QUEENS  40.733497 -73.870369\n",
      "1   BRONX  40.820189 -73.890675\n"
     ]
    }
   ],
   "source": [
    "query='''\n",
    "    select *\n",
    "    from (\n",
    "    select borough as borough, latitude, longitude, count(*) as collisions\n",
    "    from nypd \n",
    "    where latitude<>0 \n",
    "      and longitude<>0\n",
    "      and borough=\"BRONX\"\n",
    "      group by borough, latitude, longitude\n",
    "      order by collisions desc\n",
    "      limit 1)\n",
    "    union all \n",
    "    select * \n",
    "    from (\n",
    "    select borough as borough, latitude, longitude, count(*) as collisions\n",
    "    from nypd \n",
    "    where latitude<>0 \n",
    "      and longitude<>0\n",
    "      and borough=\"QUEENS\"\n",
    "      group by borough, latitude, longitude\n",
    "      order by collisions desc\n",
    "      limit 1)\n",
    "    order by collisions desc\n",
    "    \n",
    "'''\n",
    "top_collisions=pd.read_sql_query(query,conn).drop([\"collisions\"],axis=1)\n",
    "\n",
    "# Show your solution:\n",
    "print(top_collisions)"
   ]
  },
  {
   "cell_type": "code",
   "execution_count": 8,
   "metadata": {
    "deletable": false,
    "editable": false,
    "nbgrader": {
     "grade": true,
     "grade_id": "exercise2",
     "locked": true,
     "points": "3",
     "solution": false
    }
   },
   "outputs": [
    {
     "name": "stdout",
     "output_type": "stream",
     "text": [
      "\n",
      "(Passed!)\n"
     ]
    }
   ],
   "source": [
    "## Test Cell: Check the locations ##\n",
    "assert (top_collisions['borough'].iloc[0]=='QUEENS')\n",
    "assert (top_collisions['borough'].iloc[1]=='BRONX')\n",
    "assert (top_collisions['latitude'].sum() == 81.55368630000001)\n",
    "assert (top_collisions['longitude'].sum() == -147.76104459999999)\n",
    "assert ((top_collisions['latitude']*top_collisions['longitude']).sum() == -6025.2298195065159)\n",
    "\n",
    "print(\"\\n(Passed!)\")"
   ]
  },
  {
   "cell_type": "markdown",
   "metadata": {
    "deletable": false,
    "editable": false,
    "nbgrader": {
     "grade": false,
     "locked": true,
     "solution": false
    }
   },
   "source": [
    "### Detail_injured table\n",
    "\n",
    "Detail_injured table is required for the next question. It has 5 columns, displayed as below.\n",
    "\n",
    "In terms of Database structures, the `Detail_injured` table's Unique_key column is a primary key, the same as the `NYPD` table's Unique_key column.\n",
    "This means you can perform any SQL joins or Pandas merges between the two tables on this column."
   ]
  },
  {
   "cell_type": "code",
   "execution_count": 9,
   "metadata": {
    "deletable": false,
    "editable": false,
    "nbgrader": {
     "grade": false,
     "locked": true,
     "solution": false
    }
   },
   "outputs": [
    {
     "name": "stdout",
     "output_type": "stream",
     "text": [
      "Number of injured and killed:\n",
      "-------------------\n",
      "   Unique_key  Num_of_persons_injured  Num_of_persons_killed  \\\n",
      "0     4090610                       0                      0   \n",
      "1     4090611                       0                      0   \n",
      "2     4090424                       0                      0   \n",
      "3     4089381                       0                      0   \n",
      "4     4089728                       0                      0   \n",
      "\n",
      "   Num_of_pedestrians_injured  Num_of_pedestrians_killed  \n",
      "0                           0                          0  \n",
      "1                           0                          0  \n",
      "2                           0                          0  \n",
      "3                           0                          0  \n",
      "4                           0                          0  \n"
     ]
    }
   ],
   "source": [
    "Detail_injured = pd.read_table('../resource/lib/publicdata/mt2nb9/Detail_injured.txt', sep=',')\n",
    "print('Number of injured and killed:')\n",
    "print('-------------------')\n",
    "print(Detail_injured.head())"
   ]
  },
  {
   "cell_type": "markdown",
   "metadata": {
    "deletable": false,
    "editable": false,
    "nbgrader": {
     "grade": false,
     "locked": true,
     "solution": false
    }
   },
   "source": [
    "**Exercise 3(3 points):** Use table **`nypd`** and table **`detail_injured`**. Both tables have primary key \"Unique_key\". \n",
    "\n",
    "Find the top 10 locations (by Latitude and Longitude) that have the largest number of injured people, which is the sum of `person_injured` and `pedestrians_injured` in table **`detail_injured`**. Please be aware it is not the same as `Num_of_persons_injured` in table **`nypd`**.\n",
    "\n",
    "Report the locations (by Latitude and Longitude), zip code and the count of collisions for these top 10 locations, by the descending order of num_of_collisions.  \n",
    "\n",
    "Save your result in a table named **`top_ten_locations`**. ((latitude, longitude) = (0,0) should not be chosen)\n",
    "\n",
    "The format of your table should be:\n",
    "\n",
    "-----| LATITUDE | LONGITUDE  | Zip_code |num_of_collisions|\n",
    "-----|----------|------------|----------|-----------------|\n",
    " 0   |  40.6807 | -73.8446429|  11200   |    10          |"
   ]
  },
  {
   "cell_type": "code",
   "execution_count": 10,
   "metadata": {},
   "outputs": [
    {
     "name": "stdout",
     "output_type": "stream",
     "text": [
      "    LATITUDE  LONGITUDE Zip_code  num_of_collisions\n",
      "0  40.675736 -73.896853    11207                433\n",
      "1  40.658578 -73.890623    11207                417\n",
      "2  40.820189 -73.890675    10459                333\n",
      "3  40.680015 -73.877428    11208                302\n",
      "4  40.678163 -73.897477    11207                286\n",
      "5  40.663183 -73.962449    11225                282\n",
      "6  40.668798 -73.931120    11213                281\n",
      "7  40.656160 -73.767353    11434                225\n",
      "8  40.642058 -74.020420    11220                208\n",
      "9  40.804376 -73.937420    10035                207\n"
     ]
    }
   ],
   "source": [
    "\n",
    "\n",
    "query='''\n",
    "    select LATITUDE,LONGITUDE,Zip_code, num_of_collisions from (\n",
    "    select LATITUDE,LONGITUDE,Zip_code, count(*) as num_of_collisions, sum(injured) as injured\n",
    "    from (\n",
    "    select unique_key, latitude, longitude, zip_code\n",
    "    from nypd \n",
    "    where latitude<>-10 \n",
    "      and longitude<>-10) as A\n",
    "      inner join \n",
    "    (select unique_key, sum(injured) as injured\n",
    "    from (select unique_key, Num_of_persons_injured as injured\n",
    "            from Detail_injured\n",
    "            where Num_of_persons_injured is not NULL\n",
    "            union all\n",
    "          select unique_key, Num_of_pedestrians_injured as injured\n",
    "            from Detail_injured\n",
    "            where Num_of_pedestrians_injured is not NULL\n",
    "            ) \n",
    "    group by unique_key) as B\n",
    "    on A.unique_key=B.unique_key\n",
    "    group by  A.LATITUDE,A.LONGITUDE,A.Zip_code\n",
    "    order by injured desc\n",
    "    limit 10\n",
    "    )\n",
    "    order by num_of_collisions desc \n",
    "'''\n",
    "\n",
    "top_ten_locations=pd.read_sql_query(query,conn)\n",
    "\n",
    "print(top_ten_locations)\n"
   ]
  },
  {
   "cell_type": "code",
   "execution_count": 11,
   "metadata": {
    "collapsed": true
   },
   "outputs": [],
   "source": [
    "assert top_ten_locations['num_of_collisions'].sum() == 2975 or top_ten_locations['num_of_collisions'].sum() == 2974\n",
    "assert top_ten_locations[top_ten_locations['Zip_code'] == '11207']['num_of_collisions'].sum() == 1136\n",
    "#assert top_ten_locations.iloc[6]['LATITUDE'] == 40.66879779999999\n",
    "assert top_ten_locations.iloc[6]['LONGITUDE'] == -73.93112009999999  \n",
    "#assert top_ten_locations.iloc[3]['LONGITUDE'] == -73.8774282\n",
    "#assert top_ten_locations.iloc[3]['LATITUDE'] == 40.680015000000004\n",
    "#assert top_ten_locations.iloc[7]['Zip_code'] == '11434'"
   ]
  },
  {
   "cell_type": "code",
   "execution_count": 12,
   "metadata": {
    "deletable": false,
    "editable": false,
    "nbgrader": {
     "grade": true,
     "grade_id": "exercise3",
     "locked": true,
     "points": "3",
     "solution": false
    }
   },
   "outputs": [
    {
     "name": "stdout",
     "output_type": "stream",
     "text": [
      "\n",
      "(Passed!)\n"
     ]
    }
   ],
   "source": [
    "## Test Cell: Check the locations ##\n",
    "assert top_ten_locations['num_of_collisions'].sum() == 2975 or top_ten_locations['num_of_collisions'].sum() == 2974\n",
    "assert top_ten_locations[top_ten_locations['Zip_code'] == '11207']['num_of_collisions'].sum() == 1136\n",
    "assert top_ten_locations.iloc[6]['LATITUDE'] == 40.66879779999999\n",
    "assert top_ten_locations.iloc[6]['LONGITUDE'] == -73.93112009999999  \n",
    "assert top_ten_locations.iloc[3]['LONGITUDE'] == -73.8774282\n",
    "assert top_ten_locations.iloc[3]['LATITUDE'] == 40.680015000000004\n",
    "assert top_ten_locations.iloc[7]['Zip_code'] == '11434'\n",
    "\n",
    "print(\"\\n(Passed!)\")"
   ]
  },
  {
   "cell_type": "code",
   "execution_count": 13,
   "metadata": {
    "collapsed": true,
    "deletable": false,
    "editable": false,
    "nbgrader": {
     "grade": false,
     "locked": true,
     "solution": false
    }
   },
   "outputs": [],
   "source": [
    "# Some cleanup code\n",
    "conn.close()"
   ]
  },
  {
   "cell_type": "markdown",
   "metadata": {
    "deletable": false,
    "editable": false,
    "nbgrader": {
     "grade": false,
     "locked": true,
     "solution": false
    }
   },
   "source": [
    "** Note: ** You've reached the end of this problem. Don't forget to restart the kernel and run the entire notebook from top-to-bottom to make sure you did everything correctly. If that is working, try submitting this problem. (Recall that you *must* submit and pass the autograder to get credit for your work.)"
   ]
  },
  {
   "cell_type": "code",
   "execution_count": null,
   "metadata": {
    "collapsed": true
   },
   "outputs": [],
   "source": []
  }
 ],
 "metadata": {
  "kernelspec": {
   "display_name": "Python 3.5",
   "language": "python",
   "name": "python35"
  },
  "language_info": {
   "codemirror_mode": {
    "name": "ipython",
    "version": 3
   },
   "file_extension": ".py",
   "mimetype": "text/x-python",
   "name": "python",
   "nbconvert_exporter": "python",
   "pygments_lexer": "ipython3",
   "version": "3.5.2"
  }
 },
 "nbformat": 4,
 "nbformat_minor": 2
}
