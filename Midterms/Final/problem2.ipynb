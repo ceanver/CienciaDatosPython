{
 "cells": [
  {
   "cell_type": "markdown",
   "metadata": {
    "deletable": false,
    "editable": false,
    "nbgrader": {
     "grade": false,
     "locked": true,
     "solution": false
    }
   },
   "source": [
    "## Clustering via K-Medoids\n",
    "\n",
    "In Notebook 14, you implemented clustering via k-means. In this problem, you will learn \"k-medoids\". Both the k-means and k-medoids algorithms are partitional (breaking the dataset up into groups). K-means attempts to minimize the total squared error from a central position in each cluster (centroids), while k-medoids minimizes the sum of dissimilarities between objects labeled to be in a cluster and one of the objects designated as the representative of that cluster (medoids). In contrast to the k-means algorithm, k-medoids chooses medoids from the objects in the set, instead of a central, average position in the feature space.\n",
    "\n",
    "The possible choice of the dissimilarity function is very rich but in our problem, we will use the more general, __Minkowski Distance Function__ of a given order. (The formula will be provided to you in the exercises)\n",
    "\n",
    "The algorithm that we will be implementing is called the __PAM algorithm__ (Partitioning Around Medoids, (Kaufman and Rousseeuw 1990)). It can be summarized as follows:\n",
    "1. __Initialize__: randomly select $k$ of the $m$ data points as the medoids\n",
    "2. __Assignment step__: Associate each data point to the closest medoid.\n",
    "3. __Update step__: For each medoid $j$ and each data point $i$ associated to $j$ swap $j$ and $i$ and compute the total cost of the configuration (that is, the average dissimilarity of $i$ to all the data points associated to $j$). Select the medoid $j$ with the lowest cost of the configuration.\n",
    "Repeat alternating steps 2 and 3 until there is __no change__ in the assignments."
   ]
  },
  {
   "cell_type": "markdown",
   "metadata": {
    "deletable": false,
    "editable": false,
    "nbgrader": {
     "grade": false,
     "locked": true,
     "solution": false
    }
   },
   "source": [
    "As we did in the notebooks, in the code that follows, it will be convenient to use our usual \"data matrix\" convention, that is, in the data matrix $X$, each row, $\\hat{x}$, is one of  $m$  observations and each column, $x$, is one of $f$  features. However, we will not need a dummy column of ones since we are not fitting a function.\n",
    "\n",
    "\n",
    "\\begin{equation*}\n",
    "X \\equiv\n",
    "\\begin{bmatrix}\n",
    "x_{0,0} \\cdots x_{0,f-1} \\\\\n",
    "\\vdots\\\\\n",
    "x_{m-1,0} \\cdots x_{m,f-1}\\\\\n",
    "\\end{bmatrix}\n",
    "\\end{equation*}"
   ]
  },
  {
   "cell_type": "markdown",
   "metadata": {
    "deletable": false,
    "editable": false,
    "nbgrader": {
     "grade": false,
     "locked": true,
     "solution": false
    }
   },
   "source": [
    "We will use a subset of https://archive.ics.uci.edu/ml/datasets/seeds#, `seeds_subset.txt`.\n",
    "\n",
    "It is a comma-separated-value file with a header row and four columns and 210 rows. The four rows are the Area, Asymmetry, Groove Length, and Type of seed. The Type column is the \"true\" classification/clustering."
   ]
  },
  {
   "cell_type": "code",
   "execution_count": 1,
   "metadata": {
    "deletable": false,
    "editable": false,
    "nbgrader": {
     "grade": false,
     "locked": true,
     "solution": false
    }
   },
   "outputs": [
    {
     "ename": "FileNotFoundError",
     "evalue": "[Errno 2] File b'../resource/asnlib/publicdata/seeds_subset.txt' does not exist: b'../resource/asnlib/publicdata/seeds_subset.txt'",
     "output_type": "error",
     "traceback": [
      "\u001b[0;31m---------------------------------------------------------------------------\u001b[0m",
      "\u001b[0;31mFileNotFoundError\u001b[0m                         Traceback (most recent call last)",
      "\u001b[0;32m<ipython-input-1-c6ac451bd3ff>\u001b[0m in \u001b[0;36m<module>\u001b[0;34m\u001b[0m\n\u001b[1;32m      6\u001b[0m \u001b[0mWD\u001b[0m \u001b[0;34m=\u001b[0m \u001b[0;34m\"../resource/asnlib/publicdata/\"\u001b[0m\u001b[0;34m\u001b[0m\u001b[0;34m\u001b[0m\u001b[0m\n\u001b[1;32m      7\u001b[0m \u001b[0mDATA_PATH\u001b[0m \u001b[0;34m=\u001b[0m \u001b[0mWD\u001b[0m \u001b[0;34m+\u001b[0m \u001b[0;34m'seeds_subset.txt'\u001b[0m\u001b[0;34m\u001b[0m\u001b[0;34m\u001b[0m\u001b[0m\n\u001b[0;32m----> 8\u001b[0;31m \u001b[0mdf\u001b[0m \u001b[0;34m=\u001b[0m \u001b[0mpd\u001b[0m\u001b[0;34m.\u001b[0m\u001b[0mread_csv\u001b[0m\u001b[0;34m(\u001b[0m\u001b[0mDATA_PATH\u001b[0m\u001b[0;34m)\u001b[0m\u001b[0;34m\u001b[0m\u001b[0;34m\u001b[0m\u001b[0m\n\u001b[0m\u001b[1;32m      9\u001b[0m \u001b[0mdf\u001b[0m\u001b[0;34m.\u001b[0m\u001b[0mhead\u001b[0m\u001b[0;34m(\u001b[0m\u001b[0;34m)\u001b[0m\u001b[0;34m\u001b[0m\u001b[0;34m\u001b[0m\u001b[0m\n",
      "\u001b[0;32m~/anaconda3/lib/python3.7/site-packages/pandas/io/parsers.py\u001b[0m in \u001b[0;36mparser_f\u001b[0;34m(filepath_or_buffer, sep, delimiter, header, names, index_col, usecols, squeeze, prefix, mangle_dupe_cols, dtype, engine, converters, true_values, false_values, skipinitialspace, skiprows, skipfooter, nrows, na_values, keep_default_na, na_filter, verbose, skip_blank_lines, parse_dates, infer_datetime_format, keep_date_col, date_parser, dayfirst, iterator, chunksize, compression, thousands, decimal, lineterminator, quotechar, quoting, doublequote, escapechar, comment, encoding, dialect, tupleize_cols, error_bad_lines, warn_bad_lines, delim_whitespace, low_memory, memory_map, float_precision)\u001b[0m\n\u001b[1;32m    700\u001b[0m                     skip_blank_lines=skip_blank_lines)\n\u001b[1;32m    701\u001b[0m \u001b[0;34m\u001b[0m\u001b[0m\n\u001b[0;32m--> 702\u001b[0;31m         \u001b[0;32mreturn\u001b[0m \u001b[0m_read\u001b[0m\u001b[0;34m(\u001b[0m\u001b[0mfilepath_or_buffer\u001b[0m\u001b[0;34m,\u001b[0m \u001b[0mkwds\u001b[0m\u001b[0;34m)\u001b[0m\u001b[0;34m\u001b[0m\u001b[0;34m\u001b[0m\u001b[0m\n\u001b[0m\u001b[1;32m    703\u001b[0m \u001b[0;34m\u001b[0m\u001b[0m\n\u001b[1;32m    704\u001b[0m     \u001b[0mparser_f\u001b[0m\u001b[0;34m.\u001b[0m\u001b[0m__name__\u001b[0m \u001b[0;34m=\u001b[0m \u001b[0mname\u001b[0m\u001b[0;34m\u001b[0m\u001b[0;34m\u001b[0m\u001b[0m\n",
      "\u001b[0;32m~/anaconda3/lib/python3.7/site-packages/pandas/io/parsers.py\u001b[0m in \u001b[0;36m_read\u001b[0;34m(filepath_or_buffer, kwds)\u001b[0m\n\u001b[1;32m    427\u001b[0m \u001b[0;34m\u001b[0m\u001b[0m\n\u001b[1;32m    428\u001b[0m     \u001b[0;31m# Create the parser.\u001b[0m\u001b[0;34m\u001b[0m\u001b[0;34m\u001b[0m\u001b[0;34m\u001b[0m\u001b[0m\n\u001b[0;32m--> 429\u001b[0;31m     \u001b[0mparser\u001b[0m \u001b[0;34m=\u001b[0m \u001b[0mTextFileReader\u001b[0m\u001b[0;34m(\u001b[0m\u001b[0mfilepath_or_buffer\u001b[0m\u001b[0;34m,\u001b[0m \u001b[0;34m**\u001b[0m\u001b[0mkwds\u001b[0m\u001b[0;34m)\u001b[0m\u001b[0;34m\u001b[0m\u001b[0;34m\u001b[0m\u001b[0m\n\u001b[0m\u001b[1;32m    430\u001b[0m \u001b[0;34m\u001b[0m\u001b[0m\n\u001b[1;32m    431\u001b[0m     \u001b[0;32mif\u001b[0m \u001b[0mchunksize\u001b[0m \u001b[0;32mor\u001b[0m \u001b[0miterator\u001b[0m\u001b[0;34m:\u001b[0m\u001b[0;34m\u001b[0m\u001b[0;34m\u001b[0m\u001b[0m\n",
      "\u001b[0;32m~/anaconda3/lib/python3.7/site-packages/pandas/io/parsers.py\u001b[0m in \u001b[0;36m__init__\u001b[0;34m(self, f, engine, **kwds)\u001b[0m\n\u001b[1;32m    893\u001b[0m             \u001b[0mself\u001b[0m\u001b[0;34m.\u001b[0m\u001b[0moptions\u001b[0m\u001b[0;34m[\u001b[0m\u001b[0;34m'has_index_names'\u001b[0m\u001b[0;34m]\u001b[0m \u001b[0;34m=\u001b[0m \u001b[0mkwds\u001b[0m\u001b[0;34m[\u001b[0m\u001b[0;34m'has_index_names'\u001b[0m\u001b[0;34m]\u001b[0m\u001b[0;34m\u001b[0m\u001b[0;34m\u001b[0m\u001b[0m\n\u001b[1;32m    894\u001b[0m \u001b[0;34m\u001b[0m\u001b[0m\n\u001b[0;32m--> 895\u001b[0;31m         \u001b[0mself\u001b[0m\u001b[0;34m.\u001b[0m\u001b[0m_make_engine\u001b[0m\u001b[0;34m(\u001b[0m\u001b[0mself\u001b[0m\u001b[0;34m.\u001b[0m\u001b[0mengine\u001b[0m\u001b[0;34m)\u001b[0m\u001b[0;34m\u001b[0m\u001b[0;34m\u001b[0m\u001b[0m\n\u001b[0m\u001b[1;32m    896\u001b[0m \u001b[0;34m\u001b[0m\u001b[0m\n\u001b[1;32m    897\u001b[0m     \u001b[0;32mdef\u001b[0m \u001b[0mclose\u001b[0m\u001b[0;34m(\u001b[0m\u001b[0mself\u001b[0m\u001b[0;34m)\u001b[0m\u001b[0;34m:\u001b[0m\u001b[0;34m\u001b[0m\u001b[0;34m\u001b[0m\u001b[0m\n",
      "\u001b[0;32m~/anaconda3/lib/python3.7/site-packages/pandas/io/parsers.py\u001b[0m in \u001b[0;36m_make_engine\u001b[0;34m(self, engine)\u001b[0m\n\u001b[1;32m   1120\u001b[0m     \u001b[0;32mdef\u001b[0m \u001b[0m_make_engine\u001b[0m\u001b[0;34m(\u001b[0m\u001b[0mself\u001b[0m\u001b[0;34m,\u001b[0m \u001b[0mengine\u001b[0m\u001b[0;34m=\u001b[0m\u001b[0;34m'c'\u001b[0m\u001b[0;34m)\u001b[0m\u001b[0;34m:\u001b[0m\u001b[0;34m\u001b[0m\u001b[0;34m\u001b[0m\u001b[0m\n\u001b[1;32m   1121\u001b[0m         \u001b[0;32mif\u001b[0m \u001b[0mengine\u001b[0m \u001b[0;34m==\u001b[0m \u001b[0;34m'c'\u001b[0m\u001b[0;34m:\u001b[0m\u001b[0;34m\u001b[0m\u001b[0;34m\u001b[0m\u001b[0m\n\u001b[0;32m-> 1122\u001b[0;31m             \u001b[0mself\u001b[0m\u001b[0;34m.\u001b[0m\u001b[0m_engine\u001b[0m \u001b[0;34m=\u001b[0m \u001b[0mCParserWrapper\u001b[0m\u001b[0;34m(\u001b[0m\u001b[0mself\u001b[0m\u001b[0;34m.\u001b[0m\u001b[0mf\u001b[0m\u001b[0;34m,\u001b[0m \u001b[0;34m**\u001b[0m\u001b[0mself\u001b[0m\u001b[0;34m.\u001b[0m\u001b[0moptions\u001b[0m\u001b[0;34m)\u001b[0m\u001b[0;34m\u001b[0m\u001b[0;34m\u001b[0m\u001b[0m\n\u001b[0m\u001b[1;32m   1123\u001b[0m         \u001b[0;32melse\u001b[0m\u001b[0;34m:\u001b[0m\u001b[0;34m\u001b[0m\u001b[0;34m\u001b[0m\u001b[0m\n\u001b[1;32m   1124\u001b[0m             \u001b[0;32mif\u001b[0m \u001b[0mengine\u001b[0m \u001b[0;34m==\u001b[0m \u001b[0;34m'python'\u001b[0m\u001b[0;34m:\u001b[0m\u001b[0;34m\u001b[0m\u001b[0;34m\u001b[0m\u001b[0m\n",
      "\u001b[0;32m~/anaconda3/lib/python3.7/site-packages/pandas/io/parsers.py\u001b[0m in \u001b[0;36m__init__\u001b[0;34m(self, src, **kwds)\u001b[0m\n\u001b[1;32m   1851\u001b[0m         \u001b[0mkwds\u001b[0m\u001b[0;34m[\u001b[0m\u001b[0;34m'usecols'\u001b[0m\u001b[0;34m]\u001b[0m \u001b[0;34m=\u001b[0m \u001b[0mself\u001b[0m\u001b[0;34m.\u001b[0m\u001b[0musecols\u001b[0m\u001b[0;34m\u001b[0m\u001b[0;34m\u001b[0m\u001b[0m\n\u001b[1;32m   1852\u001b[0m \u001b[0;34m\u001b[0m\u001b[0m\n\u001b[0;32m-> 1853\u001b[0;31m         \u001b[0mself\u001b[0m\u001b[0;34m.\u001b[0m\u001b[0m_reader\u001b[0m \u001b[0;34m=\u001b[0m \u001b[0mparsers\u001b[0m\u001b[0;34m.\u001b[0m\u001b[0mTextReader\u001b[0m\u001b[0;34m(\u001b[0m\u001b[0msrc\u001b[0m\u001b[0;34m,\u001b[0m \u001b[0;34m**\u001b[0m\u001b[0mkwds\u001b[0m\u001b[0;34m)\u001b[0m\u001b[0;34m\u001b[0m\u001b[0;34m\u001b[0m\u001b[0m\n\u001b[0m\u001b[1;32m   1854\u001b[0m         \u001b[0mself\u001b[0m\u001b[0;34m.\u001b[0m\u001b[0munnamed_cols\u001b[0m \u001b[0;34m=\u001b[0m \u001b[0mself\u001b[0m\u001b[0;34m.\u001b[0m\u001b[0m_reader\u001b[0m\u001b[0;34m.\u001b[0m\u001b[0munnamed_cols\u001b[0m\u001b[0;34m\u001b[0m\u001b[0;34m\u001b[0m\u001b[0m\n\u001b[1;32m   1855\u001b[0m \u001b[0;34m\u001b[0m\u001b[0m\n",
      "\u001b[0;32mpandas/_libs/parsers.pyx\u001b[0m in \u001b[0;36mpandas._libs.parsers.TextReader.__cinit__\u001b[0;34m()\u001b[0m\n",
      "\u001b[0;32mpandas/_libs/parsers.pyx\u001b[0m in \u001b[0;36mpandas._libs.parsers.TextReader._setup_parser_source\u001b[0;34m()\u001b[0m\n",
      "\u001b[0;31mFileNotFoundError\u001b[0m: [Errno 2] File b'../resource/asnlib/publicdata/seeds_subset.txt' does not exist: b'../resource/asnlib/publicdata/seeds_subset.txt'"
     ]
    }
   ],
   "source": [
    "# Imports\n",
    "import pandas as pd\n",
    "import numpy as np\n",
    "import os\n",
    "\n",
    "WD = \"../resource/asnlib/publicdata/\"\n",
    "DATA_PATH = WD + 'seeds_subset.txt'\n",
    "df = pd.read_csv(DATA_PATH)\n",
    "df.head()"
   ]
  },
  {
   "cell_type": "markdown",
   "metadata": {
    "deletable": false,
    "editable": false,
    "nbgrader": {
     "grade": false,
     "locked": true,
     "solution": false
    }
   },
   "source": [
    "Here's a visualization of the data, using Plotly Python.\n",
    "\n",
    "The figure will choose the hue for each point using its `Type`, which is the true assignment of the cluster.\n",
    "\n",
    "`Scatter3D` Plotly figures allow for rotation of the figure using your mouse, which can clarify the relationships between clusters and features."
   ]
  },
  {
   "cell_type": "code",
   "execution_count": null,
   "metadata": {
    "deletable": false,
    "editable": false,
    "nbgrader": {
     "grade": false,
     "locked": true,
     "solution": false
    },
    "scrolled": false
   },
   "outputs": [],
   "source": [
    "import plotly.plotly as py\n",
    "import plotly.graph_objs as go\n",
    "from plotly.offline import download_plotlyjs, init_notebook_mode, plot, iplot\n",
    "\n",
    "init_notebook_mode(connected=True)\n",
    "\n",
    "trace1 = go.Scatter3d(\n",
    "    x=df['Asymmetry'],\n",
    "    y=df['Groove'],\n",
    "    z=df['Area'],\n",
    "    mode='markers',\n",
    "    marker=dict(\n",
    "        size=6,\n",
    "        color=df['Type'],                # set color to an array/list of desired values\n",
    "        colorscale='Viridis',   # choose a colorscale\n",
    "        opacity=0.8\n",
    "    )\n",
    ")\n",
    "\n",
    "data = [trace1]\n",
    "layout = go.Layout(\n",
    "    scene = dict(\n",
    "        xaxis = dict(\n",
    "            title='Asymmetry'),\n",
    "        yaxis = dict(\n",
    "            title='Groove'),\n",
    "        zaxis = dict(\n",
    "            title='Area'),),\n",
    "    margin=dict(\n",
    "        l=0,\n",
    "        r=0,\n",
    "        b=0,\n",
    "        t=0\n",
    "    ),\n",
    "    showlegend=False\n",
    ")\n",
    "fig = go.Figure(data=data, layout=layout)\n",
    "iplot(fig)"
   ]
  },
  {
   "cell_type": "markdown",
   "metadata": {
    "deletable": false,
    "editable": false,
    "nbgrader": {
     "grade": false,
     "locked": true,
     "solution": false
    }
   },
   "source": [
    "As you can see, there are some points that intermingle between the clusters, so there won't be a perfect answer using k-medoids, which establishes \"hard\" hyperplanes between clusters and does not allow for mixing between clusters.\n",
    "\n",
    "Let's extract the data points as a two-dimensional NumPy ndarray, points, and the labels as a one-dimensional NumPy ndarray, labels. Note that the k-medoids algorithm you will implement should not reference labels -- that's the solution we will try to predict given only the point coordinates (points) and target number of clusters (k)."
   ]
  },
  {
   "cell_type": "code",
   "execution_count": null,
   "metadata": {
    "deletable": false,
    "editable": false,
    "nbgrader": {
     "grade": false,
     "locked": true,
     "solution": false
    }
   },
   "outputs": [],
   "source": [
    "points = df[['Asymmetry', 'Groove', 'Area']].values\n",
    "labels = df['Type'].values\n",
    "m, f = points.shape\n",
    "k = 3"
   ]
  },
  {
   "cell_type": "markdown",
   "metadata": {
    "deletable": false,
    "editable": false,
    "nbgrader": {
     "grade": false,
     "locked": true,
     "solution": false
    }
   },
   "source": [
    "If we now plot the `points` without the `labels`, we have the \"unsupervised clustering problem\" visualized. That is, with no prior knowledge of label assignment, generate `k` clusters. In fact, `k` won't even be known ahead of time, and with large dimensional data, may not be easily visualized."
   ]
  },
  {
   "cell_type": "code",
   "execution_count": null,
   "metadata": {
    "deletable": false,
    "editable": false,
    "nbgrader": {
     "grade": false,
     "locked": true,
     "solution": false
    }
   },
   "outputs": [],
   "source": [
    "trace1 = go.Scatter3d(x=points[:,0],y=points[:,1],z=points[:,2],mode='markers',marker=dict(size=6,colorscale='Viridis',opacity=0.8))\n",
    "layout = go.Layout(scene = dict(xaxis = dict(title='Asymmetry'),yaxis = dict(title='Groove'),zaxis = dict(title='Area')),margin=dict(l=0,r=0,b=0,t=0),showlegend=False)\n",
    "data = [trace1]; fig = go.Figure(data=data, layout=layout); iplot(fig)"
   ]
  },
  {
   "cell_type": "markdown",
   "metadata": {
    "deletable": false,
    "editable": false,
    "nbgrader": {
     "grade": false,
     "locked": true,
     "solution": false
    }
   },
   "source": [
    "### Medoid Initialization:\n",
    "To start the algorithm, you need an initial guess. Let's randomly choose  k  observations from the data."
   ]
  },
  {
   "cell_type": "markdown",
   "metadata": {
    "deletable": false,
    "editable": false,
    "nbgrader": {
     "grade": false,
     "locked": true,
     "solution": false
    }
   },
   "source": [
    "__Exercise 1__ (0.5 points) Complete the following function, init_medoids(X, k), so that it randomly selects  k  of the given observations to serve as medoids. It should return a NumPy array of size $k \\times d$, where d is the number of columns of X. You may use modules and methods from NumPy or the Python Standard Library."
   ]
  },
  {
   "cell_type": "code",
   "execution_count": null,
   "metadata": {},
   "outputs": [],
   "source": [
    "def init_medoids(X, k):\n",
    "    \"\"\"\n",
    "    Randomly samples k observations from X as medoids.\n",
    "    Returns these medoids as a numpy array, with shape (k,f).\n",
    "    \"\"\"\n",
    "    ###\n",
    "    ### YOUR CODE HERE\n",
    "    ###\n"
   ]
  },
  {
   "cell_type": "code",
   "execution_count": null,
   "metadata": {
    "deletable": false,
    "editable": false,
    "nbgrader": {
     "grade": true,
     "grade_id": "init_medoids_test",
     "locked": true,
     "points": "0.5",
     "solution": false
    }
   },
   "outputs": [],
   "source": [
    "# Test cell: `init_medoids_test`\n",
    "\n",
    "medoids_initial = init_medoids(points, k)\n",
    "print(f\"Initial medoids:\\n {medoids_initial}\")\n",
    "\n",
    "assert type(medoids_initial) is np.ndarray, f\"Your function should return a NumPy array instead of a {type(medoids_initial)}\"\n",
    "assert medoids_initial.shape == (k, f), f\"Returned medoids do not have the right shape ({k}, {f})\"\n",
    "for i in range(f):\n",
    "    assert medoids_initial[i,:] in points, \"The medoids must come from the input.\"\n",
    "\n",
    "print(\"\\n(Passed!)\")"
   ]
  },
  {
   "cell_type": "markdown",
   "metadata": {
    "deletable": false,
    "editable": false,
    "nbgrader": {
     "grade": false,
     "locked": true,
     "solution": false
    }
   },
   "source": [
    "The plot below shows the random initial choice of medoids in <font color=red>**red**</font>. Running it repeatedly will show the variety of combinations that can be chosen."
   ]
  },
  {
   "cell_type": "code",
   "execution_count": null,
   "metadata": {
    "deletable": false,
    "editable": false,
    "nbgrader": {
     "grade": false,
     "locked": true,
     "solution": false
    }
   },
   "outputs": [],
   "source": [
    "plot_medoids_init = init_medoids(points, k)\n",
    "\n",
    "trace1 = go.Scatter3d(x=points[:,0],y=points[:,1],z=points[:,2],mode='markers',marker=dict(size=6,colorscale='Viridis',opacity=0.5))\n",
    "trace2 = go.Scatter3d(x=plot_medoids_init[:,0],y=plot_medoids_init[:,1],z=plot_medoids_init[:,2],mode='markers',marker=dict(size=6,color='red',opacity=1))\n",
    "layout = go.Layout(scene = dict(xaxis = dict(title='Asymmetry'),yaxis = dict(title='Groove'),zaxis = dict(title='Area')),margin=dict(l=0,r=0,b=0,t=0),showlegend=False)\n",
    "data = [trace1, trace2]; fig = go.Figure(data=data, layout=layout); iplot(fig)"
   ]
  },
  {
   "cell_type": "markdown",
   "metadata": {
    "deletable": false,
    "editable": false,
    "nbgrader": {
     "grade": false,
     "locked": true,
     "solution": false
    }
   },
   "source": [
    "### Computing the distances\n",
    "https://en.wikipedia.org/wiki/Minkowski_distance\n",
    "    \n",
    "__Exercise 2__ (2 points). Implement a function that computes a distance matrix,  $S=(s_{ij})$  such that  $s_{ij}=d^{p}_{ij}$  is the $p^{th}$ power of the Minkowski distance (order $p$) from point  $x_i$  to medoid  $\\mu_j$ . It should return a NumPy matrix S with shape (m,k).\n",
    "\n",
    "The $p^{th}$ order Minkowski Distance between two points, $x$ and $\\mu$ is given by:\n",
    "\n",
    "$$\\begin{equation*}\n",
    "d_{ij} = \\bigg(\\sum^{f}_{a=1}\\mid x_{ia} - \\mu_{ja} \\mid ^p\\bigg)^{\\frac{1}{p}} \\textrm{,} \\quad  0 < i < (m-1) \\textrm{,} \\quad  0 < j < (k-1)\n",
    "\\end{equation*}$$\n",
    "\n",
    "Thus, for the elements of $S$,\n",
    "\n",
    "$$\\begin{equation*}\n",
    "s_{ij} = d^{p}_{ij} = \\sum^{f}_{a=1}\\mid x_{ia} - \\mu_{ja} \\mid ^p\n",
    "\\end{equation*}$$\n",
    "\n",
    "Minkowski distance is typically used with $p$ being 1 or 2, which correspond to the __Manhattan distance__ and the __Euclidean distance__, respectively, but $p$ is left as an input parameter in this function.\n"
   ]
  },
  {
   "cell_type": "code",
   "execution_count": null,
   "metadata": {},
   "outputs": [],
   "source": [
    "def compute_d_p(X, medoids, p):\n",
    "    m = len(X)\n",
    "    medoids_shape = medoids.shape\n",
    "    # If a 1-D array is provided, \n",
    "    # it will be reshaped to a single row 2-D array\n",
    "    if len(medoids_shape) == 1: \n",
    "        medoids = medoids.reshape((1,len(medoids)))\n",
    "    k = len(medoids)\n",
    "    \n",
    "    S = np.empty((m, k))\n",
    "    \n",
    "    ###\n",
    "    ### YOUR CODE HERE\n",
    "    ###\n",
    "\n",
    "    return S"
   ]
  },
  {
   "cell_type": "code",
   "execution_count": null,
   "metadata": {
    "deletable": false,
    "editable": false,
    "nbgrader": {
     "grade": true,
     "grade_id": "compute_d_p",
     "locked": true,
     "points": "2",
     "solution": false
    }
   },
   "outputs": [],
   "source": [
    "# Test cell: `compute_d_p`\n",
    "medoids = np.loadtxt(WD + 'test_medoids.txt')\n",
    "S_test2 = np.loadtxt(WD + 'test2_soln.txt')\n",
    "    \n",
    "student_soln = compute_d_p(points, medoids, 2)\n",
    "assert (np.linalg.norm (S_test2 - student_soln, axis=1) <= (100.0 * np.finfo(float).eps)).all (), \"Your solution is not similar enough to the instructor's solution\"\n",
    "print(\"\\n(Passed!)\")"
   ]
  },
  {
   "cell_type": "markdown",
   "metadata": {
    "deletable": false,
    "editable": false,
    "nbgrader": {
     "grade": false,
     "locked": true,
     "solution": false
    }
   },
   "source": [
    "### Cluster Assignment\n",
    "__Exercise 3__ (1 point): Write a function that acts on the $p^{th}$ order distance matrix to assign a \"cluster label\" to each point using the minimum distance to find the \"most similar\" medoid.\n",
    "\n",
    "That is, consider the  $m \\times k$,  $p^{th}$ power distance matrix  S .\n",
    "\n",
    "For each point, indicated by row index $i$ , if  $s_{ij}$  is the minimum distance for point  $i$ , then the index  $j+1$  is  $i$ 's cluster label.\n",
    "\n",
    "In other words, your function should return a one-dimensional array,  $y$,  of length  $m$  such that\n",
    "\n",
    "\\begin{equation*}\n",
    "y_{i} = \\underset{j∈\\{0,…,k−1\\}}{\\operatorname{argmin}}s_{ij} + 1\n",
    "\\end{equation*}"
   ]
  },
  {
   "cell_type": "code",
   "execution_count": null,
   "metadata": {},
   "outputs": [],
   "source": [
    "def assign_cluster_labels(S):\n",
    "    ###\n",
    "    ### YOUR CODE HERE\n",
    "    ###\n",
    "\n",
    "# Cluster labels:     1    2\n",
    "S_test1 = np.array([[0.3, 0.2],  # --> cluster 2\n",
    "                    [0.1, 0.5],  # --> cluster 1\n",
    "                    [0.4, 0.2]]) # --> cluster 2\n",
    "y_test1 = assign_cluster_labels(S_test1)\n",
    "print(\"You found:\", y_test1)\n",
    "\n",
    "# Debugging assert\n",
    "assert (y_test1 == np.array([2, 1, 2])).all()"
   ]
  },
  {
   "cell_type": "code",
   "execution_count": null,
   "metadata": {
    "deletable": false,
    "editable": false,
    "nbgrader": {
     "grade": true,
     "grade_id": "assign_cluster_labels_test",
     "locked": true,
     "points": "1",
     "solution": false
    }
   },
   "outputs": [],
   "source": [
    "# Test cell: `assign_cluster_labels_test`\n",
    "\n",
    "\n",
    "S_test2 = np.loadtxt(WD + 'test2_soln.txt')\n",
    "\n",
    "student_soln = assign_cluster_labels(S_test2)\n",
    "y_test2 = np.loadtxt(WD + 'test3_soln.txt')\n",
    "assert (y_test2 == student_soln).all(), f\"Your solution doesn't match the instructor's solution! \\n First 10 cluster labels of the instructor's solution: \\n {y_test2[:10]}\"\n",
    "\n",
    "print(\"\\n(Passed!)\")"
   ]
  },
  {
   "cell_type": "markdown",
   "metadata": {
    "deletable": false,
    "editable": false,
    "nbgrader": {
     "grade": false,
     "locked": true,
     "solution": false
    }
   },
   "source": [
    "The initial assignment to clusters, relative to the initial medoids (<font color=red>**red**</font>) is visualized below. \n",
    "\n",
    "The colors may not correlate to the original plot, since the medoids are randomly assigned, so is their row order, which determines the color.\n",
    "\n",
    "By re-running the code cell below, you can see how the assignment is affected by the random choice of initial medoids."
   ]
  },
  {
   "cell_type": "code",
   "execution_count": null,
   "metadata": {
    "deletable": false,
    "editable": false,
    "nbgrader": {
     "grade": false,
     "locked": true,
     "solution": false
    }
   },
   "outputs": [],
   "source": [
    "plot_medoids = init_medoids(points, k)\n",
    "plot_y = assign_cluster_labels(compute_d_p(points, plot_medoids, p=2))\n",
    "\n",
    "trace1 = go.Scatter3d(x=points[:,0],y=points[:,1],z=points[:,2],mode='markers',marker=dict(size=6,color=plot_y,colorscale='Viridis',opacity=0.5))\n",
    "trace2 = go.Scatter3d(x=plot_medoids[:,0],y=plot_medoids[:,1],z=plot_medoids[:,2],mode='markers',marker=dict(size=6,color='red',opacity=1))\n",
    "layout = go.Layout(scene = dict(xaxis = dict(title='Asymmetry'),yaxis = dict(title='Groove'),zaxis = dict(title='Area')),margin=dict(l=0,r=0,b=0,t=0),showlegend=False)\n",
    "data = [trace1, trace2]; fig = go.Figure(data=data, layout=layout); iplot(fig)"
   ]
  },
  {
   "cell_type": "markdown",
   "metadata": {
    "deletable": false,
    "editable": false,
    "nbgrader": {
     "grade": false,
     "locked": true,
     "solution": false
    }
   },
   "source": [
    "### Swap Step\n",
    "\n",
    "As mentioned in the introduction, in this step, for each medoid  $j$  and each data point  $i$  associated to  $j$  swap  $j$  and  $i$  and compute the total cost of the configuration (that is the average dissimilarity of  $i$  to all the data points, $\\sum s_{ij}$). Select the medoid  $j$  with the lowest cost of the configuration.\n",
    "\n",
    "That is, for each cluster, search if any of the points in the cluster decreases the average dissimilarity coefficient. Select the point that decreases this coefficient the most as the medoid for this cluster. \n",
    "\n",
    "Dissimilarity is given by __Minkowski(p)__, so you could use functions created in earlier exercises.\n",
    "\n",
    "__Exercise 4__ (4 points): Given a clustering (i.e. a set of points and their medoids) and order of $p$, compute the new medoid of each cluster. \n",
    "\n",
    "__Note__: The computation of medoids is __NOT__ the same as that of cluster means. \n",
    "\n",
    "__Reference__: This link could be helpful in better understanding the swap step!\n",
    "https://www.youtube.com/watch?v=OWpRBCrx5-M"
   ]
  },
  {
   "cell_type": "code",
   "execution_count": null,
   "metadata": {},
   "outputs": [],
   "source": [
    "def update_medoids(X, medoids, p):\n",
    "    \n",
    "    ###\n",
    "    ### YOUR CODE HERE\n",
    "    ###\n",
    "    \n",
    "    return out_medoids"
   ]
  },
  {
   "cell_type": "code",
   "execution_count": null,
   "metadata": {
    "deletable": false,
    "editable": false,
    "nbgrader": {
     "grade": true,
     "grade_id": "update_medoids_test",
     "locked": true,
     "points": "4",
     "solution": false
    }
   },
   "outputs": [],
   "source": [
    "# Test cell: `update_medoids_test`\n",
    "\n",
    "medoids = np.loadtxt(WD + 'test_medoids.txt')\n",
    "\n",
    "student_soln = update_medoids(points, medoids, 2)\n",
    "medoids_test = np.loadtxt(WD + 'test4_soln.txt')\n",
    "#medoids_test = np.loadtxt(WD + 'test4_soln_cook.txt')\n",
    "\n",
    "for medoid in student_soln:\n",
    "    assert medoid in points, \"Your updated medoids are not points in the original data set!\"\n",
    "delta_test3 = np.abs(medoids_test - student_soln)\n",
    "assert (delta_test3 <= 2.0*len(medoids_test)*np.finfo(float).eps).all(), \"Your solution does not match the instructor's solution\"\n",
    "print(\"\\n(Passed!)\")"
   ]
  },
  {
   "cell_type": "markdown",
   "metadata": {
    "deletable": false,
    "editable": false,
    "nbgrader": {
     "grade": false,
     "locked": true,
     "solution": false
    }
   },
   "source": [
    "In the visualization below, you can see how the updated medoids (**black**) are moved relative to the initial medoids (<font color=red>**red**</font>).\n",
    "\n",
    "If you don't see a red point, it's because the medoid didn't move! Just because they're chosen randomly doesn't mean they aren't at the minimum point!"
   ]
  },
  {
   "cell_type": "code",
   "execution_count": null,
   "metadata": {
    "deletable": false,
    "editable": false,
    "nbgrader": {
     "grade": false,
     "locked": true,
     "solution": false
    }
   },
   "outputs": [],
   "source": [
    "plot_medoids = init_medoids(points, k)\n",
    "plot_y = assign_cluster_labels(compute_d_p(points, plot_medoids, p=2))\n",
    "plot_medoids_updated = update_medoids(points, plot_medoids, 2)\n",
    "\n",
    "trace1 = go.Scatter3d(x=points[:,0],y=points[:,1],z=points[:,2],mode='markers',marker=dict(size=6,color=plot_y,colorscale='Viridis',opacity=0.5))\n",
    "trace2 = go.Scatter3d(x=plot_medoids[:,0],y=plot_medoids[:,1],z=plot_medoids[:,2],mode='markers',marker=dict(size=6,color='red',opacity=1))\n",
    "trace3 = go.Scatter3d(x=plot_medoids_updated[:,0],y=plot_medoids_updated[:,1],z=plot_medoids_updated[:,2],mode='markers',marker=dict(size=6,color='black',opacity=1))\n",
    "layout = go.Layout(scene = dict(xaxis = dict(title='Asymmetry'),yaxis = dict(title='Groove'),zaxis = dict(title='Area')),margin=dict(l=0,r=0,b=0,t=0),showlegend=False)\n",
    "data = [trace1, trace2, trace3]; fig = go.Figure(data=data, layout=layout);iplot(fig)"
   ]
  },
  {
   "cell_type": "markdown",
   "metadata": {
    "deletable": false,
    "editable": false,
    "nbgrader": {
     "grade": false,
     "locked": true,
     "solution": false
    }
   },
   "source": [
    "__Exercise 5__(0.5 points): Lastly, write a function to check whether the medoids have \"moved,\" given two instances of the medoid values. It accounts for the fact that the order of medoids may have changed."
   ]
  },
  {
   "cell_type": "code",
   "execution_count": null,
   "metadata": {},
   "outputs": [],
   "source": [
    "def has_converged(old_medoids, medoids):\n",
    "    ###\n",
    "    ### YOUR CODE HERE\n",
    "    ###\n"
   ]
  },
  {
   "cell_type": "code",
   "execution_count": null,
   "metadata": {
    "deletable": false,
    "editable": false,
    "nbgrader": {
     "grade": true,
     "grade_id": "has_converged",
     "locked": true,
     "points": "0.5",
     "solution": false
    }
   },
   "outputs": [],
   "source": [
    "# Test cell: `has_converged`\n",
    "assert has_converged(medoids_initial, medoids_initial) == True\n",
    "print(\"\\n(Passed!)\")"
   ]
  },
  {
   "cell_type": "markdown",
   "metadata": {
    "deletable": false,
    "editable": false,
    "nbgrader": {
     "grade": false,
     "locked": true,
     "solution": false
    }
   },
   "source": [
    "__Exercise 6__ (2 points): Put all of the preceding building blocks together to implement the PAM k-medoids algorithm.\n",
    "\n",
    "1. __Initialize__: randomly select $k$ of the $m$ data points as the medoids\n",
    "2. __Assignment step__: Associate each data point to the closest medoid.\n",
    "3. __Update step__: For each medoid $j$ and each data point $i$ associated to $j$ swap $j$ and $i$ and compute the total cost of the configuration (that is, the average dissimilarity of $i$ to all the data points associated to $j$). Select the medoid $j$ with the lowest cost of the configuration.\n",
    "Repeat alternating steps 2 and 3 until there is __no change__ in the assignments."
   ]
  },
  {
   "cell_type": "code",
   "execution_count": null,
   "metadata": {},
   "outputs": [],
   "source": [
    "def kmedoids(X, k, p, starting_medoids=None, max_steps=np.inf):\n",
    "    if starting_medoids is None:\n",
    "        medoids = init_medoids(X, k)\n",
    "    else:\n",
    "        medoids = starting_medoids\n",
    "        \n",
    "    converged = False\n",
    "    labels = np.zeros(len(X))\n",
    "    i = 1\n",
    "    while (not converged) and (i <= max_steps):\n",
    "        old_medoids = medoids.copy()\n",
    "        ###\n",
    "        ### YOUR CODE HERE\n",
    "        ###\n",
    "        print(medoids)\n",
    "        i += 1\n",
    "    return labels"
   ]
  },
  {
   "cell_type": "code",
   "execution_count": null,
   "metadata": {
    "deletable": false,
    "editable": false,
    "nbgrader": {
     "grade": true,
     "grade_id": "kmedoids_test",
     "locked": true,
     "points": "2",
     "solution": false
    }
   },
   "outputs": [],
   "source": [
    "# Test cell: `kmedoids_test`\n",
    "\n",
    "# Helper Functions\n",
    "\n",
    "def mark_matches(a, b, exact=False):\n",
    "    \"\"\"\n",
    "    Given two Numpy arrays of {0, 1} labels, returns a new boolean\n",
    "    array indicating at which locations the input arrays have the\n",
    "    same label (i.e., the corresponding entry is True).\n",
    "    \n",
    "    This function can consider \"inexact\" matches. That is, if `exact`\n",
    "    is False, then the function will assume the {0, 1} labels may be\n",
    "    regarded as the same up to a swapping of the labels. This feature\n",
    "    allows\n",
    "    \n",
    "      a == [0, 0, 1, 1, 0, 1, 1]\n",
    "      b == [1, 1, 0, 0, 1, 0, 0]\n",
    "      \n",
    "    to be regarded as equal. (That is, use `exact=False` when you\n",
    "    only care about \"relative\" labeling.)\n",
    "    \"\"\"\n",
    "    assert a.shape == b.shape\n",
    "    a_int = a.astype(dtype=int)\n",
    "    b_int = b.astype(dtype=int)\n",
    "    all_axes = tuple(range(len(a.shape)))\n",
    "    assert ((a_int == 1) | (a_int == 2) | (a_int == 3)).all()\n",
    "    assert ((b_int == 1) | (b_int == 2) | (b_int == 3)).all()\n",
    "    \n",
    "    exact_matches = (a_int == b_int)\n",
    "    if exact:\n",
    "        return exact_matches\n",
    "\n",
    "    assert exact == False\n",
    "    num_exact_matches = np.sum(exact_matches)\n",
    "    if (2*num_exact_matches) >= np.prod (a.shape):\n",
    "        return exact_matches\n",
    "    return exact_matches == False # Invert\n",
    "\n",
    "def count_matches(a, b, exact=False):\n",
    "    \"\"\"\n",
    "    Given two sets of {0, 1} labels, returns the number of mismatches.\n",
    "    \n",
    "    This function can consider \"inexact\" matches. That is, if `exact`\n",
    "    is False, then the function will assume the {0, 1} labels may be\n",
    "    regarded as similar up to a swapping of the labels. This feature\n",
    "    allows\n",
    "    \n",
    "      a == [0, 0, 1, 1, 0, 1, 1]\n",
    "      b == [1, 1, 0, 0, 1, 0, 0]\n",
    "      \n",
    "    to be regarded as equal. (That is, use `exact=False` when you\n",
    "    only care about \"relative\" labeling.)\n",
    "    \"\"\"\n",
    "    matches = mark_matches(a, b, exact=exact)\n",
    "    return np.sum(matches)\n",
    "\n",
    "clustering = kmedoids(points, 3, 2, medoids)\n",
    "df['clustering'] = clustering\n",
    "n_matches = count_matches(df['Type'], df['clustering'])\n",
    "print(n_matches,\n",
    "      \"matches out of\",\n",
    "      len(df), \"possible\",\n",
    "      \"(~ {:.1f}%)\".format(100.0 * n_matches / len(df)))\n",
    "\n",
    "assert n_matches >= 160\n",
    "print(\"\\n(Passed!)\")"
   ]
  },
  {
   "cell_type": "markdown",
   "metadata": {
    "deletable": false,
    "editable": false,
    "nbgrader": {
     "grade": false,
     "locked": true,
     "solution": false
    }
   },
   "source": [
    "This plot shows the clustering results of your k-medoid implementation"
   ]
  },
  {
   "cell_type": "code",
   "execution_count": null,
   "metadata": {
    "deletable": false,
    "editable": false,
    "nbgrader": {
     "grade": false,
     "locked": true,
     "solution": false
    }
   },
   "outputs": [],
   "source": [
    "y_true = df['Type'].values\n",
    "y_final_trans = np.ones(clustering.shape, 'int64')*-1\n",
    "for i in range(1,4):\n",
    "    y_final_trans[clustering == np.argmax(np.bincount(clustering[y_true==i]))] = i\n",
    "trace = go.Scatter3d(x=df['Asymmetry'],y=df['Groove'],z=df['Area'],mode='markers',marker=dict(size=6,color=y_final_trans,colorscale='Viridis',opacity=.8))\n",
    "layout = go.Layout(scene = dict(xaxis = dict(title='Asymmetry'),yaxis = dict(title='Groove'),zaxis = dict(title='Area')),margin=dict(l=0,r=0,b=0,t=0),showlegend=False)\n",
    "data = [trace];fig = go.Figure(data=data, layout=layout);iplot(fig)"
   ]
  },
  {
   "cell_type": "markdown",
   "metadata": {
    "deletable": false,
    "editable": false,
    "nbgrader": {
     "grade": false,
     "locked": true,
     "solution": false
    }
   },
   "source": [
    "The final visualization is a comparison of the original clusters with the k-medoid output.\n",
    "\n",
    "Gray points are matches between the original and your output.\n",
    "\n",
    "Using color and opacity, the other colors indicate the various combinations of mismatches.\n",
    "\n",
    "Not bad!"
   ]
  },
  {
   "cell_type": "code",
   "execution_count": null,
   "metadata": {
    "deletable": false,
    "editable": false,
    "nbgrader": {
     "grade": false,
     "locked": true,
     "solution": false
    }
   },
   "outputs": [],
   "source": [
    "y_true = df['Type'].values\n",
    "y_final_trans = np.ones(clustering.shape, 'int64')*-1\n",
    "for i in range(1,4):\n",
    "    y_final_trans[clustering == np.argmax(np.bincount(clustering[y_true==i]))] = i\n",
    "trace1 = go.Scatter3d(x=df['Asymmetry'],y=df['Groove'],z=df['Area'],mode='markers',marker=dict(size=6,color=df['Type'],colorscale=[[0.0,'rgb(255,255,0)'],[0.5,'rgb(0,255,255)'],[1.0,'rgb(255,0,255)']],opacity=.5))\n",
    "trace2 = go.Scatter3d(x=df['Asymmetry'],y=df['Groove'],z=df['Area'],mode='markers',marker=dict(size=6,color=y_final_trans,colorscale=[[0.0,'rgb(0,0,127)'],[0.5,'rgb(127,0,0)'],[1.0,'rgb(0,127,0)']],opacity=.5))\n",
    "layout = go.Layout(scene = dict(xaxis = dict(title='Asymmetry'),yaxis = dict(title='Groove'),zaxis = dict(title='Area')),margin=dict(l=0,r=0,b=0,t=0),showlegend=False)\n",
    "data = [trace1, trace2];fig = go.Figure(data=data, layout=layout);iplot(fig)"
   ]
  },
  {
   "cell_type": "markdown",
   "metadata": {
    "deletable": false,
    "editable": false,
    "nbgrader": {
     "grade": false,
     "locked": true,
     "solution": false
    }
   },
   "source": [
    "__Fin!__ That marks the end of this problem. Don't forget to submit it!"
   ]
  }
 ],
 "metadata": {
  "kernelspec": {
   "display_name": "Python 3",
   "language": "python",
   "name": "python3"
  },
  "language_info": {
   "codemirror_mode": {
    "name": "ipython",
    "version": 3
   },
   "file_extension": ".py",
   "mimetype": "text/x-python",
   "name": "python",
   "nbconvert_exporter": "python",
   "pygments_lexer": "ipython3",
   "version": "3.7.3"
  }
 },
 "nbformat": 4,
 "nbformat_minor": 2
}
