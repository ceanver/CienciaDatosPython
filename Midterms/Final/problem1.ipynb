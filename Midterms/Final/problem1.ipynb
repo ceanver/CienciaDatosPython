{
    "cells": [
        {
            "cell_type": "markdown",
            "metadata": {
                "nbgrader": {
                    "grade": false,
                    "locked": true,
                    "solution": false
                },
                "editable": false,
                "deletable": false
            },
            "source": [
                "## Problem 1: Classification"
            ]
        },
        {
            "cell_type": "markdown",
            "metadata": {
                "nbgrader": {
                    "grade": false,
                    "locked": true,
                    "solution": false
                },
                "editable": false,
                "deletable": false
            },
            "source": [
                "In this problem we are going to implement one of the most popular and simple classifcation algorithm and explore various metrics that are helpful in choosing the best classifcation model. "
            ]
        },
        {
            "cell_type": "markdown",
            "metadata": {
                "nbgrader": {
                    "grade": false,
                    "locked": true,
                    "solution": false
                },
                "editable": false,
                "deletable": false
            },
            "source": [
                "## K- Nearest Neighbours"
            ]
        },
        {
            "cell_type": "markdown",
            "metadata": {
                "nbgrader": {
                    "grade": false,
                    "locked": true,
                    "solution": false
                },
                "editable": false,
                "deletable": false
            },
            "source": [
                "KNN is one of the simplest machine learning algorithm anyone can think of. If you are given a database of examples (a training set), we will make predictions on future examples by finding the nearest points to them in the training set."
            ]
        },
        {
            "cell_type": "markdown",
            "metadata": {
                "nbgrader": {
                    "grade": false,
                    "locked": true,
                    "solution": false
                },
                "editable": false,
                "deletable": false
            },
            "source": [
                "Nearness can be measured in various ways. One of the most popular measure is the euclidean distance between the data points. \n",
                "More examples of distance measures include the Manhattan distance, Chebyshev distance etc. More on this [here](https:\/\/scikit-learn.org\/stable\/modules\/generated\/sklearn.neighbors.DistanceMetric.html).\n",
                "\n",
                "\n",
                "KNN is a non parametric method, meaning the number of parameters of the model is not fixed rather it depends on the training data. "
            ]
        },
        {
            "cell_type": "markdown",
            "metadata": {
                "nbgrader": {
                    "grade": false,
                    "locked": true,
                    "solution": false
                },
                "editable": false,
                "deletable": false
            },
            "source": [
                "**The algorithm** is quite simple. \n",
                "\n",
                "Given a set of data points $\\{X_1, X_2, .. X_m\\}$ with class labels  $\\{Y_1, Y_2, .. Y_m\\}$.\n",
                "\n",
                "Each $Y_i$ can be any of the predifined set of classes. Lets assume that any $Y_i$ could belong to classes $\\{ C_1,C_2...,C_m \\}$\n",
                "\n",
                "\n",
                "To classify any new point $X_{l'}$: \n",
                "1. Compute the distance of given $X_{l'}$ from all the data points  $\\{X_1, X_2, .. X_m\\}$ \n",
                "2. Find the K closest data points for the given $X_{l'}$. \n",
                "    1. Let $\\{X_{a1}, X_{a2}, .. X_{ak}\\}$  be the K closest points to $X_{l'}$. \n",
                "3. Out of these K closest points, find the majority class \n",
                "    1. i.e find $C_{j}$ such that frequency of $C_{j}$ in $\\{Y_{a1}, Y_{a2}, .. Y_{ak}\\}$ is maximum. \n",
                "    2. If there are multiple  $C_{j}$ with equal frequency, lets choose the class  $C_{j}$ with the smallest $j$\n",
                "\n"
            ]
        },
        {
            "cell_type": "markdown",
            "metadata": {
                "nbgrader": {
                    "grade": false,
                    "locked": true,
                    "solution": false
                },
                "editable": false,
                "deletable": false
            },
            "source": [
                "## Example "
            ]
        },
        {
            "cell_type": "markdown",
            "metadata": {
                "nbgrader": {
                    "grade": false,
                    "locked": true,
                    "solution": false
                },
                "editable": false,
                "deletable": false
            },
            "source": [
                "<img src=\"knn_example.png\" width=\"600\" height=\"500\" style=\"float:left\">"
            ]
        },
        {
            "cell_type": "markdown",
            "metadata": {
                "nbgrader": {
                    "grade": false,
                    "locked": true,
                    "solution": false
                },
                "editable": false,
                "deletable": false
            },
            "source": [
                "In this case K=5, $\\{C_1,C_2\\}$ = $\\{red,blue\\}$.\n",
                "To classify the first test sample. \n",
                "1. Compute the K closest points.\n",
                "    1. The   $\\{Y_{a1}, Y_{a2}, .. Y_{a5}\\}$ points would corresponding to $\\{red,red,red,red,blue\\}$\n",
                "2.  $C_{j}$ such that frequency of $C_{j}$ in $\\{Y_{a1}, Y_{a2}, .. Y_{a5}\\}$ is maximum is $\\{red\\}$\n",
                "3. Hence the new test sample will be classified as belonging to $\\{red\\}$"
            ]
        },
        {
            "cell_type": "markdown",
            "metadata": {
                "nbgrader": {
                    "grade": false,
                    "locked": true,
                    "solution": false
                },
                "editable": false,
                "deletable": false
            },
            "source": [
                "Lets start the implementation of the KNN algorithm. We will run the implemented algorithm on the popular Iris data set.\n",
                "\n",
                "** Note: ** For all the parts assume K is 3 until otherwise mentioned explicitly and all functions also assume K=3, K wont be anyother value. Your implementation can assume this as well."
            ]
        },
        {
            "cell_type": "code",
            "execution_count": null,
            "metadata": {
                "collapsed": true,
                "nbgrader": {
                    "grade": false,
                    "locked": true,
                    "solution": false
                },
                "editable": false,
                "deletable": false
            },
            "outputs": [],
            "source": [
                "import collections\n",
                "import numpy as np\n",
                "import pandas as pd"
            ]
        },
        {
            "cell_type": "markdown",
            "metadata": {
                "nbgrader": {
                    "grade": false,
                    "locked": true,
                    "solution": false
                },
                "editable": false,
                "deletable": false
            },
            "source": [
                "**NOTE** : All the test cases are hidden. However you can submit your solution and view whether your solution has passed or if therre is an error in the grading report."
            ]
        },
        {
            "cell_type": "markdown",
            "metadata": {
                "nbgrader": {
                    "grade": false,
                    "locked": true,
                    "solution": false
                },
                "editable": false,
                "deletable": false
            },
            "source": [
                "### Part 0:  Distance"
            ]
        },
        {
            "cell_type": "code",
            "execution_count": null,
            "metadata": {
                "collapsed": true,
                "nbgrader": {
                    "grade": false,
                    "locked": true,
                    "solution": false
                },
                "editable": false,
                "deletable": false
            },
            "outputs": [],
            "source": [
                "data=pd.read_csv('data.csv')"
            ]
        },
        {
            "cell_type": "code",
            "execution_count": null,
            "metadata": {
                "collapsed": true,
                "nbgrader": {
                    "grade": false,
                    "locked": true,
                    "solution": false
                },
                "editable": false,
                "deletable": false
            },
            "outputs": [],
            "source": [
                "train=data.head(100)\n",
                "test=data.tail(50)\n",
                "trainx=train[['sepallength', 'sepalwidth', 'petallength', 'petalwidth'] ]\n",
                "trainy=train[['type']]\n",
                "trainx=trainx.values.tolist()\n",
                "trainy=trainy.values.tolist()\n",
                "testx=test[['sepallength', 'sepalwidth', 'petallength', 'petalwidth'] ]\n",
                "testy=test[['type']]\n",
                "testx=testx.values.tolist()\n",
                "testy=testy.values.tolist()"
            ]
        },
        {
            "cell_type": "markdown",
            "metadata": {
                "nbgrader": {
                    "grade": false,
                    "locked": true,
                    "solution": false
                },
                "editable": false,
                "deletable": false
            },
            "source": [
                "** NOTE** : ** DO NOT MODIFY THESE DATA VARIABLES OR TEST CASES USE THEM AS PROVIDED**"
            ]
        },
        {
            "cell_type": "markdown",
            "metadata": {
                "nbgrader": {
                    "grade": false,
                    "locked": true,
                    "solution": false
                },
                "editable": false,
                "deletable": false
            },
            "source": [
                "Complete the function **distance** which computes and returns the distance between two data points x1,x2. \n",
                "\n",
                "The distance must be calculated using the formula: \n",
                "\n",
                "$ distance(x,y)=\\sqrt{(x_1-y_1)^{4}+(x_2-y_2)^{4}+..+(x_n-y_n)^{4}} $\n",
                "\n",
                "In our case n is 4 as there are 4 features\n",
                "\n",
                "The return value of the function **distance** is the distance, a floating point and not an int.\n",
                "\n",
                "\n",
                "A correct implementation will behave similar to below example:\n",
                "\n",
                "** Input:** v1,v2 (represented as lists)\n",
                "\n",
                "** call:**  distance([1,3.4],[4.4,3.1])\n",
                "\n",
                "** output: **  11.560350340712 \n",
                "\n",
                "** NOTE **: This distance function is not a standard one and not Euclidean either"
            ]
        },
        {
            "cell_type": "code",
            "execution_count": null,
            "metadata": {
                "collapsed": true
            },
            "outputs": [],
            "source": [
                "def distance(v1, v2):\n",
                "    ###\n",
                "    ### YOUR CODE HERE\n",
                "    ###\n"
            ]
        },
        {
            "cell_type": "code",
            "execution_count": null,
            "metadata": {
                "collapsed": true,
                "nbgrader": {
                    "grade": true,
                    "grade_id": "distance",
                    "locked": true,
                    "points": "1",
                    "solution": false
                },
                "editable": false,
                "deletable": false
            },
            "outputs": [],
            "source": [
                "###\n",
                "### AUTOGRADER TEST - DO NOT REMOVE\n",
                "###\n"
            ]
        },
        {
            "cell_type": "markdown",
            "metadata": {
                "nbgrader": {
                    "grade": false,
                    "locked": true,
                    "solution": false
                },
                "editable": false,
                "deletable": false
            },
            "source": [
                "## Part 1: Total Distance"
            ]
        },
        {
            "cell_type": "markdown",
            "metadata": {
                "nbgrader": {
                    "grade": false,
                    "locked": true,
                    "solution": false
                },
                "editable": false,
                "deletable": false
            },
            "source": [
                "Complete the function distanceFromAll that returns the distances of the given point $X_i$ to that of all the points in the training set along with the corresponding label of the point. \n",
                "\n",
                "The return format is a list of tuples with first element as the distance and second element of the tuple to be the label of data point in trainx with which the distance is being computed.\n",
                "\n",
                "ex: [ ($ dist_{ij},label_{j} $) ]\n",
                "\n",
                "where \n",
                "\n",
                "$label_{ij}$ is the distance of $x_i$ from point $x_j$ in trainx and $label_j$ is the label corresponding to $x_j$"
            ]
        },
        {
            "cell_type": "markdown",
            "metadata": {
                "nbgrader": {
                    "grade": false,
                    "locked": true,
                    "solution": false
                },
                "editable": false,
                "deletable": false
            },
            "source": [
                "A correct implementation will behave similar to below example:\n",
                "\n",
                "** Input:** xi:list, trainx: list of lists, trainy: list of lists\n",
                "\n",
                "** call:**  distanceFromAll(xi,trainx[1:5],trainy[1:5])\n",
                "\n",
                "** output: ** \n",
                "    [(2.962549820288542, [0]),\n",
                "     (6.072898981323004, [2]),\n",
                "     (1.2612295588036295, [2]),\n",
                "     (22.488714527622644, [1])]    : list of tuples \n"
            ]
        },
        {
            "cell_type": "code",
            "execution_count": null,
            "metadata": {
                "collapsed": true
            },
            "outputs": [],
            "source": [
                "def distanceFromAll(xi,trainx,trainy):\n",
                "    ###\n",
                "    ### YOUR CODE HERE\n",
                "    ###\n"
            ]
        },
        {
            "cell_type": "code",
            "execution_count": null,
            "metadata": {
                "collapsed": true,
                "nbgrader": {
                    "grade": true,
                    "grade_id": "distance_all",
                    "locked": true,
                    "points": "1",
                    "solution": false
                },
                "editable": false,
                "deletable": false
            },
            "outputs": [],
            "source": [
                "###\n",
                "### AUTOGRADER TEST - DO NOT REMOVE\n",
                "###\n"
            ]
        },
        {
            "cell_type": "markdown",
            "metadata": {},
            "source": [
                "## Part 2: KNN"
            ]
        },
        {
            "cell_type": "markdown",
            "metadata": {},
            "source": [
                "Now that we have all the core functions ready, we are ready to implement the main KNN algorithm. \n",
                "Complete the function predictKNN which computes the KNN prediction for given $X_i$. The function **predictKNN** should return the prediction for given input $x_i$, K and train data. "
            ]
        },
        {
            "cell_type": "markdown",
            "metadata": {},
            "source": [
                "A correct implementation will behave similar to below example:\n",
                "\n",
                "** Input:** xi: list, trainx: list of lists, trainy: list of list, k: integer\n",
                "\n",
                "** call:**  predictKNN(trainx[0],trainx,trainy)\n",
                "\n",
                "** output: **  2: integer\n",
                "        \n"
            ]
        },
        {
            "cell_type": "code",
            "execution_count": null,
            "metadata": {
                "collapsed": true,
                "nbgrader": {
                    "grade": false,
                    "locked": false,
                    "solution": false
                }
            },
            "outputs": [],
            "source": [
                "def predictKNN(xi,trainx,trainy,k=3):\n",
                "    ###\n",
                "    ### YOUR CODE HERE\n",
                "    ###\n"
            ]
        },
        {
            "cell_type": "code",
            "execution_count": null,
            "metadata": {
                "collapsed": true,
                "nbgrader": {
                    "grade": true,
                    "grade_id": "knn",
                    "locked": true,
                    "points": "3",
                    "solution": false
                },
                "editable": false,
                "deletable": false
            },
            "outputs": [],
            "source": [
                "###\n",
                "### AUTOGRADER TEST - DO NOT REMOVE\n",
                "###\n"
            ]
        },
        {
            "cell_type": "markdown",
            "metadata": {
                "nbgrader": {
                    "grade": false,
                    "locked": true,
                    "solution": false
                },
                "editable": false,
                "deletable": false
            },
            "source": [
                "## Evaluating KNN"
            ]
        },
        {
            "cell_type": "markdown",
            "metadata": {
                "nbgrader": {
                    "grade": false,
                    "locked": true,
                    "solution": false
                },
                "editable": false,
                "deletable": false
            },
            "source": [
                "Congrats on implementing one of your first classification algorithm from scratch. Now that we have the algorithm coded up, you should ask yourself how good is the model. \n",
                "\n",
                "Well there are many ways to measure the goodness of a classifcation algorithm. One obvious metric is accuracy, which tells you how many of the predictions are correct. \n",
                "But not every time accuracy is a preffered measure. Meseaures like precision and recall are more relevant than accuracy in some contexts. \n",
                "\n",
                "More on this [here](https:\/\/towardsdatascience.com\/beyond-accuracy-precision-and-recall-3da06bea9f6c)\n",
                "\n",
                "**True positives** : Number of items correctly labeled as belonging to the positive class.\n",
                "\n",
                "**False positives**: Number of items incorrectly labeled as belonging to the positive class. \n",
                "\n",
                "**True Negatives**: Number of items correctly labeled as belonging to the negative class.\n",
                "\n",
                "**False Negatives**: Number of items incorrectly labeled as belonging to negative class. "
            ]
        },
        {
            "cell_type": "markdown",
            "metadata": {
                "nbgrader": {
                    "grade": false,
                    "locked": true,
                    "solution": false
                },
                "editable": false,
                "deletable": false
            },
            "source": [
                "## Part 3: Confusion Matrix"
            ]
        },
        {
            "cell_type": "markdown",
            "metadata": {},
            "source": [
                "Most of the metrics in classification setting can be inferred from the confusion matrix.  So lets implement the function **confusion** to compute the confusion matrix given predicted labels and the actual labels. \n",
                "\n",
                "\n",
                "In a confusion matrix each row of the matrix represents the instances in a predicted class while each column represents the instances in an actual class. \n",
                "\n",
                "An example of a confusion matrix :\n",
                "\n",
                "<img src=\".\/confusion.jpg\" width=\"300\" height=\"300\" style=\"float:left\">\n"
            ]
        },
        {
            "cell_type": "markdown",
            "metadata": {
                "nbgrader": {
                    "grade": false,
                    "locked": true,
                    "solution": false
                },
                "editable": false,
                "deletable": false
            },
            "source": [
                "Each entry (i,j) in confusion matrix has the number of points of class $j$ that are actually predicted as $i$"
            ]
        },
        {
            "cell_type": "markdown",
            "metadata": {
                "nbgrader": {
                    "grade": false,
                    "locked": true,
                    "solution": false
                },
                "editable": false,
                "deletable": false
            },
            "source": [
                "Complete the function **confusion** to compute the confusion matrix for number of classes equal to 3. The function should return the confusion matrix as an array. "
            ]
        },
        {
            "cell_type": "markdown",
            "metadata": {
                "nbgrader": {
                    "grade": false,
                    "locked": true,
                    "solution": false
                },
                "editable": false,
                "deletable": false
            },
            "source": [
                "A correct implementation will behave similar to below example:\n",
                "\n",
                "** Input:** predicted: list of labesl(integers), actual: list of labels(integers)\n",
                "\n",
                "** call:**  confusion(pred,actual)\n",
                "\n",
                "** output: ** :                [[1.  3.  1.]\n",
                "                 [ 3. 21.  4.]\n",
                "                 [ 5.  23. 5.]]   : 3X3 numpy array\n",
                "        \n"
            ]
        },
        {
            "cell_type": "code",
            "execution_count": null,
            "metadata": {
                "collapsed": true
            },
            "outputs": [],
            "source": [
                "def confusion(predicted,actual):\n",
                "    ###\n",
                "    ### YOUR CODE HERE\n",
                "    ###\n"
            ]
        },
        {
            "cell_type": "code",
            "execution_count": null,
            "metadata": {
                "collapsed": true,
                "nbgrader": {
                    "grade": true,
                    "grade_id": "confusion",
                    "locked": true,
                    "points": "2",
                    "solution": false
                },
                "editable": false,
                "deletable": false
            },
            "outputs": [],
            "source": [
                "###\n",
                "### AUTOGRADER TEST - DO NOT REMOVE\n",
                "###\n"
            ]
        },
        {
            "cell_type": "markdown",
            "metadata": {
                "nbgrader": {
                    "grade": false,
                    "locked": true,
                    "solution": false
                },
                "editable": false,
                "deletable": false
            },
            "source": [
                "Now that you have confusion matrix you can use it to compute various metrics to evaluate the built classification model in any context. "
            ]
        },
        {
            "cell_type": "markdown",
            "metadata": {
                "nbgrader": {
                    "grade": false,
                    "locked": true,
                    "solution": false
                },
                "editable": false,
                "deletable": false
            },
            "source": [
                "**Fin!** You've reached the end of this problem. Don't forget to restart the\n",
                "kernel and run the entire notebook from top-to-bottom to make sure you did\n",
                "everything correctly. If that is working, try submitting this problem. (Recall\n",
                "that you *must* submit and pass the autograder to get credit for your work!)"
            ]
        }
    ],
    "metadata": {
        "kernelspec": {
            "display_name": "Python 3 [3.6]",
            "language": "python",
            "name": "python3"
        },
        "language_info": {
            "codemirror_mode": {
                "name": "ipython",
                "version": 3
            },
            "file_extension": ".py",
            "mimetype": "text\/x-python",
            "name": "python",
            "nbconvert_exporter": "python",
            "pygments_lexer": "ipython3",
            "version": "3.6.4"
        }
    },
    "nbformat": 4,
    "nbformat_minor": 2
}